{
 "cells": [
  {
   "cell_type": "markdown",
   "id": "698fd0b6",
   "metadata": {},
   "source": [
    "# CS5228 Project - Task 3 Open Task\n",
    "\n",
    "This part is divided into two sub-tasks:\n",
    "1.\tUsing the car resale transactions data, we do an in-depth analysis of past transactions by fetching additional data from SgCarMart site to identify profitable and non-profitable listings. \n",
    "2.\tWe also analyzed the interest of Singapore car-buyers in eco-friendly cars. \n"
   ]
  },
  {
   "cell_type": "code",
   "execution_count": 1,
   "id": "fa56369f",
   "metadata": {
    "execution": {
     "iopub.execute_input": "2021-11-14T13:42:38.192896Z",
     "iopub.status.busy": "2021-11-14T13:42:38.192515Z",
     "iopub.status.idle": "2021-11-14T13:42:38.312139Z",
     "shell.execute_reply": "2021-11-14T13:42:38.311350Z",
     "shell.execute_reply.started": "2021-11-14T13:42:38.192801Z"
    },
    "tags": []
   },
   "outputs": [],
   "source": [
    "import sys\n",
    "\n",
    "sys.path.append(\"..\")"
   ]
  },
  {
   "cell_type": "code",
   "execution_count": 2,
   "id": "db190fbd",
   "metadata": {
    "execution": {
     "iopub.execute_input": "2021-11-14T13:42:38.313273Z",
     "iopub.status.busy": "2021-11-14T13:42:38.312995Z",
     "iopub.status.idle": "2021-11-14T13:42:40.395192Z",
     "shell.execute_reply": "2021-11-14T13:42:40.394387Z",
     "shell.execute_reply.started": "2021-11-14T13:42:38.313246Z"
    },
    "tags": []
   },
   "outputs": [],
   "source": [
    "import pandas as pd\n",
    "\n",
    "from src.transformers import *\n",
    "from sklearn.compose import ColumnTransformer\n",
    "from sklearn.preprocessing import OneHotEncoder\n",
    "from sklearn.impute import SimpleImputer\n",
    "from sklearn.preprocessing import MinMaxScaler\n",
    "from scipy.stats import loguniform\n",
    "from sklearn.model_selection import RandomizedSearchCV, GridSearchCV\n",
    "from sklearn.ensemble import (\n",
    "    RandomForestRegressor,\n",
    "    GradientBoostingRegressor,\n",
    "    BaggingRegressor,\n",
    ")\n",
    "from sklearn.linear_model import Ridge\n",
    "from sklearn.neighbors import KNeighborsRegressor\n",
    "from sklearn.metrics import mean_squared_error\n",
    "import matplotlib.pyplot as plt\n",
    "import seaborn as sns\n",
    "\n",
    "%matplotlib inline"
   ]
  },
  {
   "cell_type": "markdown",
   "id": "e8a156ec",
   "metadata": {},
   "source": [
    "### Load processed dataset from Task1"
   ]
  },
  {
   "cell_type": "code",
   "execution_count": 3,
   "id": "dba82ced",
   "metadata": {
    "execution": {
     "iopub.execute_input": "2021-11-14T13:42:40.398056Z",
     "iopub.status.busy": "2021-11-14T13:42:40.397738Z",
     "iopub.status.idle": "2021-11-14T13:42:40.903036Z",
     "shell.execute_reply": "2021-11-14T13:42:40.902211Z",
     "shell.execute_reply.started": "2021-11-14T13:42:40.398015Z"
    },
    "tags": []
   },
   "outputs": [],
   "source": [
    "train = pd.read_csv(\"../data/processed/train.csv\", sep=\",\")\n",
    "test = pd.read_csv(\"../data/processed/test.csv\", sep=\",\")"
   ]
  },
  {
   "cell_type": "markdown",
   "id": "ffe18b56",
   "metadata": {},
   "source": [
    "1. [Analyzing most (un)-profitable cars for SgCarMart](#task1)\n",
    "\n",
    "2. [Analyzing Eco Friendly Cars](#task2)\n",
    "\n",
    "3. [Scarpper to fetch the status and new prices of the listing-ids](#scrapper)\n"
   ]
  },
  {
   "cell_type": "markdown",
   "id": "e082a014",
   "metadata": {},
   "source": [
    "<a id='task1'></a>\n",
    "### 1. Analyzing most (un)-profitable cars for SgCarMart"
   ]
  },
  {
   "cell_type": "markdown",
   "id": "fb7c08d2",
   "metadata": {},
   "source": [
    "The purpose of this task is to do an in-depth analysis of past transactions to find out most profitable and non-profitable cars for SgCarMart. We assume that SgCarMart’s revenue comes from transactions buy/sell that takes place on their website. A profitable listing could be defined as the one whose time from listing to transaction is less. And a listing which is there for a long period of time and unable to sell would be considered as a non-profitable listing/car. To identify the factors that lead to a quick transaction, we should analyze the user behavior and how a user perceives any listing. In general, a listing will have high value if it has a higher perceived value for the buyer."
   ]
  },
  {
   "cell_type": "code",
   "execution_count": 4,
   "id": "66c8c1fb",
   "metadata": {
    "execution": {
     "iopub.execute_input": "2021-11-14T13:42:40.904388Z",
     "iopub.status.busy": "2021-11-14T13:42:40.904057Z",
     "iopub.status.idle": "2021-11-14T13:42:40.927463Z",
     "shell.execute_reply": "2021-11-14T13:42:40.926850Z",
     "shell.execute_reply.started": "2021-11-14T13:42:40.904364Z"
    },
    "tags": []
   },
   "outputs": [],
   "source": [
    "train_price_path = \"../data/other/current_train_prices.csv\"\n",
    "p = pd.read_csv(train_price_path, header=None)\n",
    "train[\"cp\"] = p[1]\n",
    "train[\"sold\"] = train.cp == \"N.A\" * 1"
   ]
  },
  {
   "cell_type": "markdown",
   "id": "c8dd9975",
   "metadata": {},
   "source": [
    "### Identifying the most fast-selling car models \n",
    "\n",
    "We analyzed all the car models which have been sold recently and identified the models which have been sold more than 80 percent of the total available listings of that model. For. E.g., based on the plot, we can start recommending our users bmw-x1, Mercedes-benz-gla180, etc. cars which are selling fast and only a limited listings are available."
   ]
  },
  {
   "cell_type": "code",
   "execution_count": 5,
   "id": "8499dd5c",
   "metadata": {
    "execution": {
     "iopub.execute_input": "2021-11-14T13:42:40.928468Z",
     "iopub.status.busy": "2021-11-14T13:42:40.928267Z",
     "iopub.status.idle": "2021-11-14T13:42:41.226107Z",
     "shell.execute_reply": "2021-11-14T13:42:41.225358Z",
     "shell.execute_reply.started": "2021-11-14T13:42:40.928438Z"
    },
    "tags": []
   },
   "outputs": [
    {
     "data": {
      "image/png": "[encoded data removed]",
      "text/plain": [
       "<Figure size 432x288 with 1 Axes>"
      ]
     },
     "metadata": {
      "needs_background": "light"
     },
     "output_type": "display_data"
    }
   ],
   "source": [
    "a = (\n",
    "    train.groupby([\"make\", \"model\"])\n",
    "    .agg({\"sold\": [np.sum], \"listing_id\": [np.size]})\n",
    "    .reset_index()\n",
    "    .sort_values(by=[(\"listing_id\", \"size\")], ascending=False)\n",
    ")\n",
    "a.columns = [\"make\", \"model\", \"sold\", \"total\"]\n",
    "\n",
    "a = a[(a.sold / a.total > 0.8) & (a.total > 20)]\n",
    "a = pd.melt(a, id_vars=[\"make\", \"model\"], var_name=\"status\", value_name=\"value\")\n",
    "a[\"car_name\"] = a.make + \"-\" + a.model\n",
    "\n",
    "sns.barplot(data=a, x=\"car_name\", y=\"value\", hue=\"status\")\n",
    "_ = plt.xticks(rotation=90)"
   ]
  },
  {
   "cell_type": "code",
   "execution_count": 6,
   "id": "ea2276bf",
   "metadata": {
    "execution": {
     "iopub.execute_input": "2021-11-14T13:42:41.227888Z",
     "iopub.status.busy": "2021-11-14T13:42:41.227396Z",
     "iopub.status.idle": "2021-11-14T13:42:41.275996Z",
     "shell.execute_reply": "2021-11-14T13:42:41.275196Z",
     "shell.execute_reply.started": "2021-11-14T13:42:41.227858Z"
    }
   },
   "outputs": [
    {
     "data": {
      "text/html": [
       "<div>\n",
       "<style scoped>\n",
       "    .dataframe tbody tr th:only-of-type {\n",
       "        vertical-align: middle;\n",
       "    }\n",
       "\n",
       "    .dataframe tbody tr th {\n",
       "        vertical-align: top;\n",
       "    }\n",
       "\n",
       "    .dataframe thead th {\n",
       "        text-align: right;\n",
       "    }\n",
       "</style>\n",
       "<table border=\"1\" class=\"dataframe\">\n",
       "  <thead>\n",
       "    <tr style=\"text-align: right;\">\n",
       "      <th></th>\n",
       "      <th>sold</th>\n",
       "      <th>make</th>\n",
       "      <th>model</th>\n",
       "    </tr>\n",
       "  </thead>\n",
       "  <tbody>\n",
       "    <tr>\n",
       "      <th>185</th>\n",
       "      <td>0</td>\n",
       "      <td>hafei</td>\n",
       "      <td>minz</td>\n",
       "    </tr>\n",
       "    <tr>\n",
       "      <th>487</th>\n",
       "      <td>0</td>\n",
       "      <td>nissan</td>\n",
       "      <td>nv100</td>\n",
       "    </tr>\n",
       "    <tr>\n",
       "      <th>335</th>\n",
       "      <td>0</td>\n",
       "      <td>maxus</td>\n",
       "      <td>g10</td>\n",
       "    </tr>\n",
       "    <tr>\n",
       "      <th>490</th>\n",
       "      <td>0</td>\n",
       "      <td>nissan</td>\n",
       "      <td>nv250</td>\n",
       "    </tr>\n",
       "    <tr>\n",
       "      <th>492</th>\n",
       "      <td>0</td>\n",
       "      <td>nissan</td>\n",
       "      <td>presage</td>\n",
       "    </tr>\n",
       "    <tr>\n",
       "      <th>...</th>\n",
       "      <td>...</td>\n",
       "      <td>...</td>\n",
       "      <td>...</td>\n",
       "    </tr>\n",
       "    <tr>\n",
       "      <th>289</th>\n",
       "      <td>246</td>\n",
       "      <td>kia</td>\n",
       "      <td>cerato</td>\n",
       "    </tr>\n",
       "    <tr>\n",
       "      <th>198</th>\n",
       "      <td>255</td>\n",
       "      <td>honda</td>\n",
       "      <td>civic</td>\n",
       "    </tr>\n",
       "    <tr>\n",
       "      <th>218</th>\n",
       "      <td>269</td>\n",
       "      <td>honda</td>\n",
       "      <td>vezel</td>\n",
       "    </tr>\n",
       "    <tr>\n",
       "      <th>370</th>\n",
       "      <td>278</td>\n",
       "      <td>mercedes-benz</td>\n",
       "      <td>amg</td>\n",
       "    </tr>\n",
       "    <tr>\n",
       "      <th>618</th>\n",
       "      <td>341</td>\n",
       "      <td>toyota</td>\n",
       "      <td>corolla</td>\n",
       "    </tr>\n",
       "  </tbody>\n",
       "</table>\n",
       "<p>696 rows × 3 columns</p>\n",
       "</div>"
      ],
      "text/plain": [
       "     sold           make    model\n",
       "185     0          hafei     minz\n",
       "487     0         nissan    nv100\n",
       "335     0          maxus      g10\n",
       "490     0         nissan    nv250\n",
       "492     0         nissan  presage\n",
       "..    ...            ...      ...\n",
       "289   246            kia   cerato\n",
       "198   255          honda    civic\n",
       "218   269          honda    vezel\n",
       "370   278  mercedes-benz      amg\n",
       "618   341         toyota  corolla\n",
       "\n",
       "[696 rows x 3 columns]"
      ]
     },
     "execution_count": 6,
     "metadata": {},
     "output_type": "execute_result"
    }
   ],
   "source": [
    "train.groupby([\"make\", \"model\"]).sum().reset_index()[\n",
    "    [\"sold\", \"make\", \"model\"]\n",
    "].sort_values(by=[\"sold\"])"
   ]
  },
  {
   "cell_type": "code",
   "execution_count": 7,
   "id": "4c0d1b2d",
   "metadata": {
    "execution": {
     "iopub.execute_input": "2021-11-14T13:42:41.278006Z",
     "iopub.status.busy": "2021-11-14T13:42:41.277607Z",
     "iopub.status.idle": "2021-11-14T13:42:41.329783Z",
     "shell.execute_reply": "2021-11-14T13:42:41.328976Z",
     "shell.execute_reply.started": "2021-11-14T13:42:41.277974Z"
    }
   },
   "outputs": [
    {
     "data": {
      "text/html": [
       "<div>\n",
       "<style scoped>\n",
       "    .dataframe tbody tr th:only-of-type {\n",
       "        vertical-align: middle;\n",
       "    }\n",
       "\n",
       "    .dataframe tbody tr th {\n",
       "        vertical-align: top;\n",
       "    }\n",
       "\n",
       "    .dataframe thead th {\n",
       "        text-align: right;\n",
       "    }\n",
       "</style>\n",
       "<table border=\"1\" class=\"dataframe\">\n",
       "  <thead>\n",
       "    <tr style=\"text-align: right;\">\n",
       "      <th></th>\n",
       "      <th>listing_id</th>\n",
       "      <th>make</th>\n",
       "      <th>model</th>\n",
       "    </tr>\n",
       "  </thead>\n",
       "  <tbody>\n",
       "    <tr>\n",
       "      <th>0</th>\n",
       "      <td>1</td>\n",
       "      <td>alfa romeo</td>\n",
       "      <td>159</td>\n",
       "    </tr>\n",
       "    <tr>\n",
       "      <th>694</th>\n",
       "      <td>1</td>\n",
       "      <td>yutong</td>\n",
       "      <td>zk6100h</td>\n",
       "    </tr>\n",
       "    <tr>\n",
       "      <th>341</th>\n",
       "      <td>1</td>\n",
       "      <td>mazda</td>\n",
       "      <td>cx-7</td>\n",
       "    </tr>\n",
       "    <tr>\n",
       "      <th>340</th>\n",
       "      <td>1</td>\n",
       "      <td>mazda</td>\n",
       "      <td>cx-3</td>\n",
       "    </tr>\n",
       "    <tr>\n",
       "      <th>336</th>\n",
       "      <td>1</td>\n",
       "      <td>maxus</td>\n",
       "      <td>v80</td>\n",
       "    </tr>\n",
       "    <tr>\n",
       "      <th>...</th>\n",
       "      <td>...</td>\n",
       "      <td>...</td>\n",
       "      <td>...</td>\n",
       "    </tr>\n",
       "    <tr>\n",
       "      <th>289</th>\n",
       "      <td>353</td>\n",
       "      <td>kia</td>\n",
       "      <td>cerato</td>\n",
       "    </tr>\n",
       "    <tr>\n",
       "      <th>198</th>\n",
       "      <td>379</td>\n",
       "      <td>honda</td>\n",
       "      <td>civic</td>\n",
       "    </tr>\n",
       "    <tr>\n",
       "      <th>218</th>\n",
       "      <td>389</td>\n",
       "      <td>honda</td>\n",
       "      <td>vezel</td>\n",
       "    </tr>\n",
       "    <tr>\n",
       "      <th>618</th>\n",
       "      <td>477</td>\n",
       "      <td>toyota</td>\n",
       "      <td>corolla</td>\n",
       "    </tr>\n",
       "    <tr>\n",
       "      <th>370</th>\n",
       "      <td>575</td>\n",
       "      <td>mercedes-benz</td>\n",
       "      <td>amg</td>\n",
       "    </tr>\n",
       "  </tbody>\n",
       "</table>\n",
       "<p>696 rows × 3 columns</p>\n",
       "</div>"
      ],
      "text/plain": [
       "     listing_id           make    model\n",
       "0             1     alfa romeo      159\n",
       "694           1         yutong  zk6100h\n",
       "341           1          mazda     cx-7\n",
       "340           1          mazda     cx-3\n",
       "336           1          maxus      v80\n",
       "..          ...            ...      ...\n",
       "289         353            kia   cerato\n",
       "198         379          honda    civic\n",
       "218         389          honda    vezel\n",
       "618         477         toyota  corolla\n",
       "370         575  mercedes-benz      amg\n",
       "\n",
       "[696 rows x 3 columns]"
      ]
     },
     "execution_count": 7,
     "metadata": {},
     "output_type": "execute_result"
    }
   ],
   "source": [
    "train.groupby([\"make\", \"model\"]).count().reset_index()[\n",
    "    [\"listing_id\", \"make\", \"model\"]\n",
    "].sort_values(by=[\"listing_id\"])"
   ]
  },
  {
   "cell_type": "markdown",
   "id": "db9859a7",
   "metadata": {},
   "source": [
    "### Analyzing low-selling cars and identifying possible reasons"
   ]
  },
  {
   "cell_type": "markdown",
   "id": "c580f364",
   "metadata": {},
   "source": [
    "Here, we analyzed one of the popular car models, Mercedes-Benz AMG and filtered out listings that have been manufactured in the same year and are similar to each other. We can observe that beyond the highlighted area that are many unsold cars and within the highlighted area most are sold. The unsold listings have been put with a higher price compared to other cars of the same model and hence, are not finding a buyer."
   ]
  },
  {
   "cell_type": "code",
   "execution_count": 8,
   "id": "bd8fea1c",
   "metadata": {
    "execution": {
     "iopub.execute_input": "2021-11-14T13:42:41.331187Z",
     "iopub.status.busy": "2021-11-14T13:42:41.330959Z",
     "iopub.status.idle": "2021-11-14T13:42:41.521474Z",
     "shell.execute_reply": "2021-11-14T13:42:41.520703Z",
     "shell.execute_reply.started": "2021-11-14T13:42:41.331160Z"
    },
    "tags": []
   },
   "outputs": [
    {
     "data": {
      "image/png": "[encoded data removed]",
      "text/plain": [
       "<Figure size 432x288 with 1 Axes>"
      ]
     },
     "metadata": {
      "needs_background": "light"
     },
     "output_type": "display_data"
    }
   ],
   "source": [
    "a = train[\n",
    "    (train.make == \"mercedes-benz\")\n",
    "    & (train.model == \"amg\")\n",
    "    & (train.manufactured == 2019)\n",
    "][[\"listing_id\", \"price\", \"sold\"]]\n",
    "a[\"id\"] = list(range(a.shape[0]))\n",
    "sns.scatterplot(data=a, x=\"id\", y=\"price\", hue=\"sold\")\n",
    "plt.axhspan(150000, 400000, color=\"red\", alpha=0.3)\n",
    "_ = plt.xlabel(\"Mercedes-Benz AMG\")"
   ]
  },
  {
   "cell_type": "markdown",
   "id": "eab012f0",
   "metadata": {},
   "source": [
    "### Models whose prices have dropped significantly recently"
   ]
  },
  {
   "cell_type": "code",
   "execution_count": 9,
   "id": "33e69871",
   "metadata": {
    "execution": {
     "iopub.execute_input": "2021-11-14T13:42:41.522913Z",
     "iopub.status.busy": "2021-11-14T13:42:41.522668Z",
     "iopub.status.idle": "2021-11-14T13:42:48.413888Z",
     "shell.execute_reply": "2021-11-14T13:42:48.412952Z",
     "shell.execute_reply.started": "2021-11-14T13:42:41.522888Z"
    }
   },
   "outputs": [],
   "source": [
    "count = 0\n",
    "for i in range(train.shape[0]):\n",
    "    cp = train.iloc[i].cp\n",
    "    price = train.iloc[i].price\n",
    "    if f\"{cp}\".isdigit():\n",
    "        cp = float(cp)\n",
    "        if price - cp > 0:\n",
    "            count = count + 1\n",
    "            train.loc[i, \"is_reduced\"] = 1\n",
    "            train.loc[i, \"reduced_percent\"] = cp / price"
   ]
  },
  {
   "cell_type": "code",
   "execution_count": 10,
   "id": "be18bcaa",
   "metadata": {
    "execution": {
     "iopub.execute_input": "2021-11-14T13:42:48.415424Z",
     "iopub.status.busy": "2021-11-14T13:42:48.415027Z",
     "iopub.status.idle": "2021-11-14T13:42:48.443743Z",
     "shell.execute_reply": "2021-11-14T13:42:48.442960Z",
     "shell.execute_reply.started": "2021-11-14T13:42:48.415397Z"
    }
   },
   "outputs": [
    {
     "data": {
      "text/html": [
       "<div>\n",
       "<style scoped>\n",
       "    .dataframe tbody tr th:only-of-type {\n",
       "        vertical-align: middle;\n",
       "    }\n",
       "\n",
       "    .dataframe tbody tr th {\n",
       "        vertical-align: top;\n",
       "    }\n",
       "\n",
       "    .dataframe thead th {\n",
       "        text-align: right;\n",
       "    }\n",
       "</style>\n",
       "<table border=\"1\" class=\"dataframe\">\n",
       "  <thead>\n",
       "    <tr style=\"text-align: right;\">\n",
       "      <th></th>\n",
       "      <th>listing_id</th>\n",
       "      <th>make</th>\n",
       "      <th>model</th>\n",
       "      <th>reduced_percent</th>\n",
       "      <th>price</th>\n",
       "      <th>cp</th>\n",
       "    </tr>\n",
       "  </thead>\n",
       "  <tbody>\n",
       "    <tr>\n",
       "      <th>1745</th>\n",
       "      <td>1005306</td>\n",
       "      <td>kia</td>\n",
       "      <td>cerato</td>\n",
       "      <td>0.225071</td>\n",
       "      <td>70200.0</td>\n",
       "      <td>15800</td>\n",
       "    </tr>\n",
       "    <tr>\n",
       "      <th>13041</th>\n",
       "      <td>1022998</td>\n",
       "      <td>jeep</td>\n",
       "      <td>patriot</td>\n",
       "      <td>0.262349</td>\n",
       "      <td>91100.0</td>\n",
       "      <td>23900</td>\n",
       "    </tr>\n",
       "    <tr>\n",
       "      <th>11626</th>\n",
       "      <td>992382</td>\n",
       "      <td>mazda</td>\n",
       "      <td>3</td>\n",
       "      <td>0.305040</td>\n",
       "      <td>75400.0</td>\n",
       "      <td>23000</td>\n",
       "    </tr>\n",
       "    <tr>\n",
       "      <th>2038</th>\n",
       "      <td>1002783</td>\n",
       "      <td>volvo</td>\n",
       "      <td>s60</td>\n",
       "      <td>0.324848</td>\n",
       "      <td>82500.0</td>\n",
       "      <td>26800</td>\n",
       "    </tr>\n",
       "    <tr>\n",
       "      <th>909</th>\n",
       "      <td>1021736</td>\n",
       "      <td>honda</td>\n",
       "      <td>fit</td>\n",
       "      <td>0.362827</td>\n",
       "      <td>93400.0</td>\n",
       "      <td>33888</td>\n",
       "    </tr>\n",
       "    <tr>\n",
       "      <th>...</th>\n",
       "      <td>...</td>\n",
       "      <td>...</td>\n",
       "      <td>...</td>\n",
       "      <td>...</td>\n",
       "      <td>...</td>\n",
       "      <td>...</td>\n",
       "    </tr>\n",
       "    <tr>\n",
       "      <th>1588</th>\n",
       "      <td>1024726</td>\n",
       "      <td>mercedes-benz</td>\n",
       "      <td>glc300</td>\n",
       "      <td>0.997931</td>\n",
       "      <td>247500.0</td>\n",
       "      <td>246988</td>\n",
       "    </tr>\n",
       "    <tr>\n",
       "      <th>11819</th>\n",
       "      <td>1007086</td>\n",
       "      <td>honda</td>\n",
       "      <td>civic</td>\n",
       "      <td>0.998587</td>\n",
       "      <td>212300.0</td>\n",
       "      <td>212000</td>\n",
       "    </tr>\n",
       "    <tr>\n",
       "      <th>15827</th>\n",
       "      <td>967688</td>\n",
       "      <td>mercedes-benz</td>\n",
       "      <td>e220</td>\n",
       "      <td>0.999132</td>\n",
       "      <td>244200.0</td>\n",
       "      <td>243988</td>\n",
       "    </tr>\n",
       "    <tr>\n",
       "      <th>1020</th>\n",
       "      <td>990992</td>\n",
       "      <td>mercedes-benz</td>\n",
       "      <td>amg</td>\n",
       "      <td>0.999524</td>\n",
       "      <td>209900.0</td>\n",
       "      <td>209800</td>\n",
       "    </tr>\n",
       "    <tr>\n",
       "      <th>11405</th>\n",
       "      <td>1006204</td>\n",
       "      <td>mercedes-benz</td>\n",
       "      <td>e200</td>\n",
       "      <td>0.999950</td>\n",
       "      <td>242000.0</td>\n",
       "      <td>241988</td>\n",
       "    </tr>\n",
       "  </tbody>\n",
       "</table>\n",
       "<p>5133 rows × 6 columns</p>\n",
       "</div>"
      ],
      "text/plain": [
       "       listing_id           make    model  reduced_percent     price      cp\n",
       "1745      1005306            kia   cerato         0.225071   70200.0   15800\n",
       "13041     1022998           jeep  patriot         0.262349   91100.0   23900\n",
       "11626      992382          mazda        3         0.305040   75400.0   23000\n",
       "2038      1002783          volvo      s60         0.324848   82500.0   26800\n",
       "909       1021736          honda      fit         0.362827   93400.0   33888\n",
       "...           ...            ...      ...              ...       ...     ...\n",
       "1588      1024726  mercedes-benz   glc300         0.997931  247500.0  246988\n",
       "11819     1007086          honda    civic         0.998587  212300.0  212000\n",
       "15827      967688  mercedes-benz     e220         0.999132  244200.0  243988\n",
       "1020       990992  mercedes-benz      amg         0.999524  209900.0  209800\n",
       "11405     1006204  mercedes-benz     e200         0.999950  242000.0  241988\n",
       "\n",
       "[5133 rows x 6 columns]"
      ]
     },
     "execution_count": 10,
     "metadata": {},
     "output_type": "execute_result"
    }
   ],
   "source": [
    "df = train\n",
    "\n",
    "a = df[[\"listing_id\", \"make\", \"model\", \"reduced_percent\", \"price\", \"cp\"]]\n",
    "a[~a.reduced_percent.isna()].sort_values(by=[\"reduced_percent\"])"
   ]
  },
  {
   "cell_type": "markdown",
   "id": "16bc8554",
   "metadata": {},
   "source": [
    "<a id='task2'></a>\n",
    "### 2. Analyzing Electric Vehicles "
   ]
  },
  {
   "cell_type": "markdown",
   "id": "acf0a870",
   "metadata": {},
   "source": [
    "We try and analyze the trend of electric cars over the past few years. We observed that the number of electric cars has increased significantly over the past few years. Last 2-3 years have been heavily impacted due to COVID-19 and the impact can be seen on all types of cars."
   ]
  },
  {
   "cell_type": "code",
   "execution_count": 11,
   "id": "20846173",
   "metadata": {
    "execution": {
     "iopub.execute_input": "2021-11-14T13:42:48.445258Z",
     "iopub.status.busy": "2021-11-14T13:42:48.444695Z",
     "iopub.status.idle": "2021-11-14T13:42:48.833977Z",
     "shell.execute_reply": "2021-11-14T13:42:48.833279Z",
     "shell.execute_reply.started": "2021-11-14T13:42:48.445233Z"
    },
    "tags": []
   },
   "outputs": [
    {
     "data": {
      "image/png": "[encoded data removed]",
      "text/plain": [
       "<Figure size 720x288 with 1 Axes>"
      ]
     },
     "metadata": {
      "needs_background": "light"
     },
     "output_type": "display_data"
    }
   ],
   "source": [
    "plt.figure(figsize=(10, 4))\n",
    "temp = train\n",
    "temp = temp.replace({\"fuel_type\": {\"electric\": \"petrol-electric\"}})\n",
    "temp = temp.groupby(\"manufactured\").count()[\"listing_id\"].reset_index()\n",
    "temp = temp[temp.listing_id > 100].manufactured.values\n",
    "temp1 = train\n",
    "temp1 = temp1.replace({\"fuel_type\": {\"electric\": \"petrol-electric\"}})\n",
    "sns.countplot(\n",
    "    x=\"manufactured\", hue=\"fuel_type\", data=temp1[temp1.manufactured.isin(temp)]\n",
    ")\n",
    "plt.xticks(rotation=90)\n",
    "_ = plt.title(\"Frequency of cars by fuel_type over the years\")"
   ]
  },
  {
   "cell_type": "markdown",
   "id": "16bbea31",
   "metadata": {},
   "source": [
    "We looked at the electric cars produced by various brands. Currently, the electric/hibrid cars are only produced by a limited number brands."
   ]
  },
  {
   "cell_type": "code",
   "execution_count": 12,
   "id": "5160f3a4",
   "metadata": {
    "execution": {
     "iopub.execute_input": "2021-11-14T13:42:48.838469Z",
     "iopub.status.busy": "2021-11-14T13:42:48.838036Z",
     "iopub.status.idle": "2021-11-14T13:42:49.618580Z",
     "shell.execute_reply": "2021-11-14T13:42:49.617893Z",
     "shell.execute_reply.started": "2021-11-14T13:42:48.838430Z"
    }
   },
   "outputs": [
    {
     "data": {
      "image/png": "[encoded data removed]",
      "text/plain": [
       "<Figure size 720x288 with 1 Axes>"
      ]
     },
     "metadata": {
      "needs_background": "light"
     },
     "output_type": "display_data"
    }
   ],
   "source": [
    "plt.figure(figsize=(10, 4))\n",
    "temp = train[~train.fuel_type.isna()]\n",
    "temp = temp.replace({\"fuel_type\": {\"electric\": \"petrol-electric\"}})\n",
    "temp = temp.groupby(\"make\").count()[\"listing_id\"].reset_index()\n",
    "temp = temp[temp.listing_id > 20].make.values\n",
    "temp1 = train\n",
    "temp1 = temp1.replace({\"fuel_type\": {\"electric\": \"petrol-electric\"}})\n",
    "sns.countplot(x=\"make\", hue=\"fuel_type\", data=temp1[temp1.make.isin(temp)])\n",
    "_ = plt.xticks(rotation=90)"
   ]
  },
  {
   "cell_type": "markdown",
   "id": "2a6aeb56",
   "metadata": {},
   "source": [
    "We looked into various values corresponding to fuel_type. Electric cars due to their low maintenance and less wear and tear have a very low depreciation value compared to petrol and diesel cars. The deregistration value of these cars is also higher when comparing to its counterparts. These factors contribute heavily for the customer desire towards eco-friendly cars."
   ]
  },
  {
   "cell_type": "code",
   "execution_count": 13,
   "id": "ef436427",
   "metadata": {
    "execution": {
     "iopub.execute_input": "2021-11-14T13:42:49.620195Z",
     "iopub.status.busy": "2021-11-14T13:42:49.619777Z",
     "iopub.status.idle": "2021-11-14T13:42:50.202598Z",
     "shell.execute_reply": "2021-11-14T13:42:50.201974Z",
     "shell.execute_reply.started": "2021-11-14T13:42:49.620161Z"
    },
    "tags": []
   },
   "outputs": [
    {
     "data": {
      "image/png": "[encoded data removed]",
      "text/plain": [
       "<Figure size 864x360 with 2 Axes>"
      ]
     },
     "metadata": {
      "needs_background": "light"
     },
     "output_type": "display_data"
    }
   ],
   "source": [
    "plt.figure(figsize=(12, 5))\n",
    "df = train[train.manufactured >= 2014]\n",
    "df = train.groupby([\"fuel_type\"]).mean().reset_index()\n",
    "plt.subplot(1, 2, 1)\n",
    "sns.barplot(data=df, x=\"fuel_type\", y=\"dereg_value\")\n",
    "plt.title(\"Mean Dereg_Value values by fuel_type\")\n",
    "plt.xticks(rotation=90)\n",
    "\n",
    "plt.subplot(1, 2, 2)\n",
    "df = train\n",
    "sns.barplot(data=df, x=\"fuel_type\", y=\"arf\")\n",
    "plt.title(\"Mean ARF values by fuel_type\")\n",
    "_ = plt.xticks(rotation=90)"
   ]
  },
  {
   "cell_type": "markdown",
   "id": "e834c344",
   "metadata": {},
   "source": [
    "### Depreciation value by fuel_type"
   ]
  },
  {
   "cell_type": "code",
   "execution_count": 14,
   "id": "82657222",
   "metadata": {
    "execution": {
     "iopub.execute_input": "2021-11-14T13:42:50.204228Z",
     "iopub.status.busy": "2021-11-14T13:42:50.203992Z",
     "iopub.status.idle": "2021-11-14T13:42:50.385168Z",
     "shell.execute_reply": "2021-11-14T13:42:50.384097Z",
     "shell.execute_reply.started": "2021-11-14T13:42:50.204202Z"
    },
    "tags": []
   },
   "outputs": [
    {
     "data": {
      "image/png": "[encoded data removed]",
      "text/plain": [
       "<Figure size 936x432 with 1 Axes>"
      ]
     },
     "metadata": {
      "needs_background": "light"
     },
     "output_type": "display_data"
    }
   ],
   "source": [
    "plt.figure(figsize=(13, 6))\n",
    "\n",
    "df = train\n",
    "df[\"depreciation_percentage\"] = train.depreciation / train.price\n",
    "df = df.groupby([\"fuel_type\"]).mean().reset_index()\n",
    "plt.subplot(1, 2, 2)\n",
    "sns.barplot(data=df, x=\"fuel_type\", y=\"depreciation_percentage\")\n",
    "plt.title(\"Mean depreciation value by fuel_type\")\n",
    "_ = plt.xticks(rotation=90)"
   ]
  },
  {
   "cell_type": "markdown",
   "id": "d915cea3",
   "metadata": {},
   "source": [
    "Electric cars more expensive than petrol and diesel cars\n",
    "The average price of an electric vehicle is also on a higher side compared to petrol/diesel cars of similar configuration."
   ]
  },
  {
   "cell_type": "code",
   "execution_count": 15,
   "id": "d9ef7760",
   "metadata": {
    "execution": {
     "iopub.execute_input": "2021-11-14T13:42:50.388707Z",
     "iopub.status.busy": "2021-11-14T13:42:50.388073Z",
     "iopub.status.idle": "2021-11-14T13:42:50.554755Z",
     "shell.execute_reply": "2021-11-14T13:42:50.554034Z",
     "shell.execute_reply.started": "2021-11-14T13:42:50.388663Z"
    }
   },
   "outputs": [
    {
     "data": {
      "image/png": "[encoded data removed]",
      "text/plain": [
       "<Figure size 432x288 with 1 Axes>"
      ]
     },
     "metadata": {
      "needs_background": "light"
     },
     "output_type": "display_data"
    }
   ],
   "source": [
    "df = train.groupby([\"fuel_type\"]).mean().reset_index()\n",
    "\n",
    "sns.barplot(data=df, x=\"fuel_type\", y=\"price\")\n",
    "plt.xticks(rotation=90)\n",
    "_ = plt.title(\"Mean price by fuel type\")"
   ]
  },
  {
   "cell_type": "code",
   "execution_count": 16,
   "id": "9569c2eb",
   "metadata": {
    "execution": {
     "iopub.execute_input": "2021-11-14T13:42:50.556223Z",
     "iopub.status.busy": "2021-11-14T13:42:50.555875Z",
     "iopub.status.idle": "2021-11-14T13:42:50.746494Z",
     "shell.execute_reply": "2021-11-14T13:42:50.745791Z",
     "shell.execute_reply.started": "2021-11-14T13:42:50.556194Z"
    },
    "tags": []
   },
   "outputs": [
    {
     "data": {
      "text/plain": [
       "<AxesSubplot:xlabel='price', ylabel='fuel_type'>"
      ]
     },
     "execution_count": 16,
     "metadata": {},
     "output_type": "execute_result"
    },
    {
     "data": {
      "image/png": "[encoded data removed]",
      "text/plain": [
       "<Figure size 432x288 with 1 Axes>"
      ]
     },
     "metadata": {
      "needs_background": "light"
     },
     "output_type": "display_data"
    }
   ],
   "source": [
    "sns.boxplot(data=train, y=\"fuel_type\", x=\"price\")"
   ]
  },
  {
   "cell_type": "markdown",
   "id": "0bf68ca7",
   "metadata": {},
   "source": [
    "<a id='scrapper'></a>\n",
    "### 3. Scrapper to extract the status of existing listing-ids and change in price\n",
    "\n",
    "Below cells are commented to avoid accidentally running them - uncomment if you're sure about it."
   ]
  },
  {
   "cell_type": "code",
   "execution_count": 17,
   "id": "18e6d55f",
   "metadata": {
    "execution": {
     "iopub.execute_input": "2021-11-14T13:42:50.748033Z",
     "iopub.status.busy": "2021-11-14T13:42:50.747569Z",
     "iopub.status.idle": "2021-11-14T13:42:50.759346Z",
     "shell.execute_reply": "2021-11-14T13:42:50.758392Z",
     "shell.execute_reply.started": "2021-11-14T13:42:50.748006Z"
    }
   },
   "outputs": [],
   "source": [
    "# import requests\n",
    "# import pickle\n",
    "\n",
    "# from bs4 import BeautifulSoup\n",
    "# from difflib import SequenceMatcher\n",
    "\n",
    "\n",
    "\n",
    "# def scrape_sgcarmart(listing_id):\n",
    "#     print(f\"scrape_sgcarmart - scraping sgcarmart for listing - {listing_id}\")\n",
    "#     response = requests.get(\n",
    "#         f\"https://www.sgcarmart.com/new_cars/newcars_listing.php?MOD={listing_id}\"\n",
    "#     )\n",
    "#     try:\n",
    "#         soup = BeautifulSoup(response.text, features=\"html.parser\")\n",
    "#         result = soup.select(\"div#listingcorner\")\n",
    "#     except AttributeError as e:\n",
    "#         result = \"\"\n",
    "\n",
    "#     return result"
   ]
  },
  {
   "cell_type": "code",
   "execution_count": 18,
   "id": "5958b368",
   "metadata": {
    "execution": {
     "iopub.execute_input": "2021-11-14T13:42:50.761695Z",
     "iopub.status.busy": "2021-11-14T13:42:50.761180Z",
     "iopub.status.idle": "2021-11-14T13:42:50.777990Z",
     "shell.execute_reply": "2021-11-14T13:42:50.777098Z",
     "shell.execute_reply.started": "2021-11-14T13:42:50.761657Z"
    },
    "scrolled": true
   },
   "outputs": [],
   "source": [
    "# car_list = {}\n",
    "# for i in range(train.shape[0]):\n",
    "#     if i % 500 == 0:\n",
    "#         save_obj(car_list, f\"car_price_{i}\")\n",
    "#         save_obj(car_list, f\"car_price\")\n",
    "#         print(f\"Iteration-{i}\")\n",
    "#     try:\n",
    "#         search = train.loc[i, \"make\"] + \" \" + train.loc[i, \"model\"]\n",
    "#         result = scrape_sgcarmart(search)\n",
    "#         if search not in car_list:\n",
    "#             car_list[search] = []\n",
    "#         for j in range(20):\n",
    "#             try:\n",
    "#                 r = result[0]\n",
    "#                 name = r.select(f\"table:nth-of-type({j}) a strong\")[0].text.strip()\n",
    "#                 price = r.select(\n",
    "#                     f\"table:nth-of-type({j}) table table table td.font_bold\"\n",
    "#                 )[0].text.strip()\n",
    "#                 car_list[search].append([name, price])\n",
    "#             except Exception as e:\n",
    "#                 pass\n",
    "#     except Exception as e:\n",
    "#         print(e)\n",
    "#         car_list = load_obj(\"car_price\")"
   ]
  },
  {
   "cell_type": "code",
   "execution_count": 19,
   "id": "d86dca85",
   "metadata": {
    "execution": {
     "iopub.execute_input": "2021-11-14T13:42:50.780188Z",
     "iopub.status.busy": "2021-11-14T13:42:50.779587Z",
     "iopub.status.idle": "2021-11-14T13:42:50.795960Z",
     "shell.execute_reply": "2021-11-14T13:42:50.795244Z",
     "shell.execute_reply.started": "2021-11-14T13:42:50.780159Z"
    },
    "tags": []
   },
   "outputs": [],
   "source": [
    "# def similar(a, b):\n",
    "#     return SequenceMatcher(None, a, b).ratio()\n",
    "\n",
    "\n",
    "# def save_obj(obj, name):\n",
    "#     with open(\"obj/\" + name + \".pkl\", \"wb\") as f:\n",
    "#         pickle.dump(obj, f, pickle.HIGHEST_PROTOCOL)\n",
    "\n",
    "\n",
    "# def load_obj(name):\n",
    "#     with open(\"obj/\" + name + \".pkl\", \"rb\") as f:\n",
    "#         return pickle.load(f)\n",
    "\n",
    "\n",
    "# full_dict = {}\n",
    "# for i in range(1, 35):\n",
    "#     try:\n",
    "#         a = load_obj(f\"car_price_{i*500}\")\n",
    "#         full_dict = full_dict | a\n",
    "#     except Exception as e:\n",
    "#         print(e)\n",
    "\n",
    "# for i in range(0, train.shape[0]):\n",
    "#     text = train.loc[i, \"make\"] + \" \" + train.loc[i, \"model\"]\n",
    "#     if text in full_dict and len(full_dict[text]) > 0:\n",
    "#         matches = full_dict[text]\n",
    "#         temp_list = []\n",
    "#         for match in matches:\n",
    "#             temp_list.append([similar(text, match[0]), f\"{match[1]}\"])\n",
    "#         temp = pd.DataFrame(temp_list)\n",
    "#         temp = temp.sort_values(by=[0], ascending=False)\n",
    "#         temp = temp[temp[1] != \"POA\"]\n",
    "#         if temp.shape[0] == 0:\n",
    "#             continue\n",
    "#         l = []\n",
    "#         for j in temp[1]:\n",
    "#             v = j.split(\"$\")[1]\n",
    "#             v = v.replace(\",\", \"\")\n",
    "#             l.append(v)\n",
    "#         temp[1] = l\n",
    "#         temp[1] = temp[1].str.replace(\",\", \"\")\n",
    "#         temp[1] = pd.to_numeric(temp[1], errors=\"coerce\")\n",
    "\n",
    "#         price = temp.iloc[0:5, 1].mean()\n",
    "#         train.loc[i, \"new_price\"] = price"
   ]
  }
 ],
 "metadata": {
  "kernelspec": {
   "display_name": "Python 3 (ipykernel)",
   "language": "python",
   "name": "python3"
  },
  "language_info": {
   "codemirror_mode": {
    "name": "ipython",
    "version": 3
   },
   "file_extension": ".py",
   "mimetype": "text/x-python",
   "name": "python",
   "nbconvert_exporter": "python",
   "pygments_lexer": "ipython3",
   "version": "3.9.5"
  }
 },
 "nbformat": 4,
 "nbformat_minor": 5
}
