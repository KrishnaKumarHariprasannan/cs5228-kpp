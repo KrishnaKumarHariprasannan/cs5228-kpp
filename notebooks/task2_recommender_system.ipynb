{
 "cells": [
  {
   "cell_type": "code",
   "execution_count": 1,
   "id": "8e619f95",
   "metadata": {},
   "outputs": [
    {
     "data": {
      "application/javascript": [
       "IPython.notebook.set_autosave_interval(60000)"
      ]
     },
     "metadata": {},
     "output_type": "display_data"
    },
    {
     "name": "stdout",
     "output_type": "stream",
     "text": [
      "Autosaving every 60 seconds\n"
     ]
    }
   ],
   "source": [
    "import sys\n",
    "sys.path.append(\"..\")\n",
    "import pandas as pd\n",
    "import numpy as np\n",
    "from src.transformers import *\n",
    "from src.user_item_funcs import *\n",
    "from src.item_item_funcs import *\n",
    "from sklearn.pipeline import Pipeline\n",
    "from sklearn.metrics.pairwise import cosine_similarity\n",
    "%autosave 60"
   ]
  },
  {
   "cell_type": "markdown",
   "id": "04bfb161",
   "metadata": {},
   "source": [
    "### Loading data"
   ]
  },
  {
   "cell_type": "code",
   "execution_count": 2,
   "id": "a5df621a",
   "metadata": {},
   "outputs": [
    {
     "name": "stdout",
     "output_type": "stream",
     "text": [
      "(16728, 55)\n"
     ]
    }
   ],
   "source": [
    "train = pd.read_csv(\"../data/processed/train.csv\", sep=\",\")\n",
    "test = pd.read_csv(\"../data/processed/test.csv\", sep=\",\")\n",
    "print(train.shape)"
   ]
  },
  {
   "cell_type": "markdown",
   "id": "303158b1",
   "metadata": {},
   "source": [
    "## User-Item Similarity"
   ]
  },
  {
   "cell_type": "markdown",
   "id": "b936ba3b",
   "metadata": {},
   "source": [
    "### Get User Preferences"
   ]
  },
  {
   "cell_type": "code",
   "execution_count": 3,
   "id": "f7c200d5",
   "metadata": {},
   "outputs": [],
   "source": [
    "#Make UI here\n",
    "# if you want to add more preferences. Go to user_item_funcs.py.\n",
    "#For the numerical ones add the ranges and bins and add them to pref_dict_num dictionary with column name as key.\n",
    "#For the categorical ones add the categories/ranges and it to pref_dict_cat with column name as key.\n",
    "user_pref_dict = {'price':'', 'depreciation':'$11k to $12k /yr',\n",
    "                  'type_of_vehicle':'luxury sedan'}"
   ]
  },
  {
   "cell_type": "markdown",
   "id": "34195099",
   "metadata": {},
   "source": [
    "### Preparing User Row and Dataframe for similarities"
   ]
  },
  {
   "cell_type": "code",
   "execution_count": 4,
   "id": "f824e4a9",
   "metadata": {},
   "outputs": [
    {
     "ename": "ValueError",
     "evalue": "'' is not in list",
     "output_type": "error",
     "traceback": [
      "\u001b[1;31m---------------------------------------------------------------------------\u001b[0m",
      "\u001b[1;31mValueError\u001b[0m                                Traceback (most recent call last)",
      "\u001b[1;32m~\\AppData\\Local\\Temp/ipykernel_23836/948320549.py\u001b[0m in \u001b[0;36m<module>\u001b[1;34m\u001b[0m\n\u001b[0;32m      7\u001b[0m \u001b[1;33m\u001b[0m\u001b[0m\n\u001b[0;32m      8\u001b[0m \u001b[1;33m\u001b[0m\u001b[0m\n\u001b[1;32m----> 9\u001b[1;33m \u001b[0muser_row_dict\u001b[0m \u001b[1;33m=\u001b[0m \u001b[0mprepare_user_row_dict\u001b[0m\u001b[1;33m(\u001b[0m\u001b[0mdf_prepared_num\u001b[0m\u001b[1;33m,\u001b[0m \u001b[0muser_pref_dict\u001b[0m\u001b[1;33m,\u001b[0m \u001b[0mpref_dict_num\u001b[0m\u001b[1;33m,\u001b[0m \u001b[0mpref_dict_cat\u001b[0m\u001b[1;33m)\u001b[0m\u001b[1;33m\u001b[0m\u001b[1;33m\u001b[0m\u001b[0m\n\u001b[0m\u001b[0;32m     10\u001b[0m \u001b[1;33m\u001b[0m\u001b[0m\n\u001b[0;32m     11\u001b[0m \u001b[0mdf_prepared_normalized\u001b[0m \u001b[1;33m=\u001b[0m \u001b[0mnormalize_df\u001b[0m\u001b[1;33m(\u001b[0m\u001b[0mdf_prepared_num\u001b[0m\u001b[1;33m,\u001b[0m \u001b[0muser_pref_cols\u001b[0m\u001b[1;33m,\u001b[0m \u001b[0mpref_dict_num\u001b[0m\u001b[1;33m)\u001b[0m\u001b[1;33m\u001b[0m\u001b[1;33m\u001b[0m\u001b[0m\n",
      "\u001b[1;32m~\\Desktop\\nus_study\\Sem-1\\kdd\\Proj\\cs5228-kpp\\notebooks\\..\\src\\user_item_funcs.py\u001b[0m in \u001b[0;36mprepare_user_row_dict\u001b[1;34m(df_prepared_num, user_pref_dict, pref_dict_num, pref_dict_cat)\u001b[0m\n\u001b[0;32m     88\u001b[0m             \u001b[0mcol_max\u001b[0m \u001b[1;33m=\u001b[0m \u001b[0mdf_prepared_num\u001b[0m\u001b[1;33m.\u001b[0m\u001b[0mloc\u001b[0m\u001b[1;33m[\u001b[0m\u001b[1;33m:\u001b[0m\u001b[1;33m,\u001b[0m \u001b[0mcol\u001b[0m\u001b[1;33m]\u001b[0m\u001b[1;33m.\u001b[0m\u001b[0mmax\u001b[0m\u001b[1;33m(\u001b[0m\u001b[1;33m)\u001b[0m\u001b[1;33m\u001b[0m\u001b[1;33m\u001b[0m\u001b[0m\n\u001b[0;32m     89\u001b[0m             \u001b[0mcol_min\u001b[0m \u001b[1;33m=\u001b[0m \u001b[0mdf_prepared_num\u001b[0m\u001b[1;33m.\u001b[0m\u001b[0mloc\u001b[0m\u001b[1;33m[\u001b[0m\u001b[1;33m:\u001b[0m\u001b[1;33m,\u001b[0m \u001b[0mcol\u001b[0m\u001b[1;33m]\u001b[0m\u001b[1;33m.\u001b[0m\u001b[0mmin\u001b[0m\u001b[1;33m(\u001b[0m\u001b[1;33m)\u001b[0m\u001b[1;33m\u001b[0m\u001b[1;33m\u001b[0m\u001b[0m\n\u001b[1;32m---> 90\u001b[1;33m             \u001b[0mcol_val\u001b[0m \u001b[1;33m=\u001b[0m \u001b[0mget_col_value\u001b[0m\u001b[1;33m(\u001b[0m\u001b[0mval_range\u001b[0m\u001b[1;33m,\u001b[0m \u001b[0mpref_dict_num\u001b[0m\u001b[1;33m,\u001b[0m \u001b[0mcol\u001b[0m\u001b[1;33m)\u001b[0m\u001b[1;33m\u001b[0m\u001b[1;33m\u001b[0m\u001b[0m\n\u001b[0m\u001b[0;32m     91\u001b[0m             \u001b[0mcol_val_normalized\u001b[0m \u001b[1;33m=\u001b[0m \u001b[1;33m(\u001b[0m\u001b[0mcol_val\u001b[0m \u001b[1;33m-\u001b[0m \u001b[0mcol_min\u001b[0m\u001b[1;33m)\u001b[0m \u001b[1;33m/\u001b[0m \u001b[1;33m(\u001b[0m\u001b[0mcol_max\u001b[0m \u001b[1;33m-\u001b[0m \u001b[0mcol_min\u001b[0m\u001b[1;33m)\u001b[0m\u001b[1;33m\u001b[0m\u001b[1;33m\u001b[0m\u001b[0m\n\u001b[0;32m     92\u001b[0m             \u001b[0mrow_dict\u001b[0m\u001b[1;33m[\u001b[0m\u001b[0mcol\u001b[0m\u001b[1;33m]\u001b[0m \u001b[1;33m=\u001b[0m \u001b[1;33m[\u001b[0m\u001b[0mcol_val_normalized\u001b[0m\u001b[1;33m]\u001b[0m\u001b[1;33m\u001b[0m\u001b[1;33m\u001b[0m\u001b[0m\n",
      "\u001b[1;32m~\\Desktop\\nus_study\\Sem-1\\kdd\\Proj\\cs5228-kpp\\notebooks\\..\\src\\user_item_funcs.py\u001b[0m in \u001b[0;36mget_col_value\u001b[1;34m(val_range, pref_dict_num, col)\u001b[0m\n\u001b[0;32m     71\u001b[0m     \u001b[0mranges\u001b[0m \u001b[1;33m=\u001b[0m \u001b[0mpref_dict_num\u001b[0m\u001b[1;33m[\u001b[0m\u001b[0mcol\u001b[0m\u001b[1;33m]\u001b[0m\u001b[1;33m[\u001b[0m\u001b[1;34m'ranges'\u001b[0m\u001b[1;33m]\u001b[0m\u001b[1;33m\u001b[0m\u001b[1;33m\u001b[0m\u001b[0m\n\u001b[0;32m     72\u001b[0m     \u001b[0mbins\u001b[0m \u001b[1;33m=\u001b[0m \u001b[0mpref_dict_num\u001b[0m\u001b[1;33m[\u001b[0m\u001b[0mcol\u001b[0m\u001b[1;33m]\u001b[0m\u001b[1;33m[\u001b[0m\u001b[1;34m'bins'\u001b[0m\u001b[1;33m]\u001b[0m\u001b[1;33m\u001b[0m\u001b[1;33m\u001b[0m\u001b[0m\n\u001b[1;32m---> 73\u001b[1;33m     \u001b[0mindex_ranges\u001b[0m \u001b[1;33m=\u001b[0m \u001b[0mranges\u001b[0m\u001b[1;33m.\u001b[0m\u001b[0mindex\u001b[0m\u001b[1;33m(\u001b[0m\u001b[0mval_range\u001b[0m\u001b[1;33m)\u001b[0m\u001b[1;33m\u001b[0m\u001b[1;33m\u001b[0m\u001b[0m\n\u001b[0m\u001b[0;32m     74\u001b[0m \u001b[1;31m#     print('val_range: ', val_range)\u001b[0m\u001b[1;33m\u001b[0m\u001b[1;33m\u001b[0m\u001b[1;33m\u001b[0m\u001b[0m\n\u001b[0;32m     75\u001b[0m \u001b[1;31m#     print('ranges: ', ranges)\u001b[0m\u001b[1;33m\u001b[0m\u001b[1;33m\u001b[0m\u001b[1;33m\u001b[0m\u001b[0m\n",
      "\u001b[1;31mValueError\u001b[0m: '' is not in list"
     ]
    }
   ],
   "source": [
    "user_pref_cols = get_user_pref_cols(user_pref_dict)\n",
    "\n",
    "df_train_user_pref_cols = train.loc[:, ['listing_id']+user_pref_cols]\n",
    "\n",
    "\n",
    "df_prepared_num = prepare_df_num(df_train_user_pref_cols, user_pref_dict, pref_dict_num)\n",
    "\n",
    "\n",
    "user_row_dict = prepare_user_row_dict(df_prepared_num, user_pref_dict, pref_dict_num, pref_dict_cat)\n",
    "\n",
    "df_prepared_normalized = normalize_df(df_prepared_num, user_pref_cols, pref_dict_num)\n",
    "df_prepared_normalized.head(1)"
   ]
  },
  {
   "cell_type": "code",
   "execution_count": null,
   "id": "2630514d",
   "metadata": {},
   "outputs": [],
   "source": [
    "df_prepared = prepare_df_cat(df_prepared_num, user_pref_dict, pref_dict_cat)\n",
    "df_prepared.head(1)\n",
    "df_prepared_normalized = prepare_df_cat(df_prepared_normalized, user_pref_dict, pref_dict_cat)\n",
    "df_prepared_normalized.head(1)"
   ]
  },
  {
   "cell_type": "code",
   "execution_count": null,
   "id": "ba74b21e",
   "metadata": {},
   "outputs": [],
   "source": [
    "df_user_row, cols_to_be_dropped = get_user_row(user_row_dict, pref_dict_num, pref_dict_cat, df_prepared_normalized)\n",
    "df_user_row"
   ]
  },
  {
   "cell_type": "markdown",
   "id": "28b01f3a",
   "metadata": {},
   "source": [
    "#### Dropping range columns"
   ]
  },
  {
   "cell_type": "code",
   "execution_count": null,
   "id": "2cb3cf12",
   "metadata": {},
   "outputs": [],
   "source": [
    "df_prepared_final = df_prepared_normalized.drop(cols_to_be_dropped, axis=1)\n",
    "df_user_row_final = df_user_row.drop(cols_to_be_dropped, axis=1)\n",
    "df_prepared_final.head(1)"
   ]
  },
  {
   "cell_type": "code",
   "execution_count": null,
   "id": "fe7da18f",
   "metadata": {},
   "outputs": [],
   "source": [
    "df_user_row_final.head(1)"
   ]
  },
  {
   "cell_type": "markdown",
   "id": "598048a3",
   "metadata": {},
   "source": [
    "### Finding similarity between custom user's item and other items"
   ]
  },
  {
   "cell_type": "code",
   "execution_count": null,
   "id": "d617d7bf",
   "metadata": {},
   "outputs": [],
   "source": [
    "x_user = df_user_row_final['listing_id'].to_numpy()\n",
    "y_user = df_user_row_final.iloc[:,1:].to_numpy()\n",
    "print(x_user.shape,y_user.shape)\n",
    "x_items = df_prepared_final['listing_id'].to_numpy()\n",
    "y_items = df_prepared_final.iloc[:,1:].to_numpy()\n",
    "print(x_items.shape, y_items.shape)\n",
    "similarity_user_item = cosine_similarity(y_user, y_items)[0]"
   ]
  },
  {
   "cell_type": "code",
   "execution_count": null,
   "id": "b8014d93",
   "metadata": {},
   "outputs": [],
   "source": [
    "ind_ordered = np.argsort(similarity_user_item)[::-1]"
   ]
  },
  {
   "cell_type": "markdown",
   "id": "e0ec0174",
   "metadata": {},
   "source": [
    "### Top k recommendations as per User-Item similarity"
   ]
  },
  {
   "cell_type": "code",
   "execution_count": null,
   "id": "fb2220b1",
   "metadata": {},
   "outputs": [],
   "source": [
    "df_top_user_item = get_top_recommendations_user_item(similarity_user_item, ind_ordered, x_items, y_items, 10, train)\n",
    "print('user_pref_dict: ', user_pref_dict)\n",
    "df_top_user_item.loc[:, ['listing_id', 'make', 'model', 'depreciation', 'price', 'type_of_vehicle']]"
   ]
  },
  {
   "cell_type": "markdown",
   "id": "f7839e68",
   "metadata": {},
   "source": [
    "### Choose a Car from the recommended list"
   ]
  },
  {
   "cell_type": "code",
   "execution_count": null,
   "id": "0451ec26",
   "metadata": {},
   "outputs": [],
   "source": [
    "#Suppose the user chooses listing_id=1023716 from the above list. \n",
    "#We apply Item-item similarity on the chosen car and all other cars.\n",
    "#Make UI here"
   ]
  },
  {
   "cell_type": "markdown",
   "id": "79cdb978",
   "metadata": {},
   "source": [
    "## Item-Item Similarity"
   ]
  },
  {
   "cell_type": "markdown",
   "id": "0d3fa89f",
   "metadata": {},
   "source": [
    "### Prepare DataFrame for item-item similarity"
   ]
  },
  {
   "cell_type": "code",
   "execution_count": null,
   "id": "a0a51127",
   "metadata": {},
   "outputs": [],
   "source": [
    "df_recommend_ii = train.loc[:, ['listing_id','make', 'vehicle_age', 'type_of_vehicle', 'depreciation',\n",
    "                   'dereg_value', 'mileage', 'price', 'engine_cap',  'fuel_type_diesel',\n",
    "                   'fuel_type_petrol-electric', 'fuel_type_petrol', 'fuel_type_electric','transmission_auto',\n",
    "                   'transmission_manual', 'brand_rank']]\n",
    "\n",
    "# cols_to_be_normalized = ['vehicle_age', 'depreciation', 'dereg_value', 'mileage', 'engine_cap', 'price']\n",
    "cols_to_be_normalized = ['vehicle_age', 'depreciation', 'dereg_value', 'mileage', 'price']\n",
    "df_normalized_ii = get_normalized_cols_item_item(df_recommend_ii, cols_to_be_normalized)\n",
    "df_normalized_ii.head(2)"
   ]
  },
  {
   "cell_type": "code",
   "execution_count": null,
   "id": "0384cb6d",
   "metadata": {},
   "outputs": [],
   "source": [
    "# df_recommend_ii.loc[:, ['vehicle_age', 'depreciation', 'dereg_value', 'mileage', 'engine_cap', 'price']] = df_normalized_ii\n",
    "df_recommend_ii.loc[:, ['vehicle_age', 'depreciation', 'dereg_value', 'mileage', 'price']] = df_normalized_ii\n",
    "df_recommend_ii.head(1)"
   ]
  },
  {
   "cell_type": "markdown",
   "id": "6c2b9242",
   "metadata": {},
   "source": [
    "### Convert Categorical Columns to One Hot Encoding"
   ]
  },
  {
   "cell_type": "code",
   "execution_count": null,
   "id": "9ed7a13b",
   "metadata": {},
   "outputs": [],
   "source": [
    "df_transformed_ii = pd.get_dummies(df_recommend_ii, columns = ['make', 'type_of_vehicle', 'brand_rank'])\n",
    "df_transformed_ii.head(2)"
   ]
  },
  {
   "cell_type": "markdown",
   "id": "774ec78b",
   "metadata": {},
   "source": [
    "### Computing Item-Item similarities"
   ]
  },
  {
   "cell_type": "code",
   "execution_count": null,
   "id": "42efd6a9",
   "metadata": {},
   "outputs": [],
   "source": [
    "x_items_ii = df_transformed_ii['listing_id'].to_numpy()\n",
    "y_items_ii = df_transformed_ii.iloc[:,1:].to_numpy()\n",
    "#Suppose the user chooses listing_id=1023716 from the above list.\n",
    "listing_id_chosen = 1023716\n",
    "x_chosen = listing_id_chosen\n",
    "y_chosen = df_transformed_ii[df_transformed_ii['listing_id'] == 1023716].iloc[:,1:].to_numpy()"
   ]
  },
  {
   "cell_type": "code",
   "execution_count": null,
   "id": "4f1ce966",
   "metadata": {},
   "outputs": [],
   "source": [
    "similarity_item_item = cosine_similarity(y_chosen, y_items_ii)[0]\n",
    "indices_ii_ordered = np.argsort(similarity_item_item)[::-1]"
   ]
  },
  {
   "cell_type": "code",
   "execution_count": null,
   "id": "49b5eb8d",
   "metadata": {},
   "outputs": [],
   "source": [
    "print('similarity_item_item: ', similarity_item_item)\n",
    "print('indices_ii_ordered: ', indices_ii_ordered)\n",
    "print(similarity_item_item[indices_ii_ordered])"
   ]
  },
  {
   "cell_type": "code",
   "execution_count": null,
   "id": "bdf23892",
   "metadata": {},
   "outputs": [],
   "source": [
    "# k=11 as the result includes the given listing_id row too.\n",
    "df_top_ii = get_top_recommendations_ii(similarity_item_item, indices_ii_ordered, x_items_ii, y_items_ii, 11, train)"
   ]
  },
  {
   "cell_type": "code",
   "execution_count": null,
   "id": "311b55f5",
   "metadata": {},
   "outputs": [],
   "source": [
    "train[train.listing_id == 1023716].loc[:, ['listing_id','make', 'model', 'vehicle_age', 'type_of_vehicle', 'depreciation',\n",
    "                   'dereg_value', 'mileage', 'price', 'engine_cap',  'fuel_type','transmission', 'brand_rank']]"
   ]
  },
  {
   "cell_type": "code",
   "execution_count": null,
   "id": "554b58a2",
   "metadata": {
    "scrolled": true
   },
   "outputs": [],
   "source": [
    "# Remove the given listing_id from recommendations \n",
    "df_top_ii.loc[:, ['listing_id','make', 'model', 'vehicle_age', 'type_of_vehicle', 'depreciation',\n",
    "                   'dereg_value', 'mileage', 'price', 'engine_cap',  'fuel_type','transmission', 'brand_rank']]"
   ]
  },
  {
   "cell_type": "code",
   "execution_count": null,
   "id": "201ee1de",
   "metadata": {},
   "outputs": [],
   "source": []
  },
  {
   "cell_type": "code",
   "execution_count": null,
   "id": "727b912a",
   "metadata": {},
   "outputs": [],
   "source": []
  },
  {
   "cell_type": "code",
   "execution_count": null,
   "id": "a862064e",
   "metadata": {},
   "outputs": [],
   "source": []
  },
  {
   "cell_type": "code",
   "execution_count": null,
   "id": "29938e54",
   "metadata": {},
   "outputs": [],
   "source": []
  },
  {
   "cell_type": "code",
   "execution_count": null,
   "id": "c35f10d9",
   "metadata": {},
   "outputs": [],
   "source": []
  }
 ],
 "metadata": {
  "kernelspec": {
   "display_name": "Python 3 (ipykernel)",
   "language": "python",
   "name": "python3"
  },
  "language_info": {
   "codemirror_mode": {
    "name": "ipython",
    "version": 3
   },
   "file_extension": ".py",
   "mimetype": "text/x-python",
   "name": "python",
   "nbconvert_exporter": "python",
   "pygments_lexer": "ipython3",
   "version": "3.8.12"
  }
 },
 "nbformat": 4,
 "nbformat_minor": 5
}
