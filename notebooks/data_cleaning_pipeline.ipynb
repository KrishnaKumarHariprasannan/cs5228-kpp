{
 "cells": [
  {
   "cell_type": "markdown",
   "id": "f2a84adf",
   "metadata": {},
   "source": [
    "## Imports"
   ]
  },
  {
   "cell_type": "code",
   "execution_count": null,
   "id": "71e04de7",
   "metadata": {
    "tags": []
   },
   "outputs": [],
   "source": [
    "import sys\n",
    "\n",
    "sys.path.append(\"..\")"
   ]
  },
  {
   "cell_type": "code",
   "execution_count": null,
   "id": "bd0e0698",
   "metadata": {
    "tags": []
   },
   "outputs": [],
   "source": [
    "from src.transformers import *\n",
    "from sklearn.compose import ColumnTransformer\n",
    "from sklearn.preprocessing import OneHotEncoder\n",
    "from sklearn.impute import SimpleImputer\n",
    "from sklearn.preprocessing import MinMaxScaler\n",
    "from sklearn.pipeline import Pipeline\n",
    "from sklearn.impute import SimpleImputer"
   ]
  },
  {
   "cell_type": "markdown",
   "id": "7baec626",
   "metadata": {},
   "source": [
    "## Load Data"
   ]
  },
  {
   "cell_type": "code",
   "execution_count": null,
   "id": "948dc6d4",
   "metadata": {
    "tags": []
   },
   "outputs": [],
   "source": [
    "# Set default logging level\n",
    "# Change to logging.INFO to see related output\n",
    "logging.basicConfig(level=logging.INFO, force=True)"
   ]
  },
  {
   "cell_type": "code",
   "execution_count": null,
   "id": "081b9a52",
   "metadata": {
    "tags": []
   },
   "outputs": [],
   "source": [
    "# Read data and set indices\n",
    "train = pd.read_csv(\"../data/raw/train.csv\")\n",
    "test = pd.read_csv(\"../data/raw/test.csv\")\n",
    "\n",
    "train.set_index(\"listing_id\", inplace=True)\n",
    "train = train[~train.index.duplicated(keep=\"first\")]\n",
    "train = train.reset_index()\n",
    "\n",
    "# NOTE: Do not remove duplicates in test as kaggle expects 5000 entries in the submission file\n",
    "# test.set_index(\"listing_id\", inplace=True)\n",
    "# test = test[~test.index.duplicated(keep=\"first\")]"
   ]
  },
  {
   "cell_type": "markdown",
   "id": "0f97e0cd",
   "metadata": {},
   "source": [
    "## Construct Pipeline"
   ]
  },
  {
   "cell_type": "code",
   "execution_count": null,
   "id": "924744eb",
   "metadata": {
    "tags": []
   },
   "outputs": [],
   "source": [
    "data_pipeline = Pipeline(\n",
    "    [\n",
    "        (\"pre_processing\", PreProcessing()),\n",
    "        (\"imp_power\", GroupMissingValueImputer(\"power\", [\"type_of_vehicle\"], \"mean\")),\n",
    "        (\n",
    "            \"imp_engine_cap\",\n",
    "            GroupMissingValueImputer(\"engine_cap\", [\"make\", \"type_of_vehicle\"], \"mean\"),\n",
    "        ),\n",
    "        (\n",
    "            \"imp_curb_weight\",\n",
    "            GroupMissingValueImputer(\"curb_weight\", [\"make\", \"type_of_vehicle\"]),\n",
    "        ),\n",
    "        #         (\"add_cat\", SplitValuesToColumn(\"category\")),\n",
    "        # Columns 9 to 15\n",
    "        (\n",
    "            \"curb_weight\",\n",
    "            CarSpecificationsTransformer(\n",
    "                \"curb_weight\", [\"make\", \"model\", \"type_of_vehicle\", \"manufactured\"]\n",
    "            ),\n",
    "        ),\n",
    "        (\n",
    "            \"power\",\n",
    "            CarSpecificationsTransformer(\n",
    "                \"power\", [\"make\", \"model\", \"type_of_vehicle\", \"manufactured\"]\n",
    "            ),\n",
    "        ),\n",
    "        (\n",
    "            \"fuel_type\",\n",
    "            CarSpecificationsTransformer(\"fuel_type\", [\"make\", \"model\"], \"mode\"),\n",
    "        ),\n",
    "        (\n",
    "            \"engine_cap\",\n",
    "            CarSpecificationsTransformer(\n",
    "                \"engine_cap\", [\"make\", \"model\", \"type_of_vehicle\", \"manufactured\"]\n",
    "            ),\n",
    "        ),\n",
    "        (\"fuel_type_missing\", CarSpecsMissingWithTypeOfVehicle([\"fuel_type\"], \"mode\")),\n",
    "        (\n",
    "            \"car_spec_missing\",\n",
    "            CarSpecsMissingWithTypeOfVehicle(\n",
    "                [\"curb_weight\", \"power\", \"engine_cap\"], \"mean\"\n",
    "            ),\n",
    "        ),\n",
    "        (\n",
    "            \"convert_value_to_category\",\n",
    "            ColumnValuesToCategory(\n",
    "                \"engine_cap\",\n",
    "                \"engine_cap_range\",\n",
    "                [0, 600, 1000, 1600, 3000, np.inf],\n",
    "                [\n",
    "                    \"EC<=600 cc\",\n",
    "                    \"600 cc < EC <= 1000 cc \",\n",
    "                    \"1000 cc < EC <= 1600 cc\",\n",
    "                    \"1600 cc < EC <= 3000 cc\",\n",
    "                    \"EC > 3000 cc\",\n",
    "                ],\n",
    "            ),\n",
    "        ),\n",
    "        (\n",
    "            \"fuel_type_one_hot\",\n",
    "            OneHotTransformer(\n",
    "                \"fuel_type\", [\"diesel\", \"petrol-electric\", \"petrol\", \"electric\"]\n",
    "            ),\n",
    "        ),\n",
    "        (\"transmission_one_hot\", OneHotTransformer(\"transmission\", [\"auto\", \"manual\"])),\n",
    "        # Columns 15 and above\n",
    "        (\"coe_start_date\", CoeStartDateFeatureCreator()),\n",
    "        (\"vehicle_age\", AgeFeatureCreator()),\n",
    "        (\n",
    "            \"omv\",\n",
    "            HierarchicalGroupImputer(\n",
    "                \"omv\",\n",
    "                [[\"make\", \"model\", \"vehicle_age\"], [\"make\", \"model\"]],\n",
    "                \"mean\",\n",
    "                True,\n",
    "            ),\n",
    "        ),\n",
    "        (\"coe\", CoeTransformer()),\n",
    "        (\"arf\", ArfTransformer()),\n",
    "        (\"parf\", ParfFeatureCreator()),\n",
    "        (\"coe_rebate\", CoeRebateFeatureCreator()),\n",
    "        (\"dereg_value_computed\", DeregValueComputedFeatureCreator()),\n",
    "        (\"dereg_value\", DeregValueTransformer()),\n",
    "        (\n",
    "            \"vehicle_age_bins\",\n",
    "            ColumnValuesToCategory(\n",
    "                \"vehicle_age\",\n",
    "                \"vehicle_age_bins\",\n",
    "                [0, 10, 20, 35, 50, np.inf],\n",
    "                [\"0-10\", \"10-20\", \"20-35\", \"35-50\", \">50\"],\n",
    "            ),\n",
    "        ),\n",
    "        # Ideally, depreciation should be (price - parf) / no_of_coe_years_left\n",
    "        #         modified_x.loc[depreciation_mask, \"depreciation\"] = (\n",
    "        #             X.loc[depreciation_mask, \"price\"] - X.loc[depreciation_mask, \"parf\"]\n",
    "        #         ) / 10\n",
    "        # But this depends on price which is unavailable for test dataset so we resort to\n",
    "        # using the mean of the below hierarchies\n",
    "        (\n",
    "            \"depreciation\",\n",
    "            HierarchicalGroupImputer(\n",
    "                \"depreciation\",\n",
    "                [\n",
    "                    [\"make\", \"model\", \"vehicle_age_bins\"],\n",
    "                    [\"make\", \"vehicle_age_bins\"],\n",
    "                    [\"vehicle_age_bins\"],\n",
    "                    [\"make\"],\n",
    "                ],\n",
    "                \"mean\",\n",
    "                True,\n",
    "            ),\n",
    "        ),\n",
    "        (\n",
    "            \"mileage\",\n",
    "            HierarchicalGroupImputer(\n",
    "                \"mileage\",\n",
    "                [[\"make\", \"model\", \"vehicle_age\"], [\"vehicle_age\"]],\n",
    "                \"mean\",\n",
    "                True,\n",
    "            ),\n",
    "        ),\n",
    "        (\"opc_scheme\", OpcSchemeTransformer()),\n",
    "        (\n",
    "            \"road_tax\",\n",
    "            HierarchicalGroupImputer(\n",
    "                \"road_tax\",\n",
    "                [\n",
    "                    [\"engine_cap_range\", \"opc_scheme\", \"vehicle_age\", \"fuel_type\"],\n",
    "                    [\"engine_cap_range\", \"opc_scheme\"],\n",
    "                    [\"engine_cap_range\"],\n",
    "                ],\n",
    "                \"mean\",\n",
    "                True,\n",
    "            ),\n",
    "        ),\n",
    "        (\"lifespan_restriction\", LifespanRestrictionFeatureCreator()),\n",
    "        (\n",
    "            \"features_count\",\n",
    "            CountUniqueItemsFeatureCreator(\"features\", \"features_count\"),\n",
    "        ),\n",
    "        (\n",
    "            \"accessories_count\",\n",
    "            CountUniqueItemsFeatureCreator(\"accessories\", \"accessories_count\"),\n",
    "        ),\n",
    "        (\"brand_rank\", BrandRankTransformer(),),\n",
    "    ]\n",
    ")"
   ]
  },
  {
   "cell_type": "code",
   "execution_count": null,
   "id": "72a7e721",
   "metadata": {
    "tags": []
   },
   "outputs": [],
   "source": [
    "cleaned_train = data_pipeline.fit_transform(train)\n",
    "display(cleaned_train.head())\n",
    "train.shape, cleaned_train.shape"
   ]
  },
  {
   "cell_type": "code",
   "execution_count": null,
   "id": "e97ff755",
   "metadata": {
    "tags": []
   },
   "outputs": [],
   "source": [
    "cleaned_train.columns"
   ]
  },
  {
   "cell_type": "code",
   "execution_count": null,
   "id": "3abf0e51",
   "metadata": {
    "tags": []
   },
   "outputs": [],
   "source": [
    "cleaned_test = data_pipeline.transform(test)\n",
    "display(cleaned_test.head())\n",
    "test.shape, cleaned_test.shape"
   ]
  },
  {
   "cell_type": "code",
   "execution_count": null,
   "id": "af4a1d39",
   "metadata": {
    "tags": []
   },
   "outputs": [],
   "source": [
    "cleaned_test.columns"
   ]
  },
  {
   "cell_type": "markdown",
   "id": "fb11c0d2",
   "metadata": {
    "execution": {
     "iopub.execute_input": "2021-10-11T09:54:53.769969Z",
     "iopub.status.busy": "2021-10-11T09:54:53.769693Z",
     "iopub.status.idle": "2021-10-11T09:54:53.793841Z",
     "shell.execute_reply": "2021-10-11T09:54:53.790916Z",
     "shell.execute_reply.started": "2021-10-11T09:54:53.769946Z"
    },
    "tags": []
   },
   "source": [
    "## Write to disk"
   ]
  },
  {
   "cell_type": "code",
   "execution_count": null,
   "id": "353ca29a",
   "metadata": {
    "tags": []
   },
   "outputs": [],
   "source": [
    "# cleaned_train.to_csv(\"../data/processed/train.csv\", index=False)\n",
    "# cleaned_test.to_csv(\"../data/processed/test.csv\", index=False)"
   ]
  },
  {
   "cell_type": "markdown",
   "id": "4e9dd48e-6ea3-479e-9a9e-4f1349219abe",
   "metadata": {},
   "source": [
    "## Sample Validation"
   ]
  },
  {
   "cell_type": "code",
   "execution_count": null,
   "id": "d0162fe0-bda3-470b-aee7-304fa4091a84",
   "metadata": {
    "tags": []
   },
   "outputs": [],
   "source": [
    "import ipywidgets\n",
    "\n",
    "idx = np.random.randint(0, len(test))\n",
    "\n",
    "ipywidgets.HBox(\n",
    "    [\n",
    "        ipywidgets.HTML(f\"\"\"<pre>{test.iloc[idx]}</pre>\"\"\"),\n",
    "        ipywidgets.HTML(f\"\"\"<pre>{cleaned_test.iloc[idx]}</pre>\"\"\"),\n",
    "    ]\n",
    ")"
   ]
  }
 ],
 "metadata": {
  "kernelspec": {
   "display_name": "Python 3 (ipykernel)",
   "language": "python",
   "name": "python3"
  },
  "language_info": {
   "codemirror_mode": {
    "name": "ipython",
    "version": 3
   },
   "file_extension": ".py",
   "mimetype": "text/x-python",
   "name": "python",
   "nbconvert_exporter": "python",
   "pygments_lexer": "ipython3",
   "version": "3.9.5"
  }
 },
 "nbformat": 4,
 "nbformat_minor": 5
}
