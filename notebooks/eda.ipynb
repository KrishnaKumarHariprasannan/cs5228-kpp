{
 "cells": [
  {
   "cell_type": "code",
   "execution_count": null,
   "id": "48bb2e17",
   "metadata": {},
   "outputs": [],
   "source": [
    "import sys\n",
    "\n",
    "sys.path.append(\"..\")"
   ]
  },
  {
   "cell_type": "code",
   "execution_count": null,
   "id": "ee60dce1",
   "metadata": {
    "tags": []
   },
   "outputs": [],
   "source": [
    "import pandas as pd\n",
    "\n",
    "from src.transformers import *\n",
    "from sklearn.compose import ColumnTransformer\n",
    "from sklearn.preprocessing import OneHotEncoder\n",
    "from sklearn.impute import SimpleImputer\n",
    "from sklearn.preprocessing import MinMaxScaler\n",
    "from scipy.stats import loguniform\n",
    "from sklearn.model_selection import RandomizedSearchCV, GridSearchCV\n",
    "from sklearn.ensemble import (\n",
    "    RandomForestRegressor,\n",
    "    GradientBoostingRegressor,\n",
    "    BaggingRegressor,\n",
    ")\n",
    "from sklearn.linear_model import Ridge\n",
    "from sklearn.neighbors import KNeighborsRegressor\n",
    "from sklearn.metrics import mean_squared_error\n",
    "import matplotlib.pyplot as plt\n",
    "import seaborn as sns\n",
    "\n",
    "%matplotlib inline\n"
   ]
  },
  {
   "cell_type": "code",
   "execution_count": null,
   "id": "e4f67cda",
   "metadata": {
    "tags": []
   },
   "outputs": [],
   "source": [
    "train = pd.read_csv(\"../data/raw/train.csv\")\n",
    "test = pd.read_csv(\"../data/raw/test.csv\")\n"
   ]
  },
  {
   "cell_type": "markdown",
   "id": "07a79300",
   "metadata": {},
   "source": [
    "## Outlier Detection"
   ]
  },
  {
   "cell_type": "markdown",
   "id": "34778037",
   "metadata": {},
   "source": [
    "### Describing the numerical column"
   ]
  },
  {
   "cell_type": "code",
   "execution_count": null,
   "id": "fa9e826b",
   "metadata": {
    "tags": []
   },
   "outputs": [],
   "source": [
    "train.describe()[['manufactured', 'curb_weight', 'power', 'engine_cap', 'depreciation', 'coe', 'road_tax', \n",
    "                'dereg_value', 'mileage', 'omv', 'arf']]"
   ]
  },
  {
   "cell_type": "markdown",
   "id": "11c22150",
   "metadata": {},
   "source": [
    "### Using Box-Plot to identify Outliers"
   ]
  },
  {
   "cell_type": "code",
   "execution_count": null,
   "id": "13197e23",
   "metadata": {
    "tags": []
   },
   "outputs": [],
   "source": [
    "plt.figure(figsize=(15,20))\n",
    "numeric_cols = train.select_dtypes([np.number]).columns\n",
    "cols = ['manufactured', 'curb_weight', 'power', 'engine_cap', 'depreciation', 'coe', 'road_tax', 'arf', 'price']\n",
    "cols = ['manufactured', \n",
    "        'curb_weight', 'power', 'engine_cap', 'depreciation', 'coe', 'road_tax', \n",
    "                'dereg_value', 'mileage', 'omv', 'arf'\n",
    "       ]\n",
    "for i, col in enumerate(cols):\n",
    "    plt.subplot(5, 3, i+1)\n",
    "    sns.boxplot(data=train, y=col)"
   ]
  },
  {
   "cell_type": "code",
   "execution_count": null,
   "id": "f7de2c14-19c5-4bdf-b098-5520963c624b",
   "metadata": {
    "tags": []
   },
   "outputs": [],
   "source": [
    "sns.boxplot(data=train, y=\"coe\", )"
   ]
  },
  {
   "cell_type": "code",
   "execution_count": null,
   "id": "506f9027-fc16-43ac-8ebb-a6c4b7edc8a9",
   "metadata": {
    "tags": []
   },
   "outputs": [],
   "source": [
    "train[train.opc_scheme == '1100'][[\"listing_id\", \"title\", \"opc_scheme\", \"price\"]]"
   ]
  },
  {
   "cell_type": "code",
   "execution_count": null,
   "id": "ab2e1cd3-6c88-4554-af59-960d12fa2279",
   "metadata": {
    "tags": []
   },
   "outputs": [],
   "source": [
    "sns.histplot(data=train[\"opc_scheme\"], )"
   ]
  },
  {
   "cell_type": "markdown",
   "id": "46925292",
   "metadata": {},
   "source": [
    "### Observations\n",
    "\n",
    "* Manufactured column contains values greater 2021, which can't be possible. It looks like data-entry error. A good intuitive way to handle this is to replace the value with OrigRegYear. That may give a close appromixation of the original value.\n",
    "\n",
    "* Curb_weight: As shown in the table above and evident from box-plot, the column contains values less than 500 Kg. A car can't have weight this low. To handle such cases we will replace the values with the mode of similar make and model car.\n",
    "\n",
    "* Mileage: Contains outliers, shown in box-blot. There are cars with mileage above 500000, where the median is 35000 and 98% of the cars are below 200000. To handle such cases we will replace the values with the mode of manufactured year.\n",
    "\n",
    "* Engine_cap: There are cars with engine capacity as 0. This isn't possible, so to handle such cases we'll replace such values with cars of similar make and model\n",
    "\n",
    "* Depreciation: For some cars depreciation is higher than the price itself. \n",
    "\n",
    "* COE: Outlier there in the data. The distribution graph seems off as well (chart below). Looking at the SgcarMart website, COE is represented in dollar value and in years. Need consistency. \n"
   ]
  },
  {
   "cell_type": "markdown",
   "id": "1db52b8b",
   "metadata": {},
   "source": [
    "#### COE Dist plot"
   ]
  },
  {
   "cell_type": "code",
   "execution_count": null,
   "id": "4d53a45c",
   "metadata": {},
   "outputs": [],
   "source": [
    "sns.distplot(train['coe'],color=\"y\")"
   ]
  },
  {
   "cell_type": "markdown",
   "id": "1597068d",
   "metadata": {},
   "source": [
    "### EDA"
   ]
  },
  {
   "cell_type": "code",
   "execution_count": null,
   "id": "941e16b5",
   "metadata": {},
   "outputs": [],
   "source": [
    "plt.figure(figsize=(20,4))\n",
    "\n",
    "temp = train.groupby(\"make\").count()['model'].reset_index()\n",
    "temp = temp[temp.model>100].make.values\n",
    "plt.subplot(1,2,1)\n",
    "sns.countplot(x=\"make\", data=train[train.make.isin(temp)],order = train[train.make.isin(temp)].make.value_counts(ascending=True).index)\n",
    "plt.xticks(rotation=90)\n",
    "plt.title(\"Frequency of cars by brand\")\n",
    "\n",
    "plt.subplot(1,2,2)\n",
    "sns.countplot(x=\"type_of_vehicle\", data=train, order = train.type_of_vehicle.value_counts(ascending=True).index)\n",
    "plt.xticks(rotation=90)\n",
    "plt.title(\"Frequency of cars by type_of_vehicle\")"
   ]
  },
  {
   "cell_type": "code",
   "execution_count": null,
   "id": "57ba0a7e",
   "metadata": {},
   "outputs": [],
   "source": [
    "plt.figure(figsize=(20,4))\n",
    "df = train.groupby(['type_of_vehicle']).mean().reset_index()\n",
    "plt.subplot(1,2,1)\n",
    "sns.barplot(data=df.sort_values(by=['price']), x='type_of_vehicle', y='price')\n",
    "plt.xticks(rotation=90)\n",
    "plt.title(\"Mean price values by type_of_vehicle\")\n",
    "\n",
    "df = train.groupby(['make']).mean().reset_index()\n",
    "df = df[df['price'] > 100000]\n",
    "plt.subplot(1,2,2)\n",
    "sns.barplot(data=df.sort_values(by=['price']), x='make', y='price')\n",
    "plt.title(\"Mean price values by brand\")\n",
    "plt.xticks(rotation=90)"
   ]
  },
  {
   "cell_type": "markdown",
   "id": "bff8bb7f",
   "metadata": {},
   "source": [
    "### Log Transformation of Mileage and COE Feature"
   ]
  },
  {
   "cell_type": "code",
   "execution_count": null,
   "id": "ac7a4619",
   "metadata": {
    "tags": []
   },
   "outputs": [],
   "source": [
    "plt.figure(figsize=(15,4))\n",
    "plt.subplot(1,2,1)\n",
    "sns.distplot(train['mileage'],color=\"y\")\n",
    "plt.title(\"Distribution without transformation\")\n",
    "\n",
    "plt.subplot(1,2,2)\n",
    "sns.distplot(np.log(train.mileage),color=\"y\")\n",
    "plt.title(\"Distribution with Log transformation\")"
   ]
  },
  {
   "cell_type": "code",
   "execution_count": null,
   "id": "3ec483e9",
   "metadata": {
    "tags": []
   },
   "outputs": [],
   "source": [
    "plt.figure(figsize=(15,4))\n",
    "plt.subplot(1,2,1)\n",
    "sns.distplot(train['coe'],color=\"y\")\n",
    "plt.title(\"Distribution without transformation\")\n",
    "\n",
    "plt.subplot(1,2,2)\n",
    "sns.distplot(np.log(train.coe),color=\"y\")\n",
    "plt.title(\"Distribution with Log transformation\")"
   ]
  },
  {
   "cell_type": "markdown",
   "id": "3f7476fb",
   "metadata": {},
   "source": [
    "### Observation:\n",
    "Two distributions one at the start and other at the end. Clearly different formats -> Outliers."
   ]
  },
  {
   "cell_type": "markdown",
   "id": "c4ea573b",
   "metadata": {},
   "source": [
    "### Bivariate Analysis"
   ]
  },
  {
   "cell_type": "code",
   "execution_count": null,
   "id": "a6824b98",
   "metadata": {},
   "outputs": [],
   "source": [
    "plt.figure(figsize=(12,10))\n",
    "cor = train.drop(['listing_id', 'indicative_price'], axis=1).corr()\n",
    "sns.heatmap(cor, annot=True, cmap=plt.cm.Reds)\n",
    "plt.show()"
   ]
  },
  {
   "cell_type": "code",
   "execution_count": null,
   "id": "6f8a90a5",
   "metadata": {},
   "outputs": [],
   "source": [
    "sns.boxplot(data=train, y='type_of_vehicle', x='price')"
   ]
  },
  {
   "cell_type": "code",
   "execution_count": null,
   "id": "975195eb",
   "metadata": {},
   "outputs": [],
   "source": [
    "plt.figure(figsize=(20,8))\n",
    "\n",
    "plt.subplot(1,2,1)\n",
    "sns.scatterplot(train.power,train.price,color=['c'])\n",
    "\n",
    "plt.subplot(1,2,2)\n",
    "sns.scatterplot((train.mileage),train['price'],color=['c'])"
   ]
  },
  {
   "cell_type": "markdown",
   "id": "db8e1aa3",
   "metadata": {},
   "source": [
    "* Higher power higher price\n",
    "* Higher mileage lower price generally"
   ]
  },
  {
   "cell_type": "markdown",
   "id": "ab37dc21",
   "metadata": {},
   "source": [
    "### Price feature "
   ]
  },
  {
   "cell_type": "code",
   "execution_count": null,
   "id": "1ff8ced2",
   "metadata": {},
   "outputs": [],
   "source": [
    "plt.figure(figsize=(20,8))\n",
    "\n",
    "plt.subplot(1,2,1)\n",
    "plt.title(' Price Distribution Plot')\n",
    "sns.distplot(train.price)\n",
    "\n",
    "plt.subplot(1,2,2)\n",
    "plt.title(' Price')\n",
    "sns.boxplot(y=train.price)\n",
    "\n",
    "plt.show()"
   ]
  },
  {
   "cell_type": "markdown",
   "id": "d22a8bcb",
   "metadata": {},
   "source": [
    "* There is a significant difference between the mean and the median of the price distribution.\n",
    "* 90% of the prices are below 200K, whereas the remaining 10% are between 200K and 3000K.\n",
    "* The distribution is positively skewed with the tail on the right side."
   ]
  }
 ],
 "metadata": {
  "kernelspec": {
   "display_name": "Python 3 (ipykernel)",
   "language": "python",
   "name": "python3"
  },
  "language_info": {
   "codemirror_mode": {
    "name": "ipython",
    "version": 3
   },
   "file_extension": ".py",
   "mimetype": "text/x-python",
   "name": "python",
   "nbconvert_exporter": "python",
   "pygments_lexer": "ipython3",
   "version": "3.9.5"
  }
 },
 "nbformat": 4,
 "nbformat_minor": 5
}
