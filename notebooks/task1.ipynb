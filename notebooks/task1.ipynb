{
 "cells": [
  {
   "cell_type": "code",
   "execution_count": 1,
   "id": "59b5972b-81a0-442c-93b6-079442acd513",
   "metadata": {
    "execution": {
     "iopub.execute_input": "2021-10-22T07:55:01.359138Z",
     "iopub.status.busy": "2021-10-22T07:55:01.358496Z",
     "iopub.status.idle": "2021-10-22T07:55:01.481261Z",
     "shell.execute_reply": "2021-10-22T07:55:01.480514Z",
     "shell.execute_reply.started": "2021-10-22T07:55:01.359061Z"
    },
    "tags": []
   },
   "outputs": [],
   "source": [
    "import sys\n",
    "\n",
    "sys.path.append(\"..\")"
   ]
  },
  {
   "cell_type": "code",
   "execution_count": 27,
   "id": "a460804d-3435-41f3-85c5-a50d7f9f519d",
   "metadata": {
    "execution": {
     "iopub.execute_input": "2021-10-22T07:55:01.482484Z",
     "iopub.status.busy": "2021-10-22T07:55:01.482169Z",
     "iopub.status.idle": "2021-10-22T07:55:03.026097Z",
     "shell.execute_reply": "2021-10-22T07:55:03.025226Z",
     "shell.execute_reply.started": "2021-10-22T07:55:01.482461Z"
    },
    "tags": []
   },
   "outputs": [],
   "source": [
    "import pandas as pd\n",
    "\n",
    "from src.transformers import *\n",
    "from sklearn.compose import ColumnTransformer\n",
    "from sklearn.preprocessing import OneHotEncoder\n",
    "from sklearn.impute import SimpleImputer\n",
    "from sklearn.preprocessing import MinMaxScaler\n",
    "from scipy.stats import loguniform\n",
    "from sklearn.model_selection import RandomizedSearchCV, GridSearchCV\n",
    "from sklearn.ensemble import (\n",
    "    RandomForestRegressor,\n",
    "    GradientBoostingRegressor,\n",
    "    BaggingRegressor,\n",
    ")\n",
    "from sklearn.linear_model import Ridge\n",
    "from sklearn.neighbors import KNeighborsRegressor\n",
    "from sklearn.metrics import mean_squared_error"
   ]
  },
  {
   "cell_type": "code",
   "execution_count": 3,
   "id": "c539161b-3b0a-443e-830c-fabad9b47aca",
   "metadata": {
    "execution": {
     "iopub.execute_input": "2021-10-22T07:55:03.028828Z",
     "iopub.status.busy": "2021-10-22T07:55:03.028461Z",
     "iopub.status.idle": "2021-10-22T07:55:03.411141Z",
     "shell.execute_reply": "2021-10-22T07:55:03.410421Z",
     "shell.execute_reply.started": "2021-10-22T07:55:03.028799Z"
    },
    "tags": []
   },
   "outputs": [
    {
     "name": "stdout",
     "output_type": "stream",
     "text": [
      "The shape of train is (16780, 51)\n",
      "The shape of test is (5000, 50)\n"
     ]
    }
   ],
   "source": [
    "train = pd.read_csv(\"../data/processed/train.csv\", sep=\",\")\n",
    "test = pd.read_csv(\"../data/processed/test.csv\", sep=\",\")\n",
    "\n",
    "print(\"The shape of train is {}\".format(train.shape))\n",
    "print(\"The shape of test is {}\".format(test.shape))"
   ]
  },
  {
   "cell_type": "code",
   "execution_count": 4,
   "id": "8fb7b3df-f67d-4981-8a11-848122e474f6",
   "metadata": {
    "execution": {
     "iopub.execute_input": "2021-10-22T07:55:03.450564Z",
     "iopub.status.busy": "2021-10-22T07:55:03.450281Z",
     "iopub.status.idle": "2021-10-22T07:55:03.462789Z",
     "shell.execute_reply": "2021-10-22T07:55:03.461923Z",
     "shell.execute_reply.started": "2021-10-22T07:55:03.450540Z"
    },
    "tags": []
   },
   "outputs": [],
   "source": [
    "class PostProcessing(BaseEstimator, TransformerMixin):\n",
    "    def __init__(self):\n",
    "        self.columns_to_drop = [\n",
    "            \"listing_id\",\n",
    "            \"title\",\n",
    "            \"model\",\n",
    "            \"description\",\n",
    "            \"original_reg_date\",\n",
    "            \"reg_date\",\n",
    "            \"category\",\n",
    "            \"lifespan\",\n",
    "            \"features\",\n",
    "            \"accessories\",\n",
    "            \"eco_category\",\n",
    "            \"indicative_price\",\n",
    "            \"reg_date_year\",\n",
    "            \"reg_date_month\",\n",
    "            \"coe_start_date\",\n",
    "            \"coe_start_year\",\n",
    "            \"coe_rebate\",\n",
    "            \"dereg_value_computed\",\n",
    "            \"manufactured\",\n",
    "            \"mileage\", \"make_model\", \"engine_cap_range\", \"price\"\n",
    "        ]\n",
    "        pass\n",
    "\n",
    "    def fit(self, X):\n",
    "        return self\n",
    "\n",
    "    def transform(self, X):\n",
    "        df = X.copy()\n",
    "        df.loc[:,'last_reg_age'] = datetime.now().year - pd.to_datetime(df.reg_date).dt.year\n",
    "        df.loc[:, 'mileage_log'] = np.log(df.mileage)\n",
    "        df = df.drop(self.columns_to_drop, axis=1, errors=\"ignore\")\n",
    "        return df"
   ]
  },
  {
   "cell_type": "code",
   "execution_count": 5,
   "id": "a8213da4-160a-4bfe-88b4-cf6c1970f775",
   "metadata": {
    "execution": {
     "iopub.execute_input": "2021-10-22T07:55:03.475534Z",
     "iopub.status.busy": "2021-10-22T07:55:03.474855Z",
     "iopub.status.idle": "2021-10-22T07:55:03.486973Z",
     "shell.execute_reply": "2021-10-22T07:55:03.486300Z",
     "shell.execute_reply.started": "2021-10-22T07:55:03.475495Z"
    },
    "tags": []
   },
   "outputs": [],
   "source": [
    "from sklearn.pipeline import Pipeline\n",
    "from sklearn.impute import SimpleImputer\n",
    "\n",
    "pipe = Pipeline(\n",
    "    [\n",
    "        (\"add_cat\", SplitValuesToColumn(\"category\")),\n",
    "        (\"post_processing\", PostProcessing()),\n",
    "        ('ohe', OheCategorical(['type_of_vehicle', 'transmission', 'brand_rank', 'opc_scheme', 'fuel_type', \"make\"]))\n",
    "    ]\n",
    ")"
   ]
  },
  {
   "cell_type": "code",
   "execution_count": 6,
   "id": "ae781b3b",
   "metadata": {},
   "outputs": [],
   "source": [
    "trainX = train\n",
    "trainY = train.loc[:, 'price']"
   ]
  },
  {
   "cell_type": "code",
   "execution_count": 7,
   "id": "96ccdc0d-c5e5-4d6d-851b-db8177e624b3",
   "metadata": {
    "execution": {
     "iopub.execute_input": "2021-10-22T07:55:03.488915Z",
     "iopub.status.busy": "2021-10-22T07:55:03.488547Z",
     "iopub.status.idle": "2021-10-22T07:55:03.722516Z",
     "shell.execute_reply": "2021-10-22T07:55:03.721897Z",
     "shell.execute_reply.started": "2021-10-22T07:55:03.488889Z"
    },
    "tags": []
   },
   "outputs": [],
   "source": [
    "# X_train = pipe.fit_transform(trainX)\n",
    "# X_test = pipe.transform(test)\n",
    "# y_train=trainY"
   ]
  },
  {
   "cell_type": "code",
   "execution_count": 8,
   "id": "727244b5",
   "metadata": {},
   "outputs": [],
   "source": [
    "# list(X_train.columns)"
   ]
  },
  {
   "cell_type": "code",
   "execution_count": 9,
   "id": "fed93e79-91b1-4bcd-b2c3-fbcd062096df",
   "metadata": {
    "execution": {
     "iopub.execute_input": "2021-10-22T07:56:06.359888Z",
     "iopub.status.busy": "2021-10-22T07:56:06.359365Z",
     "iopub.status.idle": "2021-10-22T07:56:06.387454Z",
     "shell.execute_reply": "2021-10-22T07:56:06.386537Z",
     "shell.execute_reply.started": "2021-10-22T07:56:06.359863Z"
    },
    "tags": []
   },
   "outputs": [],
   "source": [
    "from sklearn.model_selection import train_test_split\n",
    "X_train, X_test, y_train, y_test = train_test_split(trainX, trainY, test_size=0.2, random_state=72)\n",
    "\n",
    "X_train.reset_index(inplace=True, drop=True)\n",
    "X_test.reset_index(inplace=True, drop=True)\n",
    "\n",
    "y_train.reset_index(inplace=True, drop=True)\n",
    "y_test.reset_index(inplace=True, drop=True)"
   ]
  },
  {
   "cell_type": "code",
   "execution_count": 10,
   "id": "b3637943",
   "metadata": {},
   "outputs": [
    {
     "name": "stdout",
     "output_type": "stream",
     "text": [
      "X_Train:(13424, 142)\n"
     ]
    }
   ],
   "source": [
    "X_train = pipe.fit_transform(X_train)\n",
    "X_test = pipe.transform(X_test)\n",
    "\n",
    "print(f\"X_Train:{X_train.shape}\")"
   ]
  },
  {
   "cell_type": "code",
   "execution_count": 34,
   "id": "a7466318",
   "metadata": {},
   "outputs": [],
   "source": [
    "# Defining various algorithms\n",
    "\n",
    "models = [\n",
    "    {\"name\": type(RandomForestRegressor()).__name__, \"model\": RandomForestRegressor, \"params\":{\n",
    "    \"max_depth\": [40, 50, 60, 100],\n",
    "    \"max_features\": [\"sqrt\"],\n",
    "    \"n_estimators\": [100, 200, 400]}\n",
    "    },\n",
    "    {\"name\": type(GradientBoostingRegressor()).__name__, \"model\": GradientBoostingRegressor, \"params\":{\n",
    "    \"n_estimators\": [1000],\n",
    "    \"learning_rate\": [0.05],\n",
    "    \"max_depth\": [5],\n",
    "    \"max_features\": [\"sqrt\"]}\n",
    "    },\n",
    "    {\"name\": type(Ridge()).__name__, \"model\": Ridge, \"params\":{\n",
    "    \"solver\": [\"svd\", \"cholesky\", \"lsqr\", \"sag\"],\n",
    "    \"alpha\": loguniform(1e-5, 100),\n",
    "    \"fit_intercept\": [True, False],\n",
    "    \"normalize\": [True, False]}\n",
    "    },\n",
    "    {\"name\": type(KNeighborsRegressor()).__name__, \"model\": KNeighborsRegressor, \"params\":{\n",
    "    \"n_neighbors\": [1, 3, 5]}\n",
    "    }\n",
    "]"
   ]
  },
  {
   "cell_type": "code",
   "execution_count": 37,
   "id": "3f023a9d",
   "metadata": {},
   "outputs": [
    {
     "name": "stdout",
     "output_type": "stream",
     "text": [
      "*** Training Model: KNeighborsRegressor\n",
      "Fitting 3 folds for each of 3 candidates, totalling 9 fits\n"
     ]
    },
    {
     "name": "stderr",
     "output_type": "stream",
     "text": [
      "/home/akshatjhalani_y12/anaconda3/envs/nus_dm/lib/python3.9/site-packages/sklearn/model_selection/_search.py:285: UserWarning: The total space of parameters 3 is smaller than n_iter=10. Running 3 iterations. For exhaustive searches, use GridSearchCV.\n",
      "  warnings.warn(\n"
     ]
    },
    {
     "name": "stdout",
     "output_type": "stream",
     "text": [
      "Best Params {'n_neighbors': 3}\n",
      "Best Score 0.8981495329092977\n",
      "\n",
      "\n",
      "\n",
      "Best Model: KNeighborsRegressor\n"
     ]
    }
   ],
   "source": [
    "best_model = None\n",
    "best_params = {}\n",
    "for model in models:\n",
    "    print(f\"*** Training Model: {model['name']}\")\n",
    "    model_tuning = RandomizedSearchCV(\n",
    "        estimator=model['model'](),\n",
    "        param_distributions=model['params'],\n",
    "        n_iter=10,\n",
    "        cv=3,\n",
    "        verbose=3,\n",
    "        random_state=42,\n",
    "        n_jobs=-1,\n",
    "    )\n",
    "\n",
    "    model_tuning.fit(X_train, y_train)\n",
    "    print(f\"Best Params {model_tuning.best_params_}\")\n",
    "    print(f\"Best Score {model_tuning.best_score_}\")\n",
    "    print(\"\\n\\n\")\n",
    "    \n",
    "    if (best_model is None or best_model.best_score_ < model_tuning.best_score_):\n",
    "        best_model = model['model']\n",
    "        best_params = model_tuning.best_params_\n",
    "\n",
    "print(f\"Best Model: {model['name']}\")"
   ]
  },
  {
   "cell_type": "code",
   "execution_count": 41,
   "id": "0880bdc6",
   "metadata": {},
   "outputs": [
    {
     "data": {
      "text/plain": [
       "40351.816134538254"
      ]
     },
     "execution_count": 41,
     "metadata": {},
     "output_type": "execute_result"
    }
   ],
   "source": [
    "best_model = best_model(**best_params)\n",
    "best_model.fit(X_train, y_train)\n",
    "\n",
    "y_pred = best_model.predict(X_test)\n",
    "mean_squared_error(y_test, y_pred, squared=False)"
   ]
  },
  {
   "cell_type": "code",
   "execution_count": null,
   "id": "eca248a5",
   "metadata": {},
   "outputs": [],
   "source": []
  },
  {
   "cell_type": "code",
   "execution_count": null,
   "id": "9576497a",
   "metadata": {},
   "outputs": [],
   "source": [
    "y_pred = best_model.predict(X_test)\n",
    "my_submission = pd.DataFrame({'Id': list(test.index), 'Predicted': y_pred})\n",
    "my_submission.to_csv('submission.csv', index=False)"
   ]
  },
  {
   "cell_type": "code",
   "execution_count": 42,
   "id": "590f8de8",
   "metadata": {},
   "outputs": [
    {
     "ename": "AttributeError",
     "evalue": "'KNeighborsRegressor' object has no attribute 'feature_importances_'",
     "output_type": "error",
     "traceback": [
      "\u001b[0;31m---------------------------------------------------------------------------\u001b[0m",
      "\u001b[0;31mAttributeError\u001b[0m                            Traceback (most recent call last)",
      "\u001b[0;32m<ipython-input-42-8f724021cf56>\u001b[0m in \u001b[0;36m<module>\u001b[0;34m\u001b[0m\n\u001b[1;32m      4\u001b[0m \u001b[0;32mimport\u001b[0m \u001b[0mmatplotlib\u001b[0m\u001b[0;34m.\u001b[0m\u001b[0mpyplot\u001b[0m \u001b[0;32mas\u001b[0m \u001b[0mplt\u001b[0m\u001b[0;34m\u001b[0m\u001b[0;34m\u001b[0m\u001b[0m\n\u001b[1;32m      5\u001b[0m \u001b[0;34m\u001b[0m\u001b[0m\n\u001b[0;32m----> 6\u001b[0;31m \u001b[0mforest_importances\u001b[0m \u001b[0;34m=\u001b[0m \u001b[0mpd\u001b[0m\u001b[0;34m.\u001b[0m\u001b[0mSeries\u001b[0m\u001b[0;34m(\u001b[0m\u001b[0mbest_model\u001b[0m\u001b[0;34m.\u001b[0m\u001b[0mfeature_importances_\u001b[0m\u001b[0;34m,\u001b[0m \u001b[0mindex\u001b[0m\u001b[0;34m=\u001b[0m\u001b[0mlist\u001b[0m\u001b[0;34m(\u001b[0m\u001b[0mX_train\u001b[0m\u001b[0;34m.\u001b[0m\u001b[0mcolumns\u001b[0m\u001b[0;34m)\u001b[0m\u001b[0;34m)\u001b[0m\u001b[0;34m\u001b[0m\u001b[0;34m\u001b[0m\u001b[0m\n\u001b[0m\u001b[1;32m      7\u001b[0m \u001b[0mforest_importances\u001b[0m \u001b[0;34m=\u001b[0m \u001b[0mforest_importances\u001b[0m\u001b[0;34m[\u001b[0m\u001b[0mforest_importances\u001b[0m \u001b[0;34m>\u001b[0m \u001b[0;36m0.001\u001b[0m\u001b[0;34m]\u001b[0m\u001b[0;34m\u001b[0m\u001b[0;34m\u001b[0m\u001b[0m\n\u001b[1;32m      8\u001b[0m \u001b[0;34m\u001b[0m\u001b[0m\n",
      "\u001b[0;31mAttributeError\u001b[0m: 'KNeighborsRegressor' object has no attribute 'feature_importances_'"
     ]
    }
   ],
   "source": [
    "# plot feature importance\n",
    "\n",
    "%matplotlib inline\n",
    "import matplotlib.pyplot as plt\n",
    "\n",
    "forest_importances = pd.Series(best_model.feature_importances_, index=list(X_train.columns))\n",
    "forest_importances = forest_importances[forest_importances > 0.001]\n",
    "\n",
    "plt.figure(figsize=(20,8))\n",
    "forest_importances.plot.bar()"
   ]
  },
  {
   "cell_type": "code",
   "execution_count": null,
   "id": "ada1d400-1857-4706-8e88-cd516fcb452e",
   "metadata": {
    "execution": {
     "iopub.execute_input": "2021-10-22T07:53:46.873767Z",
     "iopub.status.busy": "2021-10-22T07:53:46.873495Z",
     "iopub.status.idle": "2021-10-22T07:53:46.883193Z",
     "shell.execute_reply": "2021-10-22T07:53:46.882569Z",
     "shell.execute_reply.started": "2021-10-22T07:53:46.873741Z"
    },
    "tags": []
   },
   "outputs": [],
   "source": [
    "y_pred = best_model.predict(X_test)\n",
    "# df = DataFrame(y_pred, columns=[\"Predicted\"], )\n",
    "# df.index.rename(\"Id\", inplace=True)\n",
    "# df.to_csv(\"dump.csv\")"
   ]
  }
 ],
 "metadata": {
  "kernelspec": {
   "display_name": "Python 3",
   "language": "python",
   "name": "python3"
  },
  "language_info": {
   "codemirror_mode": {
    "name": "ipython",
    "version": 3
   },
   "file_extension": ".py",
   "mimetype": "text/x-python",
   "name": "python",
   "nbconvert_exporter": "python",
   "pygments_lexer": "ipython3",
   "version": "3.9.6"
  }
 },
 "nbformat": 4,
 "nbformat_minor": 5
}
