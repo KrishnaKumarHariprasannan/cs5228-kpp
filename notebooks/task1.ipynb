{
 "cells": [
  {
   "cell_type": "markdown",
   "id": "f82cec65",
   "metadata": {
    "execution": {
     "iopub.execute_input": "2021-10-22T07:55:01.359138Z",
     "iopub.status.busy": "2021-10-22T07:55:01.358496Z",
     "iopub.status.idle": "2021-10-22T07:55:01.481261Z",
     "shell.execute_reply": "2021-10-22T07:55:01.480514Z",
     "shell.execute_reply.started": "2021-10-22T07:55:01.359061Z"
    },
    "tags": []
   },
   "source": [
    "# CS5228 Project - Task 1 Modelling\n",
    "\n",
    "This notebook models several classic state-of-the art machine learning techniques on the cleaned SGCarMart dataset. The models include ensemble learning technqiues, Neural Network, Non-parametric algorithms, etc.\n"
   ]
  },
  {
   "cell_type": "code",
   "execution_count": null,
   "id": "1d2cf42e",
   "metadata": {},
   "outputs": [],
   "source": [
    "import sys\n",
    "\n",
    "sys.path.append(\"..\")"
   ]
  },
  {
   "cell_type": "code",
   "execution_count": null,
   "id": "a460804d-3435-41f3-85c5-a50d7f9f519d",
   "metadata": {
    "tags": []
   },
   "outputs": [],
   "source": [
    "import pandas as pd\n",
    "import time\n",
    "\n",
    "from src.transformers import *\n",
    "\n",
    "from random import randrange\n",
    "from sklearn.compose import ColumnTransformer\n",
    "from sklearn.preprocessing import OneHotEncoder\n",
    "from sklearn.impute import SimpleImputer\n",
    "from sklearn.preprocessing import MinMaxScaler\n",
    "from scipy.stats import loguniform\n",
    "from sklearn.model_selection import RandomizedSearchCV, GridSearchCV\n",
    "from sklearn.ensemble import (\n",
    "    RandomForestRegressor,\n",
    "    GradientBoostingRegressor,\n",
    "    BaggingRegressor,\n",
    ")\n",
    "from sklearn.linear_model import Ridge\n",
    "from sklearn.neighbors import KNeighborsRegressor\n",
    "from sklearn.neural_network import MLPRegressor\n",
    "from sklearn.metrics import mean_squared_error"
   ]
  },
  {
   "cell_type": "code",
   "execution_count": null,
   "id": "fb54d23a",
   "metadata": {},
   "outputs": [],
   "source": [
    "# Set this flag if this is for submission\n",
    "is_submission = False"
   ]
  },
  {
   "cell_type": "code",
   "execution_count": null,
   "id": "c539161b-3b0a-443e-830c-fabad9b47aca",
   "metadata": {
    "tags": []
   },
   "outputs": [],
   "source": [
    "train = pd.read_csv(\"../data/processed/train.csv\", sep=\",\")\n",
    "test = pd.read_csv(\"../data/processed/test.csv\", sep=\",\")\n",
    "\n",
    "print(\"The shape of train is {}\".format(train.shape))\n",
    "print(\"The shape of test is {}\".format(test.shape))"
   ]
  },
  {
   "cell_type": "code",
   "execution_count": null,
   "id": "8fb7b3df-f67d-4981-8a11-848122e474f6",
   "metadata": {
    "tags": []
   },
   "outputs": [],
   "source": [
    "class PostProcessing(BaseEstimator, TransformerMixin):\n",
    "    def __init__(self):\n",
    "        self.columns_to_drop = [\n",
    "            \"listing_id\",\n",
    "            \"title\",\n",
    "            \"model\",\n",
    "            \"make\",\n",
    "            \"make_model\",\n",
    "            \"description\",\n",
    "            \"original_reg_date\",\n",
    "            \"reg_date\",\n",
    "            \"category\",\n",
    "            \"lifespan\",\n",
    "            \"features\",\n",
    "            \"accessories\",\n",
    "            \"eco_category\",\n",
    "            \"indicative_price\",\n",
    "            \"reg_date_year\",\n",
    "            \"reg_date_month\",\n",
    "            \"coe_start_date\",\n",
    "            \"coe_start_year\",\n",
    "            \"coe_rebate\",\n",
    "            \"dereg_value_computed\",\n",
    "            \"engine_cap_bins\",\n",
    "            \"price\",\n",
    "            \"coe_text\",\n",
    "            \"coe_expiry_days\",\n",
    "            \"coe_expiry_date\",\n",
    "            \"coe_start_date\",\n",
    "        ]\n",
    "        pass\n",
    "\n",
    "    def fit(self, X):\n",
    "        return self\n",
    "\n",
    "    def transform(self, X):\n",
    "        df = X.copy()\n",
    "        df.loc[:, \"last_reg_age\"] = (\n",
    "            datetime.now().year - pd.to_datetime(df.reg_date).dt.year\n",
    "        )\n",
    "        df.loc[:, \"mileage_log\"] = np.log(df.mileage)\n",
    "        df = df.drop(self.columns_to_drop, axis=1, errors=\"ignore\")\n",
    "        return df"
   ]
  },
  {
   "cell_type": "code",
   "execution_count": null,
   "id": "a8213da4-160a-4bfe-88b4-cf6c1970f775",
   "metadata": {
    "tags": []
   },
   "outputs": [],
   "source": [
    "from sklearn.pipeline import Pipeline\n",
    "from sklearn.impute import SimpleImputer\n",
    "\n",
    "pipe = Pipeline(\n",
    "    [\n",
    "        (\"add_cat\", SplitValuesToColumn(\"category\")),\n",
    "        (\"post_processing\", PostProcessing()),\n",
    "        (\n",
    "            \"ohe\",\n",
    "            OheCategorical(\n",
    "                [\n",
    "                    \"type_of_vehicle\",\n",
    "                    \"transmission\",\n",
    "                    \"brand_rank\",\n",
    "                    \"opc_scheme\",\n",
    "                    \"fuel_type\",\n",
    "                    \"vehicle_age_bins\",\n",
    "                ]\n",
    "            ),\n",
    "        ),\n",
    "    ]\n",
    ")"
   ]
  },
  {
   "cell_type": "code",
   "execution_count": null,
   "id": "ae781b3b",
   "metadata": {},
   "outputs": [],
   "source": [
    "trainX = train\n",
    "trainY = train.loc[:, \"price\"]"
   ]
  },
  {
   "cell_type": "code",
   "execution_count": null,
   "id": "fed93e79-91b1-4bcd-b2c3-fbcd062096df",
   "metadata": {
    "tags": []
   },
   "outputs": [],
   "source": [
    "if not is_submission:\n",
    "    from sklearn.model_selection import train_test_split\n",
    "\n",
    "    X_train, X_test, y_train, y_test = train_test_split(\n",
    "        trainX, trainY, test_size=0.2, random_state=72\n",
    "    )\n",
    "\n",
    "    X_train.reset_index(inplace=True, drop=True)\n",
    "    X_test.reset_index(inplace=True, drop=True)\n",
    "\n",
    "    y_train.reset_index(inplace=True, drop=True)\n",
    "    y_test.reset_index(inplace=True, drop=True)"
   ]
  },
  {
   "cell_type": "code",
   "execution_count": null,
   "id": "b3637943",
   "metadata": {},
   "outputs": [],
   "source": [
    "if is_submission:\n",
    "    X_train = pipe.fit_transform(trainX)\n",
    "    X_test = pipe.transform(test)\n",
    "    y_train = trainY\n",
    "else:\n",
    "    X_train = pipe.fit_transform(X_train)\n",
    "    X_test = pipe.transform(X_test)\n",
    "\n",
    "print(f\"X_Train:{X_train.shape}\")"
   ]
  },
  {
   "cell_type": "code",
   "execution_count": null,
   "id": "ec970ddc",
   "metadata": {},
   "outputs": [],
   "source": [
    "def run_hpo(model, params, X, y):\n",
    "\n",
    "    model_name = type(model()).__name__\n",
    "    print(f\"*** Running HPO for: {model_name}\")\n",
    "    model_tuning = GridSearchCV(\n",
    "        estimator=model(), param_grid=params, cv=5, verbose=3, n_jobs=-1,\n",
    "    )\n",
    "\n",
    "    model_tuning.fit(X, y)\n",
    "    print(f\"Best Params {model_tuning.best_params_}\")\n",
    "    print(f\"Best Score {model_tuning.best_score_}\")\n",
    "    print(\"\")\n",
    "    return model_tuning.best_params_\n",
    "\n",
    "\n",
    "def Run(model, params, X, y):\n",
    "    scores_train = []\n",
    "    scores_test = []\n",
    "    best_params = run_hpo(model, params, X, y)\n",
    "    model_name = type(model()).__name__\n",
    "    print(f\"*** Training: {model_name}\")\n",
    "    start_time = int(time.time())\n",
    "    for i in range(3):\n",
    "        random = randrange(100)\n",
    "        X_train, X_test, y_train, y_test = train_test_split(\n",
    "            X, y, test_size=0.20, random_state=random\n",
    "        )\n",
    "\n",
    "        best_model = model(**best_params)\n",
    "        best_model.fit(X_train, y_train)\n",
    "        y_pred = best_model.predict(X_test)\n",
    "        y_pred_train = best_model.predict(X_train)\n",
    "\n",
    "        scores_train.append(mean_squared_error(y_train, y_pred_train, squared=False))\n",
    "        scores_test.append(mean_squared_error(y_test, y_pred, squared=False))\n",
    "    end_time = int(time.time())\n",
    "\n",
    "    print(\"[Testing Error] Root Mean Squared  Error : \", np.mean(scores_test))\n",
    "    print(\"[Training Error] Root Mean Squared  Error : \", np.mean(scores_train))\n",
    "    print(f\"Runtime: {(end_time-start_time)/3} seconds\")\n",
    "    return None"
   ]
  },
  {
   "cell_type": "markdown",
   "id": "d55e73f9",
   "metadata": {},
   "source": [
    "#### Define all the models with the paramter ranges that we want to tune."
   ]
  },
  {
   "cell_type": "code",
   "execution_count": null,
   "id": "be6d594a",
   "metadata": {
    "tags": []
   },
   "outputs": [],
   "source": [
    "models = [\n",
    "    {\n",
    "        \"name\": type(RandomForestRegressor()).__name__,\n",
    "        \"model\": RandomForestRegressor,\n",
    "        \"params\": {\n",
    "            \"max_depth\": [10, 50, 100],\n",
    "            \"max_features\": [\"sqrt\"],\n",
    "            \"n_estimators\": [100, 200],\n",
    "        },\n",
    "    },\n",
    "    {\n",
    "        \"name\": type(GradientBoostingRegressor()).__name__,\n",
    "        \"model\": GradientBoostingRegressor,\n",
    "        \"params\": {\n",
    "            \"n_estimators\": [500, 1000],\n",
    "            \"learning_rate\": [0.01, 0.05],\n",
    "            \"max_depth\": [5, 10],\n",
    "            \"max_features\": [\"sqrt\"],\n",
    "        },\n",
    "    },\n",
    "    {\n",
    "        \"name\": type(Ridge()).__name__,\n",
    "        \"model\": Ridge,\n",
    "        \"params\": {\n",
    "            \"solver\": [\"svd\", \"cholesky\", \"lsqr\", \"sag\"],\n",
    "            \"alpha\": [0.00001, 0.0001, 0.01],\n",
    "            \"fit_intercept\": [True, False],\n",
    "            \"normalize\": [True, False],\n",
    "        },\n",
    "    },\n",
    "    {\n",
    "        \"name\": type(KNeighborsRegressor()).__name__,\n",
    "        \"model\": KNeighborsRegressor,\n",
    "        \"params\": {\"n_neighbors\": [1, 3, 5]},\n",
    "    },\n",
    "    {\n",
    "        \"name\": type(MLPRegressor()).__name__,\n",
    "        \"model\": MLPRegressor,\n",
    "        \"params\": {\n",
    "            \"hidden_layer_sizes\": [(50, 50, 50), (50, 100, 50), (200, 20)],\n",
    "            \"activation\": [\"relu\", \"tanh\", \"logistic\"],\n",
    "            \"alpha\": [0.0001, 0.05],\n",
    "            \"learning_rate\": [\"constant\", \"adaptive\"],\n",
    "            \"solver\": [\"adam\"],\n",
    "        },\n",
    "    },\n",
    "]"
   ]
  },
  {
   "cell_type": "code",
   "execution_count": null,
   "id": "98559f1d",
   "metadata": {},
   "outputs": [],
   "source": [
    "from sklearn.model_selection import train_test_split\n",
    "\n",
    "for model in models:\n",
    "    Run(model[\"model\"], model[\"params\"], X_train, y_train)\n",
    "    print(\"***\")"
   ]
  },
  {
   "cell_type": "markdown",
   "id": "b62c0c55",
   "metadata": {},
   "source": [
    "### Select the best model with tuned hyper-parameters"
   ]
  },
  {
   "cell_type": "code",
   "execution_count": null,
   "id": "2726b978",
   "metadata": {
    "tags": []
   },
   "outputs": [],
   "source": [
    "best_model = RandomForestRegressor\n",
    "best_params = {\n",
    "    \"max_depth\": 50,\n",
    "    \"max_features\": \"sqrt\",\n",
    "    \"n_estimators\": 100\n",
    "}"
   ]
  },
  {
   "cell_type": "markdown",
   "id": "6cb19cca",
   "metadata": {},
   "source": [
    "### Selecting top features\n",
    "\n",
    "We removed the features which are of low importance and re-trained our model on the reduced set of features"
   ]
  },
  {
   "cell_type": "code",
   "execution_count": null,
   "id": "c3e627ed",
   "metadata": {
    "tags": []
   },
   "outputs": [],
   "source": [
    "final_model = best_model(**best_params)\n",
    "final_model.fit(X_train, y_train)\n",
    "\n",
    "\n",
    "forest_importances = pd.Series(\n",
    "    final_model.feature_importances_, index=list(X_train.columns)\n",
    ")\n",
    "remove_cols = list(\n",
    "    forest_importances[forest_importances <= 0.01].reset_index()[\"index\"].values\n",
    ")\n",
    "\n",
    "X_train = X_train[X_train.columns.difference(remove_cols)]\n",
    "X_test = X_test[X_test.columns.difference(remove_cols)]"
   ]
  },
  {
   "cell_type": "markdown",
   "id": "f8683d2b",
   "metadata": {},
   "source": [
    "### Feature Importance"
   ]
  },
  {
   "cell_type": "code",
   "execution_count": null,
   "id": "e2f3bf70",
   "metadata": {
    "tags": []
   },
   "outputs": [],
   "source": [
    "%matplotlib inline\n",
    "import matplotlib.pyplot as plt\n",
    "\n",
    "forest_importances = forest_importances[forest_importances >= 0.0005]\n",
    "\n",
    "plt.figure(figsize=(15, 4))\n",
    "forest_importances.plot.bar()"
   ]
  },
  {
   "cell_type": "code",
   "execution_count": null,
   "id": "9f80e17a",
   "metadata": {
    "tags": []
   },
   "outputs": [],
   "source": [
    "final_model = best_model(**best_params)\n",
    "final_model.fit(X_train, y_train)"
   ]
  },
  {
   "cell_type": "code",
   "execution_count": null,
   "id": "b06e1536",
   "metadata": {
    "tags": []
   },
   "outputs": [],
   "source": [
    "y_pred = final_model.predict(X_test)"
   ]
  },
  {
   "cell_type": "code",
   "execution_count": null,
   "id": "eca248a5",
   "metadata": {
    "tags": []
   },
   "outputs": [],
   "source": [
    "if not is_submission:\n",
    "    print(mean_squared_error(y_test, y_pred, squared=False))"
   ]
  },
  {
   "cell_type": "markdown",
   "id": "19e99732",
   "metadata": {},
   "source": [
    "### Submission"
   ]
  },
  {
   "cell_type": "code",
   "execution_count": null,
   "id": "9576497a",
   "metadata": {
    "tags": []
   },
   "outputs": [],
   "source": [
    "if is_submission:\n",
    "    my_submission = pd.DataFrame({\"Id\": list(test.index), \"Predicted\": y_pred})\n",
    "    my_submission.to_csv(\"submission.csv\", index=False)"
   ]
  },
  {
   "cell_type": "code",
   "execution_count": null,
   "id": "8904267b",
   "metadata": {},
   "outputs": [],
   "source": []
  }
 ],
 "metadata": {
  "kernelspec": {
   "display_name": "Python 3 (ipykernel)",
   "language": "python",
   "name": "python3"
  },
  "language_info": {
   "codemirror_mode": {
    "name": "ipython",
    "version": 3
   },
   "file_extension": ".py",
   "mimetype": "text/x-python",
   "name": "python",
   "nbconvert_exporter": "python",
   "pygments_lexer": "ipython3",
   "version": "3.9.5"
  }
 },
 "nbformat": 4,
 "nbformat_minor": 5
}
