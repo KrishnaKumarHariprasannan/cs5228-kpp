{
 "cells": [
  {
   "cell_type": "code",
   "execution_count": 1,
   "id": "59b5972b-81a0-442c-93b6-079442acd513",
   "metadata": {
    "execution": {
     "iopub.execute_input": "2021-10-22T07:55:01.359138Z",
     "iopub.status.busy": "2021-10-22T07:55:01.358496Z",
     "iopub.status.idle": "2021-10-22T07:55:01.481261Z",
     "shell.execute_reply": "2021-10-22T07:55:01.480514Z",
     "shell.execute_reply.started": "2021-10-22T07:55:01.359061Z"
    },
    "tags": []
   },
   "outputs": [],
   "source": [
    "import sys\n",
    "\n",
    "sys.path.append(\"..\")"
   ]
  },
  {
   "cell_type": "code",
   "execution_count": 2,
   "id": "a460804d-3435-41f3-85c5-a50d7f9f519d",
   "metadata": {
    "execution": {
     "iopub.execute_input": "2021-10-22T07:55:01.482484Z",
     "iopub.status.busy": "2021-10-22T07:55:01.482169Z",
     "iopub.status.idle": "2021-10-22T07:55:03.026097Z",
     "shell.execute_reply": "2021-10-22T07:55:03.025226Z",
     "shell.execute_reply.started": "2021-10-22T07:55:01.482461Z"
    },
    "tags": []
   },
   "outputs": [],
   "source": [
    "import pandas as pd\n",
    "\n",
    "from src.transformers import *\n",
    "from sklearn.compose import ColumnTransformer\n",
    "from sklearn.preprocessing import OneHotEncoder\n",
    "from sklearn.impute import SimpleImputer\n",
    "from sklearn.preprocessing import MinMaxScaler\n",
    "from scipy.stats import loguniform\n",
    "from sklearn.model_selection import RandomizedSearchCV\n",
    "from sklearn.ensemble import (\n",
    "    RandomForestRegressor,\n",
    "    GradientBoostingRegressor,\n",
    "    BaggingRegressor,\n",
    ")\n",
    "from sklearn.linear_model import Ridge\n",
    "from sklearn.neighbors import KNeighborsRegressor\n",
    "from sklearn.metrics import mean_squared_error"
   ]
  },
  {
   "cell_type": "code",
   "execution_count": 3,
   "id": "c539161b-3b0a-443e-830c-fabad9b47aca",
   "metadata": {
    "execution": {
     "iopub.execute_input": "2021-10-22T07:55:03.028828Z",
     "iopub.status.busy": "2021-10-22T07:55:03.028461Z",
     "iopub.status.idle": "2021-10-22T07:55:03.411141Z",
     "shell.execute_reply": "2021-10-22T07:55:03.410421Z",
     "shell.execute_reply.started": "2021-10-22T07:55:03.028799Z"
    },
    "tags": []
   },
   "outputs": [
    {
     "name": "stdout",
     "output_type": "stream",
     "text": [
      "The shape of train is (16780, 44)\n",
      "The shape of test is (5000, 43)\n"
     ]
    }
   ],
   "source": [
    "train = pd.read_csv(\"../data/processed/train.csv\", sep=\",\")\n",
    "test = pd.read_csv(\"../data/processed/test.csv\", sep=\",\")\n",
    "\n",
    "print(\"The shape of train is {}\".format(train.shape))\n",
    "print(\"The shape of test is {}\".format(test.shape))"
   ]
  },
  {
   "cell_type": "code",
   "execution_count": 5,
   "id": "8fb7b3df-f67d-4981-8a11-848122e474f6",
   "metadata": {
    "execution": {
     "iopub.execute_input": "2021-10-22T07:55:03.450564Z",
     "iopub.status.busy": "2021-10-22T07:55:03.450281Z",
     "iopub.status.idle": "2021-10-22T07:55:03.462789Z",
     "shell.execute_reply": "2021-10-22T07:55:03.461923Z",
     "shell.execute_reply.started": "2021-10-22T07:55:03.450540Z"
    },
    "tags": []
   },
   "outputs": [],
   "source": [
    "class PostProcessing(BaseEstimator, TransformerMixin):\n",
    "    def __init__(self):\n",
    "        self.columns_to_drop = [\n",
    "            \"listing_id\",\n",
    "            \"title\",\n",
    "            \"make\",\n",
    "            \"model\",\n",
    "            \"description\",\n",
    "            \"original_reg_date\",\n",
    "            \"reg_date\",\n",
    "            \"category\",\n",
    "            \"lifespan\",\n",
    "            \"features\",\n",
    "            \"accessories\",\n",
    "            \"eco_category\",\n",
    "            \"indicative_price\",\n",
    "            \"reg_date_year\",\n",
    "            \"reg_date_month\",\n",
    "            \"coe_start_date\",\n",
    "            \"coe_start_year\",\n",
    "            \"coe_rebate\",\n",
    "            \"dereg_value_computed\",\n",
    "        ]\n",
    "        pass\n",
    "\n",
    "    def fit(self, X):\n",
    "        return self\n",
    "\n",
    "    def transform(self, X):\n",
    "        df = X.copy()\n",
    "        df = df.drop(self.columns_to_drop, axis=1, errors=\"ignore\")\n",
    "        return df"
   ]
  },
  {
   "cell_type": "code",
   "execution_count": 6,
   "id": "9d4f72d2-8b1a-4bdb-8552-aff2c5c16ef1",
   "metadata": {
    "execution": {
     "iopub.execute_input": "2021-10-22T07:55:03.463910Z",
     "iopub.status.busy": "2021-10-22T07:55:03.463684Z",
     "iopub.status.idle": "2021-10-22T07:55:03.473564Z",
     "shell.execute_reply": "2021-10-22T07:55:03.472972Z",
     "shell.execute_reply.started": "2021-10-22T07:55:03.463886Z"
    },
    "tags": []
   },
   "outputs": [],
   "source": [
    "ct = ColumnTransformer(\n",
    "    [\n",
    "        (\n",
    "            \"ohe\",\n",
    "            OneHotEncoder(sparse=False, handle_unknown=\"ignore\"),\n",
    "            [\n",
    "                \"fuel_type\",\n",
    "                \"type_of_vehicle\",\n",
    "                \"transmission\",\n",
    "                \"make_model\",\n",
    "                \"opc_scheme\",\n",
    "            ],\n",
    "        ),\n",
    "    ],\n",
    "    remainder=\"passthrough\",\n",
    ")"
   ]
  },
  {
   "cell_type": "code",
   "execution_count": 7,
   "id": "a8213da4-160a-4bfe-88b4-cf6c1970f775",
   "metadata": {
    "execution": {
     "iopub.execute_input": "2021-10-22T07:55:03.475534Z",
     "iopub.status.busy": "2021-10-22T07:55:03.474855Z",
     "iopub.status.idle": "2021-10-22T07:55:03.486973Z",
     "shell.execute_reply": "2021-10-22T07:55:03.486300Z",
     "shell.execute_reply.started": "2021-10-22T07:55:03.475495Z"
    },
    "tags": []
   },
   "outputs": [],
   "source": [
    "from sklearn.pipeline import Pipeline\n",
    "from sklearn.impute import SimpleImputer\n",
    "\n",
    "pipe = Pipeline(\n",
    "    [\n",
    "        (\"add_cat\", SplitValuesToColumn(\"category\")),\n",
    "        (\"post_processing\", PostProcessing()),\n",
    "        (\"normalization\", ct),\n",
    "    ]\n",
    ")"
   ]
  },
  {
   "cell_type": "code",
   "execution_count": 8,
   "id": "96ccdc0d-c5e5-4d6d-851b-db8177e624b3",
   "metadata": {
    "execution": {
     "iopub.execute_input": "2021-10-22T07:55:03.488915Z",
     "iopub.status.busy": "2021-10-22T07:55:03.488547Z",
     "iopub.status.idle": "2021-10-22T07:55:03.722516Z",
     "shell.execute_reply": "2021-10-22T07:55:03.721897Z",
     "shell.execute_reply.started": "2021-10-22T07:55:03.488889Z"
    },
    "tags": []
   },
   "outputs": [
    {
     "data": {
      "text/plain": [
       "(16780, 131)"
      ]
     },
     "execution_count": 8,
     "metadata": {},
     "output_type": "execute_result"
    }
   ],
   "source": [
    "trainX = train.loc[:, train.columns != \"price\"]\n",
    "trainY = train.loc[:, \"price\"]\n",
    "\n",
    "X_train = pipe.fit_transform(trainX)\n",
    "# X_test = pipe.transform(test)\n",
    "y_train = trainY\n",
    "X_train.shape"
   ]
  },
  {
   "cell_type": "code",
   "execution_count": 9,
   "id": "d06ecf7e-3f59-47c9-9686-004be1a9a369",
   "metadata": {
    "execution": {
     "iopub.execute_input": "2021-10-22T07:55:03.732065Z",
     "iopub.status.busy": "2021-10-22T07:55:03.731780Z",
     "iopub.status.idle": "2021-10-22T07:55:03.805435Z",
     "shell.execute_reply": "2021-10-22T07:55:03.804537Z",
     "shell.execute_reply.started": "2021-10-22T07:55:03.732042Z"
    },
    "tags": []
   },
   "outputs": [
    {
     "data": {
      "text/plain": [
       "(5000, 119)"
      ]
     },
     "execution_count": 9,
     "metadata": {},
     "output_type": "execute_result"
    }
   ],
   "source": [
    "X_test = pipe.fit_transform(test)\n",
    "X_test.shape"
   ]
  },
  {
   "cell_type": "code",
   "execution_count": 10,
   "id": "fed93e79-91b1-4bcd-b2c3-fbcd062096df",
   "metadata": {
    "execution": {
     "iopub.execute_input": "2021-10-22T07:56:06.359888Z",
     "iopub.status.busy": "2021-10-22T07:56:06.359365Z",
     "iopub.status.idle": "2021-10-22T07:56:06.387454Z",
     "shell.execute_reply": "2021-10-22T07:56:06.386537Z",
     "shell.execute_reply.started": "2021-10-22T07:56:06.359863Z"
    },
    "tags": []
   },
   "outputs": [],
   "source": [
    "from sklearn.model_selection import train_test_split\n",
    "\n",
    "X_train, X_val, y_train, y_val = train_test_split(\n",
    "    X_train, y_train, test_size=0.2, random_state=72\n",
    ")\n",
    "\n",
    "# X_train.reset_index(inplace=True, drop=True)\n",
    "# X_test.reset_index(inplace=True, drop=True)\n",
    "\n",
    "# y_train.reset_index(inplace=True, drop=True)\n",
    "# y_test.reset_index(inplace=True, drop=True)"
   ]
  },
  {
   "cell_type": "code",
   "execution_count": 11,
   "id": "220a0f3d-f98a-4eb6-916e-dadad86ef9c0",
   "metadata": {
    "execution": {
     "iopub.execute_input": "2021-10-22T07:56:07.984603Z",
     "iopub.status.busy": "2021-10-22T07:56:07.984066Z",
     "iopub.status.idle": "2021-10-22T07:57:00.724526Z",
     "shell.execute_reply": "2021-10-22T07:57:00.723798Z",
     "shell.execute_reply.started": "2021-10-22T07:56:07.984571Z"
    },
    "tags": []
   },
   "outputs": [
    {
     "name": "stdout",
     "output_type": "stream",
     "text": [
      "Fitting 3 folds for each of 12 candidates, totalling 36 fits\n"
     ]
    },
    {
     "name": "stderr",
     "output_type": "stream",
     "text": [
      "/Users/krishnakumar/miniconda3/lib/python3.9/site-packages/sklearn/model_selection/_search.py:285: UserWarning: The total space of parameters 12 is smaller than n_iter=20. Running 12 iterations. For exhaustive searches, use GridSearchCV.\n",
      "  warnings.warn(\n"
     ]
    },
    {
     "data": {
      "text/plain": [
       "RandomizedSearchCV(cv=3, estimator=RandomForestRegressor(), n_iter=20,\n",
       "                   n_jobs=-1,\n",
       "                   param_distributions={'max_depth': [40, 50, 60, 100],\n",
       "                                        'max_features': ['sqrt'],\n",
       "                                        'n_estimators': [100, 200, 400]},\n",
       "                   random_state=42, verbose=3)"
      ]
     },
     "execution_count": 11,
     "metadata": {},
     "output_type": "execute_result"
    }
   ],
   "source": [
    "rfr_hpo = {\n",
    "    \"max_depth\": [40, 50, 60, 100],\n",
    "    \"max_features\": [\"sqrt\"],\n",
    "    \"n_estimators\": [100, 200, 400],\n",
    "}\n",
    "\n",
    "gb_hpo = {\n",
    "    \"n_estimators\": [200, 400],\n",
    "    \"learning_rate\": [0.01, 0.1],\n",
    "    \"max_depth\": [40, 60, 100],\n",
    "    \"max_features\": [\"sqrt\"],\n",
    "}\n",
    "xgb_hpo = {\"n_estimators\": [200, 400, 600], \"max_depth\": [40, 60, 100]}\n",
    "\n",
    "\n",
    "space = dict()\n",
    "space[\"solver\"] = [\"svd\", \"cholesky\", \"lsqr\", \"sag\"]\n",
    "space[\"alpha\"] = loguniform(1e-5, 100)\n",
    "space[\"fit_intercept\"] = [True, False]\n",
    "space[\"normalize\"] = [True, False]\n",
    "\n",
    "# import xgboost as xgb\n",
    "\n",
    "model = RandomForestRegressor\n",
    "# model = GradientBoostingRegressor()\n",
    "# model = Ridge()\n",
    "# model = xgb.XGBRegressor\n",
    "rf_random = RandomizedSearchCV(\n",
    "    estimator=model(),\n",
    "    param_distributions=rfr_hpo,\n",
    "    n_iter=20,\n",
    "    cv=3,\n",
    "    verbose=3,\n",
    "    random_state=42,\n",
    "    n_jobs=-1,\n",
    ")\n",
    "\n",
    "rf_random.fit(X_train, y_train)\n",
    "# best_model = RandomForestRegressor(**rf_random.best_params_)\n",
    "# best_model = xgb.XGBRegressor(n_estimators=200,\n",
    "#                              eta=0.2, gamma=1, max_depth=50,\n",
    "#                              reg_lambda=1, n_jobs=-1)"
   ]
  },
  {
   "cell_type": "code",
   "execution_count": 13,
   "id": "796801b4-352e-40d8-9658-f6b7737b100a",
   "metadata": {
    "execution": {
     "iopub.execute_input": "2021-10-22T08:06:47.702559Z",
     "iopub.status.busy": "2021-10-22T08:06:47.702084Z",
     "iopub.status.idle": "2021-10-22T08:06:47.720745Z",
     "shell.execute_reply": "2021-10-22T08:06:47.719817Z",
     "shell.execute_reply.started": "2021-10-22T08:06:47.702534Z"
    },
    "tags": []
   },
   "outputs": [
    {
     "data": {
      "text/plain": [
       "{'n_estimators': 400, 'max_features': 'sqrt', 'max_depth': 50}"
      ]
     },
     "execution_count": 13,
     "metadata": {},
     "output_type": "execute_result"
    }
   ],
   "source": [
    "rf_random.best_params_"
   ]
  },
  {
   "cell_type": "code",
   "execution_count": 14,
   "id": "5d1a1f86-ded1-4499-864f-204aea09ee3b",
   "metadata": {
    "execution": {
     "iopub.execute_input": "2021-10-22T08:07:30.338427Z",
     "iopub.status.busy": "2021-10-22T08:07:30.337816Z",
     "iopub.status.idle": "2021-10-22T08:07:42.038144Z",
     "shell.execute_reply": "2021-10-22T08:07:42.037379Z",
     "shell.execute_reply.started": "2021-10-22T08:07:30.338402Z"
    },
    "tags": []
   },
   "outputs": [
    {
     "data": {
      "text/plain": [
       "25167.52420288357"
      ]
     },
     "execution_count": 14,
     "metadata": {},
     "output_type": "execute_result"
    }
   ],
   "source": [
    "best_model = RandomForestRegressor(**rf_random.best_params_)\n",
    "best_model.fit(X_train, y_train)\n",
    "y_pred = best_model.predict(X_val)\n",
    "mean_squared_error(y_val, y_pred, squared=False)"
   ]
  },
  {
   "cell_type": "code",
   "execution_count": 68,
   "id": "ada1d400-1857-4706-8e88-cd516fcb452e",
   "metadata": {
    "execution": {
     "iopub.execute_input": "2021-10-22T07:53:46.873767Z",
     "iopub.status.busy": "2021-10-22T07:53:46.873495Z",
     "iopub.status.idle": "2021-10-22T07:53:46.883193Z",
     "shell.execute_reply": "2021-10-22T07:53:46.882569Z",
     "shell.execute_reply.started": "2021-10-22T07:53:46.873741Z"
    },
    "tags": []
   },
   "outputs": [],
   "source": [
    "y_pred = best_model.predict(X_test)\n",
    "# df = DataFrame(y_pred, columns=[\"Predicted\"], )\n",
    "# df.index.rename(\"Id\", inplace=True)\n",
    "# df.to_csv(\"dump.csv\")"
   ]
  }
 ],
 "metadata": {
  "kernelspec": {
   "display_name": "Python 3 (ipykernel)",
   "language": "python",
   "name": "python3"
  },
  "language_info": {
   "codemirror_mode": {
    "name": "ipython",
    "version": 3
   },
   "file_extension": ".py",
   "mimetype": "text/x-python",
   "name": "python",
   "nbconvert_exporter": "python",
   "pygments_lexer": "ipython3",
   "version": "3.9.5"
  }
 },
 "nbformat": 4,
 "nbformat_minor": 5
}
