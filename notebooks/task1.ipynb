{
 "cells": [
  {
   "cell_type": "code",
   "execution_count": null,
   "id": "59b5972b-81a0-442c-93b6-079442acd513",
   "metadata": {
    "tags": []
   },
   "outputs": [],
   "source": [
    "import sys\n",
    "\n",
    "sys.path.append(\"..\")"
   ]
  },
  {
   "cell_type": "code",
   "execution_count": null,
   "id": "c539161b-3b0a-443e-830c-fabad9b47aca",
   "metadata": {
    "tags": []
   },
   "outputs": [],
   "source": [
    "train = pd.read_csv(\"../data/processed/train.csv\", sep=\",\")\n",
    "# test = pd.read_csv(\"../data/raw/test.csv\", sep=\",\")\n",
    "\n",
    "print(\"The shape of train is {}\".format(train.shape))\n",
    "# print(\"The shape of test is {}\".format(test.shape))"
   ]
  },
  {
   "cell_type": "code",
   "execution_count": null,
   "id": "a526ee4d-41f9-4d86-b76b-9477a25ca0dd",
   "metadata": {
    "tags": []
   },
   "outputs": [],
   "source": [
    "from src.transformers import *\n",
    "from sklearn.compose import ColumnTransformer\n",
    "from sklearn.preprocessing import OneHotEncoder\n",
    "from sklearn.impute import SimpleImputer\n",
    "from sklearn.preprocessing import MinMaxScaler"
   ]
  },
  {
   "cell_type": "code",
   "execution_count": null,
   "id": "9d4f72d2-8b1a-4bdb-8552-aff2c5c16ef1",
   "metadata": {
    "tags": []
   },
   "outputs": [],
   "source": [
    "ct = ColumnTransformer(\n",
    "    [\n",
    "        (\n",
    "            \"ohe\",\n",
    "            OneHotEncoder(sparse=False, handle_unknown=\"ignore\"),\n",
    "            [\"type_of_vehicle\", \"transmission\", \"make_model\"],\n",
    "        ),\n",
    "    ],\n",
    "    remainder=\"passthrough\",\n",
    ")"
   ]
  },
  {
   "cell_type": "code",
   "execution_count": null,
   "id": "a8213da4-160a-4bfe-88b4-cf6c1970f775",
   "metadata": {
    "tags": []
   },
   "outputs": [],
   "source": [
    "from sklearn.pipeline import Pipeline\n",
    "from sklearn.impute import SimpleImputer\n",
    "\n",
    "pipe = Pipeline(\n",
    "    [\n",
    "        (\"add_cat\", SplitValuesToColumn(\"category\")),\n",
    "        (\"post_processing\", PostProcessing()),\n",
    "        (\"normalization\", ct),\n",
    "    ]\n",
    ")"
   ]
  },
  {
   "cell_type": "code",
   "execution_count": null,
   "id": "96ccdc0d-c5e5-4d6d-851b-db8177e624b3",
   "metadata": {
    "tags": []
   },
   "outputs": [],
   "source": [
    "trainX = train.loc[:, train.columns != \"price\"]\n",
    "trainY = train.loc[:, \"price\"]\n",
    "\n",
    "X_train = pipe.fit_transform(trainX)\n",
    "# X_test = pipe.transform(test)\n",
    "y_train = trainY"
   ]
  },
  {
   "cell_type": "code",
   "execution_count": null,
   "id": "fed93e79-91b1-4bcd-b2c3-fbcd062096df",
   "metadata": {
    "tags": []
   },
   "outputs": [],
   "source": [
    "from sklearn.model_selection import train_test_split\n",
    "\n",
    "X_train, X_test, y_train, y_test = train_test_split(\n",
    "    trainX, trainY, test_size=0.2, random_state=72\n",
    ")\n",
    "\n",
    "X_train.reset_index(inplace=True, drop=True)\n",
    "X_test.reset_index(inplace=True, drop=True)\n",
    "\n",
    "y_train.reset_index(inplace=True, drop=True)\n",
    "y_test.reset_index(inplace=True, drop=True)"
   ]
  },
  {
   "cell_type": "code",
   "execution_count": null,
   "id": "220a0f3d-f98a-4eb6-916e-dadad86ef9c0",
   "metadata": {
    "tags": []
   },
   "outputs": [],
   "source": [
    "rfr_hpo = {\n",
    "    \"max_depth\": [40, 50, 60, 100],\n",
    "    \"max_features\": [\"sqrt\"],\n",
    "    \"n_estimators\": [100, 200, 400],\n",
    "}\n",
    "\n",
    "gb_hpo = {\n",
    "    \"n_estimators\": [200, 400],\n",
    "    \"learning_rate\": [0.01, 0.1],\n",
    "    \"max_depth\": [40, 60, 100],\n",
    "    \"max_features\": [\"sqrt\"],\n",
    "}\n",
    "xgb_hpo = {\"n_estimators\": [200, 400, 600], \"max_depth\": [40, 60, 100]}\n",
    "\n",
    "\n",
    "space = dict()\n",
    "space[\"solver\"] = [\"svd\", \"cholesky\", \"lsqr\", \"sag\"]\n",
    "space[\"alpha\"] = loguniform(1e-5, 100)\n",
    "space[\"fit_intercept\"] = [True, False]\n",
    "space[\"normalize\"] = [True, False]\n",
    "from sklearn.model_selection import RandomizedSearchCV\n",
    "from sklearn.ensemble import (\n",
    "    RandomForestRegressor,\n",
    "    GradientBoostingRegressor,\n",
    "    BaggingRegressor,\n",
    ")\n",
    "from sklearn.linear_model import Ridge\n",
    "from sklearn.neighbors import KNeighborsRegressor\n",
    "# import xgboost as xgb\n",
    "\n",
    "model = RandomForestRegressor\n",
    "# model = GradientBoostingRegressor()\n",
    "# model = Ridge()\n",
    "# model = xgb.XGBRegressor\n",
    "rf_random = RandomizedSearchCV(\n",
    "    estimator=model(),\n",
    "    param_distributions=rfr_hpo,\n",
    "    n_iter=20,\n",
    "    cv=3,\n",
    "    verbose=3,\n",
    "    random_state=42,\n",
    "    n_jobs=-1,\n",
    ")"
   ]
  },
  {
   "cell_type": "code",
   "execution_count": null,
   "id": "5d1a1f86-ded1-4499-864f-204aea09ee3b",
   "metadata": {
    "tags": []
   },
   "outputs": [],
   "source": [
    "rf_random.fit(X_train, y_train)\n",
    "best_model = RandomForestRegressor(**rf_random.best_params_)\n",
    "# best_model = xgb.XGBRegressor(n_estimators=200,\n",
    "#                              eta=0.2, gamma=1, max_depth=50,\n",
    "#                              reg_lambda=1, n_jobs=-1)\n",
    "best_model.fit(X_train, y_train)"
   ]
  },
  {
   "cell_type": "code",
   "execution_count": null,
   "id": "29448cf9-1d1b-4644-a1c5-42f08c7a2ea5",
   "metadata": {},
   "outputs": [],
   "source": [
    "y_pred = best_model.predict(X_test)\n",
    "mean_squared_error(y_test, y_pred, squared=False)"
   ]
  }
 ],
 "metadata": {
  "kernelspec": {
   "display_name": "Python 3 (ipykernel)",
   "language": "python",
   "name": "python3"
  },
  "language_info": {
   "codemirror_mode": {
    "name": "ipython",
    "version": 3
   },
   "file_extension": ".py",
   "mimetype": "text/x-python",
   "name": "python",
   "nbconvert_exporter": "python",
   "pygments_lexer": "ipython3",
   "version": "3.9.5"
  }
 },
 "nbformat": 4,
 "nbformat_minor": 5
}
