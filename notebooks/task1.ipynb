{
 "cells": [
  {
   "cell_type": "markdown",
   "id": "f82cec65",
   "metadata": {
    "execution": {
     "iopub.execute_input": "2021-10-22T07:55:01.359138Z",
     "iopub.status.busy": "2021-10-22T07:55:01.358496Z",
     "iopub.status.idle": "2021-10-22T07:55:01.481261Z",
     "shell.execute_reply": "2021-10-22T07:55:01.480514Z",
     "shell.execute_reply.started": "2021-10-22T07:55:01.359061Z"
    },
    "tags": []
   },
   "source": [
    "### Notebook applies several classic machine learning techniques on the cleaned SGCarMart dataset.\n",
    "\n",
    "The models include ensemble learning technqiues, Neural Network, Non-parametric algorithms, etc."
   ]
  },
  {
   "cell_type": "code",
   "execution_count": 1,
   "id": "1d2cf42e",
   "metadata": {
    "execution": {
     "iopub.execute_input": "2021-11-14T13:54:01.222071Z",
     "iopub.status.busy": "2021-11-14T13:54:01.220839Z",
     "iopub.status.idle": "2021-11-14T13:54:01.348991Z",
     "shell.execute_reply": "2021-11-14T13:54:01.348088Z",
     "shell.execute_reply.started": "2021-11-14T13:54:01.221929Z"
    }
   },
   "outputs": [],
   "source": [
    "import sys\n",
    "\n",
    "sys.path.append(\"..\")"
   ]
  },
  {
   "cell_type": "code",
   "execution_count": 2,
   "id": "a460804d-3435-41f3-85c5-a50d7f9f519d",
   "metadata": {
    "execution": {
     "iopub.execute_input": "2021-11-14T13:54:01.350225Z",
     "iopub.status.busy": "2021-11-14T13:54:01.349944Z",
     "iopub.status.idle": "2021-11-14T13:54:02.967257Z",
     "shell.execute_reply": "2021-11-14T13:54:02.966151Z",
     "shell.execute_reply.started": "2021-11-14T13:54:01.350199Z"
    },
    "tags": []
   },
   "outputs": [],
   "source": [
    "import pandas as pd\n",
    "import time\n",
    "\n",
    "from src.transformers import *\n",
    "\n",
    "from random import randrange\n",
    "from sklearn.compose import ColumnTransformer\n",
    "from sklearn.preprocessing import OneHotEncoder\n",
    "from sklearn.impute import SimpleImputer\n",
    "from sklearn.preprocessing import MinMaxScaler\n",
    "from scipy.stats import loguniform\n",
    "from sklearn.model_selection import RandomizedSearchCV, GridSearchCV\n",
    "from sklearn.ensemble import (\n",
    "    RandomForestRegressor,\n",
    "    GradientBoostingRegressor,\n",
    "    BaggingRegressor,\n",
    ")\n",
    "from sklearn.linear_model import Ridge\n",
    "from sklearn.neighbors import KNeighborsRegressor\n",
    "from sklearn.neural_network import MLPRegressor\n",
    "from sklearn.metrics import mean_squared_error"
   ]
  },
  {
   "cell_type": "markdown",
   "id": "9126dde1-1426-4314-96aa-ebd393c1b7e7",
   "metadata": {},
   "source": [
    "### Set below flag if this is for submission"
   ]
  },
  {
   "cell_type": "code",
   "execution_count": 3,
   "id": "fb54d23a",
   "metadata": {
    "execution": {
     "iopub.execute_input": "2021-11-14T13:54:02.974146Z",
     "iopub.status.busy": "2021-11-14T13:54:02.973845Z",
     "iopub.status.idle": "2021-11-14T13:54:03.087339Z",
     "shell.execute_reply": "2021-11-14T13:54:03.086663Z",
     "shell.execute_reply.started": "2021-11-14T13:54:02.974119Z"
    }
   },
   "outputs": [],
   "source": [
    "is_submission = False"
   ]
  },
  {
   "cell_type": "code",
   "execution_count": 4,
   "id": "c539161b-3b0a-443e-830c-fabad9b47aca",
   "metadata": {
    "execution": {
     "iopub.execute_input": "2021-11-14T13:54:03.089062Z",
     "iopub.status.busy": "2021-11-14T13:54:03.088402Z",
     "iopub.status.idle": "2021-11-14T13:54:03.458163Z",
     "shell.execute_reply": "2021-11-14T13:54:03.457235Z",
     "shell.execute_reply.started": "2021-11-14T13:54:03.089036Z"
    },
    "tags": []
   },
   "outputs": [
    {
     "name": "stdout",
     "output_type": "stream",
     "text": [
      "The shape of train is (16728, 55)\n",
      "The shape of test is (5000, 54)\n"
     ]
    }
   ],
   "source": [
    "train = pd.read_csv(\"../data/processed/train.csv\", sep=\",\")\n",
    "test = pd.read_csv(\"../data/processed/test.csv\", sep=\",\")\n",
    "\n",
    "print(\"The shape of train is {}\".format(train.shape))\n",
    "print(\"The shape of test is {}\".format(test.shape))"
   ]
  },
  {
   "cell_type": "code",
   "execution_count": 5,
   "id": "8fb7b3df-f67d-4981-8a11-848122e474f6",
   "metadata": {
    "execution": {
     "iopub.execute_input": "2021-11-14T13:54:03.459898Z",
     "iopub.status.busy": "2021-11-14T13:54:03.459523Z",
     "iopub.status.idle": "2021-11-14T13:54:03.478163Z",
     "shell.execute_reply": "2021-11-14T13:54:03.477527Z",
     "shell.execute_reply.started": "2021-11-14T13:54:03.459860Z"
    },
    "tags": []
   },
   "outputs": [],
   "source": [
    "class PostProcessing(BaseEstimator, TransformerMixin):\n",
    "    def __init__(self):\n",
    "        self.columns_to_drop = [\n",
    "            \"listing_id\",\n",
    "            \"title\",\n",
    "            \"model\",\n",
    "            \"make\",\n",
    "            \"make_model\",\n",
    "            \"description\",\n",
    "            \"original_reg_date\",\n",
    "            \"reg_date\",\n",
    "            \"category\",\n",
    "            \"lifespan\",\n",
    "            \"features\",\n",
    "            \"accessories\",\n",
    "            \"eco_category\",\n",
    "            \"indicative_price\",\n",
    "            \"reg_date_year\",\n",
    "            \"reg_date_month\",\n",
    "            \"coe_start_date\",\n",
    "            \"coe_start_year\",\n",
    "            \"coe_rebate\",\n",
    "            \"dereg_value_computed\",\n",
    "            \"engine_cap_bins\",\n",
    "            \"price\",\n",
    "            \"coe_text\",\n",
    "            \"coe_expiry_days\",\n",
    "            \"coe_expiry_date\",\n",
    "            \"coe_start_date\",\n",
    "        ]\n",
    "        pass\n",
    "\n",
    "    def fit(self, X):\n",
    "        return self\n",
    "\n",
    "    def transform(self, X):\n",
    "        df = X.copy()\n",
    "        df.loc[:, \"last_reg_age\"] = (\n",
    "            datetime.now().year - pd.to_datetime(df.reg_date).dt.year\n",
    "        )\n",
    "        df.loc[:, \"mileage_log\"] = np.log(df.mileage)\n",
    "        df = df.drop(self.columns_to_drop, axis=1, errors=\"ignore\")\n",
    "        return df"
   ]
  },
  {
   "cell_type": "code",
   "execution_count": 6,
   "id": "a8213da4-160a-4bfe-88b4-cf6c1970f775",
   "metadata": {
    "execution": {
     "iopub.execute_input": "2021-11-14T13:54:03.479709Z",
     "iopub.status.busy": "2021-11-14T13:54:03.479300Z",
     "iopub.status.idle": "2021-11-14T13:54:03.494391Z",
     "shell.execute_reply": "2021-11-14T13:54:03.493832Z",
     "shell.execute_reply.started": "2021-11-14T13:54:03.479656Z"
    },
    "tags": []
   },
   "outputs": [],
   "source": [
    "from sklearn.pipeline import Pipeline\n",
    "from sklearn.impute import SimpleImputer\n",
    "\n",
    "pipe = Pipeline(\n",
    "    [\n",
    "        (\"add_cat\", SplitValuesToColumn(\"category\")),\n",
    "        (\"post_processing\", PostProcessing()),\n",
    "        (\n",
    "            \"ohe\",\n",
    "            OheCategorical(\n",
    "                [\n",
    "                    \"type_of_vehicle\",\n",
    "                    \"transmission\",\n",
    "                    \"brand_rank\",\n",
    "                    \"opc_scheme\",\n",
    "                    \"fuel_type\",\n",
    "                    \"vehicle_age_bins\",\n",
    "                ]\n",
    "            ),\n",
    "        ),\n",
    "    ]\n",
    ")"
   ]
  },
  {
   "cell_type": "code",
   "execution_count": 7,
   "id": "ae781b3b",
   "metadata": {
    "execution": {
     "iopub.execute_input": "2021-11-14T13:54:03.495889Z",
     "iopub.status.busy": "2021-11-14T13:54:03.495484Z",
     "iopub.status.idle": "2021-11-14T13:54:03.510961Z",
     "shell.execute_reply": "2021-11-14T13:54:03.510323Z",
     "shell.execute_reply.started": "2021-11-14T13:54:03.495836Z"
    }
   },
   "outputs": [],
   "source": [
    "trainX = train\n",
    "trainY = train.loc[:, \"price\"]"
   ]
  },
  {
   "cell_type": "code",
   "execution_count": 8,
   "id": "fed93e79-91b1-4bcd-b2c3-fbcd062096df",
   "metadata": {
    "execution": {
     "iopub.execute_input": "2021-11-14T13:54:03.512589Z",
     "iopub.status.busy": "2021-11-14T13:54:03.512156Z",
     "iopub.status.idle": "2021-11-14T13:54:03.545102Z",
     "shell.execute_reply": "2021-11-14T13:54:03.544461Z",
     "shell.execute_reply.started": "2021-11-14T13:54:03.512528Z"
    },
    "tags": []
   },
   "outputs": [],
   "source": [
    "if not is_submission:\n",
    "    from sklearn.model_selection import train_test_split\n",
    "\n",
    "    X_train, X_test, y_train, y_test = train_test_split(\n",
    "        trainX, trainY, test_size=0.2, random_state=72\n",
    "    )\n",
    "\n",
    "    X_train.reset_index(inplace=True, drop=True)\n",
    "    X_test.reset_index(inplace=True, drop=True)\n",
    "\n",
    "    y_train.reset_index(inplace=True, drop=True)\n",
    "    y_test.reset_index(inplace=True, drop=True)"
   ]
  },
  {
   "cell_type": "code",
   "execution_count": 9,
   "id": "b3637943",
   "metadata": {
    "execution": {
     "iopub.execute_input": "2021-11-14T13:54:03.546724Z",
     "iopub.status.busy": "2021-11-14T13:54:03.546287Z",
     "iopub.status.idle": "2021-11-14T13:54:03.931480Z",
     "shell.execute_reply": "2021-11-14T13:54:03.930756Z",
     "shell.execute_reply.started": "2021-11-14T13:54:03.546691Z"
    }
   },
   "outputs": [
    {
     "name": "stdout",
     "output_type": "stream",
     "text": [
      "X_Train:(13382, 74)\n"
     ]
    }
   ],
   "source": [
    "if is_submission:\n",
    "    X_train = pipe.fit_transform(trainX)\n",
    "    X_test = pipe.transform(test)\n",
    "    y_train = trainY\n",
    "else:\n",
    "    X_train = pipe.fit_transform(X_train)\n",
    "    X_test = pipe.transform(X_test)\n",
    "\n",
    "print(f\"X_Train:{X_train.shape}\")"
   ]
  },
  {
   "cell_type": "code",
   "execution_count": 10,
   "id": "ec970ddc",
   "metadata": {
    "execution": {
     "iopub.execute_input": "2021-11-14T13:54:03.933376Z",
     "iopub.status.busy": "2021-11-14T13:54:03.932878Z",
     "iopub.status.idle": "2021-11-14T13:54:03.951559Z",
     "shell.execute_reply": "2021-11-14T13:54:03.950967Z",
     "shell.execute_reply.started": "2021-11-14T13:54:03.933350Z"
    }
   },
   "outputs": [],
   "source": [
    "def run_hpo(model, params, X, y):\n",
    "\n",
    "    model_name = type(model()).__name__\n",
    "    print(f\"*** Running HPO for: {model_name}\")\n",
    "    model_tuning = GridSearchCV(\n",
    "        estimator=model(), param_grid=params, cv=5, verbose=3, n_jobs=-1,\n",
    "    )\n",
    "\n",
    "    model_tuning.fit(X, y)\n",
    "    print(f\"Best Params {model_tuning.best_params_}\")\n",
    "    print(f\"Best Score {model_tuning.best_score_}\")\n",
    "    print(\"\")\n",
    "    return model_tuning.best_params_\n",
    "\n",
    "\n",
    "def Run(model, params, X, y):\n",
    "    scores_train = []\n",
    "    scores_test = []\n",
    "    best_params = run_hpo(model, params, X, y)\n",
    "    model_name = type(model()).__name__\n",
    "    print(f\"*** Training: {model_name}\")\n",
    "    start_time = int(time.time())\n",
    "    for i in range(3):\n",
    "        random = randrange(100)\n",
    "        X_train, X_test, y_train, y_test = train_test_split(\n",
    "            X, y, test_size=0.20, random_state=random\n",
    "        )\n",
    "\n",
    "        best_model = model(**best_params)\n",
    "        best_model.fit(X_train, y_train)\n",
    "        y_pred = best_model.predict(X_test)\n",
    "        y_pred_train = best_model.predict(X_train)\n",
    "\n",
    "        scores_train.append(mean_squared_error(y_train, y_pred_train, squared=False))\n",
    "        scores_test.append(mean_squared_error(y_test, y_pred, squared=False))\n",
    "    end_time = int(time.time())\n",
    "\n",
    "    print(\"[Testing Error] Root Mean Squared  Error : \", np.mean(scores_test))\n",
    "    print(\"[Training Error] Root Mean Squared  Error : \", np.mean(scores_train))\n",
    "    print(f\"Runtime: {(end_time-start_time)/3} seconds\")\n",
    "    return None"
   ]
  },
  {
   "cell_type": "markdown",
   "id": "d55e73f9",
   "metadata": {},
   "source": [
    "#### Define all the models with the paramter ranges that we want to tune."
   ]
  },
  {
   "cell_type": "code",
   "execution_count": 11,
   "id": "be6d594a",
   "metadata": {
    "execution": {
     "iopub.execute_input": "2021-11-14T13:54:03.952858Z",
     "iopub.status.busy": "2021-11-14T13:54:03.952595Z",
     "iopub.status.idle": "2021-11-14T13:54:03.970704Z",
     "shell.execute_reply": "2021-11-14T13:54:03.969694Z",
     "shell.execute_reply.started": "2021-11-14T13:54:03.952837Z"
    },
    "tags": []
   },
   "outputs": [],
   "source": [
    "models = [\n",
    "    {\n",
    "        \"name\": type(RandomForestRegressor()).__name__,\n",
    "        \"model\": RandomForestRegressor,\n",
    "        \"params\": {\n",
    "            \"max_depth\": [10, 50, 100],\n",
    "            \"max_features\": [\"sqrt\"],\n",
    "            \"n_estimators\": [100, 200],\n",
    "        },\n",
    "    },\n",
    "    {\n",
    "        \"name\": type(GradientBoostingRegressor()).__name__,\n",
    "        \"model\": GradientBoostingRegressor,\n",
    "        \"params\": {\n",
    "            \"n_estimators\": [500, 1000],\n",
    "            \"learning_rate\": [0.01, 0.05],\n",
    "            \"max_depth\": [5, 10],\n",
    "            \"max_features\": [\"sqrt\"],\n",
    "        },\n",
    "    },\n",
    "    {\n",
    "        \"name\": type(Ridge()).__name__,\n",
    "        \"model\": Ridge,\n",
    "        \"params\": {\n",
    "            \"solver\": [\"svd\", \"cholesky\", \"lsqr\", \"sag\"],\n",
    "            \"alpha\": [0.00001, 0.0001, 0.01],\n",
    "            \"fit_intercept\": [True, False],\n",
    "            \"normalize\": [True, False],\n",
    "        },\n",
    "    },\n",
    "    {\n",
    "        \"name\": type(KNeighborsRegressor()).__name__,\n",
    "        \"model\": KNeighborsRegressor,\n",
    "        \"params\": {\"n_neighbors\": [1, 3, 5]},\n",
    "    },\n",
    "    {\n",
    "        \"name\": type(MLPRegressor()).__name__,\n",
    "        \"model\": MLPRegressor,\n",
    "        \"params\": {\n",
    "            \"hidden_layer_sizes\": [(50, 50, 50), (50, 100, 50), (200, 20)],\n",
    "            \"activation\": [\"relu\", \"tanh\", \"logistic\"],\n",
    "            \"alpha\": [0.0001, 0.05],\n",
    "            \"learning_rate\": [\"constant\", \"adaptive\"],\n",
    "            \"solver\": [\"adam\"],\n",
    "        },\n",
    "    },\n",
    "]"
   ]
  },
  {
   "cell_type": "markdown",
   "id": "476b9d55-2796-4a1c-b170-d3391b7b0dd7",
   "metadata": {},
   "source": [
    "### Uncomment below to do hyperparameter tuning"
   ]
  },
  {
   "cell_type": "code",
   "execution_count": 12,
   "id": "98559f1d",
   "metadata": {
    "execution": {
     "iopub.execute_input": "2021-11-14T13:54:03.977051Z",
     "iopub.status.busy": "2021-11-14T13:54:03.976774Z",
     "iopub.status.idle": "2021-11-14T13:54:03.988075Z",
     "shell.execute_reply": "2021-11-14T13:54:03.987460Z",
     "shell.execute_reply.started": "2021-11-14T13:54:03.977018Z"
    }
   },
   "outputs": [],
   "source": [
    "# from sklearn.model_selection import train_test_split\n",
    "\n",
    "# for model in models:\n",
    "#     Run(model[\"model\"], model[\"params\"], X_train, y_train)\n",
    "#     print(\"***\")"
   ]
  },
  {
   "cell_type": "markdown",
   "id": "b62c0c55",
   "metadata": {},
   "source": [
    "### Select the best model with tuned hyper-parameters"
   ]
  },
  {
   "cell_type": "code",
   "execution_count": 13,
   "id": "2726b978",
   "metadata": {
    "execution": {
     "iopub.execute_input": "2021-11-14T13:54:03.989896Z",
     "iopub.status.busy": "2021-11-14T13:54:03.989325Z",
     "iopub.status.idle": "2021-11-14T13:54:04.001960Z",
     "shell.execute_reply": "2021-11-14T13:54:04.001133Z",
     "shell.execute_reply.started": "2021-11-14T13:54:03.989824Z"
    },
    "tags": []
   },
   "outputs": [],
   "source": [
    "best_model = RandomForestRegressor\n",
    "best_params = {\"max_depth\": 50, \"max_features\": \"sqrt\", \"n_estimators\": 100}"
   ]
  },
  {
   "cell_type": "markdown",
   "id": "6cb19cca",
   "metadata": {},
   "source": [
    "### Selecting top features\n",
    "\n",
    "We removed the features which are of low importance and re-trained our model on the reduced set of features"
   ]
  },
  {
   "cell_type": "code",
   "execution_count": 20,
   "id": "c3e627ed",
   "metadata": {
    "execution": {
     "iopub.execute_input": "2021-11-14T13:54:17.369758Z",
     "iopub.status.busy": "2021-11-14T13:54:17.369410Z",
     "iopub.status.idle": "2021-11-14T13:54:20.609643Z",
     "shell.execute_reply": "2021-11-14T13:54:20.608790Z",
     "shell.execute_reply.started": "2021-11-14T13:54:17.369728Z"
    },
    "tags": []
   },
   "outputs": [],
   "source": [
    "final_model = best_model(**best_params)\n",
    "final_model.fit(X_train, y_train)\n",
    "\n",
    "\n",
    "forest_importances = pd.Series(\n",
    "    final_model.feature_importances_, index=list(X_train.columns)\n",
    ")\n",
    "remove_cols = list(\n",
    "    forest_importances[forest_importances <= 0.01].reset_index()[\"index\"].values\n",
    ")\n",
    "\n",
    "X_train = X_train[X_train.columns.difference(remove_cols)]\n",
    "X_test = X_test[X_test.columns.difference(remove_cols)]"
   ]
  },
  {
   "cell_type": "markdown",
   "id": "f8683d2b",
   "metadata": {},
   "source": [
    "### Feature Importance"
   ]
  },
  {
   "cell_type": "code",
   "execution_count": 21,
   "id": "e2f3bf70",
   "metadata": {
    "execution": {
     "iopub.execute_input": "2021-11-14T13:54:20.611545Z",
     "iopub.status.busy": "2021-11-14T13:54:20.611221Z",
     "iopub.status.idle": "2021-11-14T13:54:20.905968Z",
     "shell.execute_reply": "2021-11-14T13:54:20.905372Z",
     "shell.execute_reply.started": "2021-11-14T13:54:20.611519Z"
    },
    "tags": []
   },
   "outputs": [
    {
     "data": {
      "text/plain": [
       "<AxesSubplot:>"
      ]
     },
     "execution_count": 21,
     "metadata": {},
     "output_type": "execute_result"
    },
    {
     "data": {
      "image/png": "[encoded data removed]",
      "text/plain": [
       "<Figure size 1080x288 with 1 Axes>"
      ]
     },
     "metadata": {
      "needs_background": "light"
     },
     "output_type": "display_data"
    }
   ],
   "source": [
    "%matplotlib inline\n",
    "import matplotlib.pyplot as plt\n",
    "\n",
    "forest_importances = forest_importances[forest_importances >= 0.0005]\n",
    "\n",
    "plt.figure(figsize=(15, 4))\n",
    "forest_importances.plot.bar()"
   ]
  },
  {
   "cell_type": "code",
   "execution_count": 22,
   "id": "9f80e17a",
   "metadata": {
    "execution": {
     "iopub.execute_input": "2021-11-14T13:54:20.907634Z",
     "iopub.status.busy": "2021-11-14T13:54:20.907305Z",
     "iopub.status.idle": "2021-11-14T13:54:24.413049Z",
     "shell.execute_reply": "2021-11-14T13:54:24.412451Z",
     "shell.execute_reply.started": "2021-11-14T13:54:20.907588Z"
    },
    "tags": []
   },
   "outputs": [
    {
     "data": {
      "text/plain": [
       "RandomForestRegressor(max_depth=50, max_features='sqrt')"
      ]
     },
     "execution_count": 22,
     "metadata": {},
     "output_type": "execute_result"
    }
   ],
   "source": [
    "final_model = best_model(**best_params)\n",
    "final_model.fit(X_train, y_train)"
   ]
  },
  {
   "cell_type": "code",
   "execution_count": 23,
   "id": "b06e1536",
   "metadata": {
    "execution": {
     "iopub.execute_input": "2021-11-14T13:54:24.415892Z",
     "iopub.status.busy": "2021-11-14T13:54:24.415502Z",
     "iopub.status.idle": "2021-11-14T13:54:24.602701Z",
     "shell.execute_reply": "2021-11-14T13:54:24.601730Z",
     "shell.execute_reply.started": "2021-11-14T13:54:24.415841Z"
    },
    "tags": []
   },
   "outputs": [],
   "source": [
    "y_pred = final_model.predict(X_test)"
   ]
  },
  {
   "cell_type": "code",
   "execution_count": 26,
   "id": "eca248a5",
   "metadata": {
    "execution": {
     "iopub.execute_input": "2021-11-14T13:54:53.254008Z",
     "iopub.status.busy": "2021-11-14T13:54:53.253716Z",
     "iopub.status.idle": "2021-11-14T13:54:53.267836Z",
     "shell.execute_reply": "2021-11-14T13:54:53.267022Z",
     "shell.execute_reply.started": "2021-11-14T13:54:53.253978Z"
    },
    "tags": []
   },
   "outputs": [
    {
     "name": "stdout",
     "output_type": "stream",
     "text": [
      "30052.894797204994\n"
     ]
    }
   ],
   "source": [
    "# RMSE below will vary based on the random seed used\n",
    "if not is_submission:\n",
    "    print(mean_squared_error(y_test, y_pred, squared=False))"
   ]
  },
  {
   "cell_type": "markdown",
   "id": "19e99732",
   "metadata": {},
   "source": [
    "### Prepare file for submission"
   ]
  },
  {
   "cell_type": "code",
   "execution_count": 25,
   "id": "9576497a",
   "metadata": {
    "execution": {
     "iopub.execute_input": "2021-11-14T13:54:24.637977Z",
     "iopub.status.busy": "2021-11-14T13:54:24.637629Z",
     "iopub.status.idle": "2021-11-14T13:54:24.654591Z",
     "shell.execute_reply": "2021-11-14T13:54:24.653364Z",
     "shell.execute_reply.started": "2021-11-14T13:54:24.637943Z"
    },
    "tags": []
   },
   "outputs": [],
   "source": [
    "if is_submission:\n",
    "    my_submission = pd.DataFrame({\"Id\": list(test.index), \"Predicted\": y_pred})\n",
    "    my_submission.to_csv(\"submission.csv\", index=False)"
   ]
  },
  {
   "cell_type": "code",
   "execution_count": null,
   "id": "8904267b",
   "metadata": {},
   "outputs": [],
   "source": []
  }
 ],
 "metadata": {
  "kernelspec": {
   "display_name": "Python 3 (ipykernel)",
   "language": "python",
   "name": "python3"
  },
  "language_info": {
   "codemirror_mode": {
    "name": "ipython",
    "version": 3
   },
   "file_extension": ".py",
   "mimetype": "text/x-python",
   "name": "python",
   "nbconvert_exporter": "python",
   "pygments_lexer": "ipython3",
   "version": "3.9.5"
  }
 },
 "nbformat": 4,
 "nbformat_minor": 5
}
