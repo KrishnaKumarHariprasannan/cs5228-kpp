{
 "cells": [
  {
   "cell_type": "markdown",
   "id": "492667f0",
   "metadata": {},
   "source": [
    "# Task 2: Recommendation Engine - Skeleton Notebook\n",
    "\n",
    "This notebook provides a very basic example for the notebook you are expected to submit for Task 2 of the Final Project. The main purpose is that we can try different examples to get a better sense of your approach. Compared to Task 1 (Kaggle Competition), we don't have any objective means to evaluate the recommendations. \n",
    "\n",
    "Some general comments:\n",
    "* You can import any data you need. This particularly includes your cleaned version of the Used Cars dataset; there's no need to show the data cleaning / preprocessing steps in this notebook.\n",
    "* You can also import your code in form of external Python (.py) script. You're actually encouraged to do so to keep this notebook light and uncluttered.\n",
    "* Please consider this notebook as an example and not to set specific requirements. As long there is a section where we can easily test your solution, it should be fine."
   ]
  },
  {
   "cell_type": "markdown",
   "id": "b4e3949b",
   "metadata": {},
   "source": [
    "## Setting up the Notebook"
   ]
  },
  {
   "cell_type": "code",
   "execution_count": 1,
   "id": "0d2dc1ce",
   "metadata": {},
   "outputs": [],
   "source": [
    "import pandas as pd\n",
    "import numpy as np"
   ]
  },
  {
   "cell_type": "markdown",
   "id": "abb1a8b2",
   "metadata": {},
   "source": [
    "## Load the Data\n",
    "\n",
    "For this example, we use a simplified version of the dataset with only 100 data sample, each with only 6 features"
   ]
  },
  {
   "cell_type": "code",
   "execution_count": 2,
   "id": "dda80443",
   "metadata": {},
   "outputs": [
    {
     "data": {
      "text/html": [
       "<div>\n",
       "<style scoped>\n",
       "    .dataframe tbody tr th:only-of-type {\n",
       "        vertical-align: middle;\n",
       "    }\n",
       "\n",
       "    .dataframe tbody tr th {\n",
       "        vertical-align: top;\n",
       "    }\n",
       "\n",
       "    .dataframe thead th {\n",
       "        text-align: right;\n",
       "    }\n",
       "</style>\n",
       "<table border=\"1\" class=\"dataframe\">\n",
       "  <thead>\n",
       "    <tr style=\"text-align: right;\">\n",
       "      <th></th>\n",
       "      <th>listing_id</th>\n",
       "      <th>make</th>\n",
       "      <th>power</th>\n",
       "      <th>engine_cap</th>\n",
       "      <th>mileage</th>\n",
       "      <th>price</th>\n",
       "    </tr>\n",
       "  </thead>\n",
       "  <tbody>\n",
       "    <tr>\n",
       "      <th>0</th>\n",
       "      <td>1006025</td>\n",
       "      <td>bmw</td>\n",
       "      <td>135.0</td>\n",
       "      <td>1997.0</td>\n",
       "      <td>NaN</td>\n",
       "      <td>82300</td>\n",
       "    </tr>\n",
       "    <tr>\n",
       "      <th>1</th>\n",
       "      <td>994672</td>\n",
       "      <td>land rover</td>\n",
       "      <td>202.0</td>\n",
       "      <td>2993.0</td>\n",
       "      <td>25843.0</td>\n",
       "      <td>427900</td>\n",
       "    </tr>\n",
       "    <tr>\n",
       "      <th>2</th>\n",
       "      <td>921142</td>\n",
       "      <td>honda</td>\n",
       "      <td>95.6</td>\n",
       "      <td>1496.0</td>\n",
       "      <td>2000.0</td>\n",
       "      <td>109800</td>\n",
       "    </tr>\n",
       "    <tr>\n",
       "      <th>3</th>\n",
       "      <td>1008328</td>\n",
       "      <td>bmw</td>\n",
       "      <td>185.0</td>\n",
       "      <td>1998.0</td>\n",
       "      <td>57386.0</td>\n",
       "      <td>166600</td>\n",
       "    </tr>\n",
       "    <tr>\n",
       "      <th>4</th>\n",
       "      <td>1010661</td>\n",
       "      <td>NaN</td>\n",
       "      <td>96.0</td>\n",
       "      <td>1498.0</td>\n",
       "      <td>76000.0</td>\n",
       "      <td>59400</td>\n",
       "    </tr>\n",
       "  </tbody>\n",
       "</table>\n",
       "</div>"
      ],
      "text/plain": [
       "   listing_id        make  power  engine_cap  mileage   price\n",
       "0     1006025         bmw  135.0      1997.0      NaN   82300\n",
       "1      994672  land rover  202.0      2993.0  25843.0  427900\n",
       "2      921142       honda   95.6      1496.0   2000.0  109800\n",
       "3     1008328         bmw  185.0      1998.0  57386.0  166600\n",
       "4     1010661         NaN   96.0      1498.0  76000.0   59400"
      ]
     },
     "execution_count": 2,
     "metadata": {},
     "output_type": "execute_result"
    }
   ],
   "source": [
    "df_sample = pd.read_csv('data/sg-used-cars-final-simplified.csv')\n",
    "\n",
    "df_sample.head()"
   ]
  },
  {
   "cell_type": "markdown",
   "id": "8dfc83bd",
   "metadata": {},
   "source": [
    "## Recommenders (Temporary)"
   ]
  },
  {
   "cell_type": "code",
   "execution_count": 3,
   "id": "30c4f486",
   "metadata": {},
   "outputs": [],
   "source": [
    "# Normalization\n",
    "def normalization(M):\n",
    "    mj,mi=M.shape\n",
    "    m_ary = M.values    \n",
    "    m_ary = m_ary.T\n",
    "    m_max = np.nanmax(M, axis=0)\n",
    "    m_min = np.nanmin(M, axis=0)\n",
    "\n",
    "    for i in range(mi):\n",
    "        for j in range(mj):\n",
    "            m_ary[i][j] = (m_ary[i][j] - m_min[i]) / (m_max[i] - m_min[i])\n",
    "    \n",
    "    return m_ary.T"
   ]
  },
  {
   "cell_type": "code",
   "execution_count": 4,
   "id": "9a847cc6",
   "metadata": {},
   "outputs": [],
   "source": [
    "# Matrix Factorization Init\n",
    "def mf_init(M, k=100):\n",
    "    # k is the size of the latent representation\n",
    "    Z, W, H = None, None, None\n",
    "    num_users, num_items = M.shape\n",
    "    W = np.random.rand(num_users,k)\n",
    "    H = np.random.rand(k,num_items)\n",
    "    Z = np.argwhere(M>0)\n",
    "    return Z, W, H"
   ]
  },
  {
   "cell_type": "code",
   "execution_count": 5,
   "id": "0bafc36c",
   "metadata": {},
   "outputs": [],
   "source": [
    "# Matrix Factorization Loss\n",
    "def mf_loss(M, Z, W, H):\n",
    "    loss = 0\n",
    "    for i in Z:\n",
    "        loss = loss + pow(M[i[0]][i[1]] - np.dot(W[i[0],:],H[:,i[1]]), 2)\n",
    "    return loss"
   ]
  },
  {
   "cell_type": "code",
   "execution_count": 6,
   "id": "2530c928",
   "metadata": {},
   "outputs": [],
   "source": [
    "# Matrix Factorization Gradient Descent\n",
    "def mf_gradientdescent(M, Z, W, H, k=100, learning_rate=0.0001, lambda_reg=0.1, num_iter=1000):\n",
    "    for it in range(num_iter):\n",
    "        for i in Z:\n",
    "            eij = M[i[0]][i[1]] - np.dot(W[i[0],:],H[:,i[1]])\n",
    "            for K in range(k):\n",
    "                W[i[0]][K] = W[i[0]][K] + learning_rate * (2 * eij * H[K][i[1]] - 2 * lambda_reg * W[i[0]][K])\n",
    "                H[K][i[1]] = H[K][i[1]] + learning_rate * (2 * eij * W[i[0]][K] - 2 * lambda_reg * H[K][i[1]])\n",
    "\n",
    "        # Print loss every 10% of the iterations\n",
    "        if(it % (num_iter/10) == 0):\n",
    "            print('Loss: {:.5f} \\t {:.0f}%'.format(mf_loss(M, Z, W, H), (it / (num_iter/100))))\n",
    "    # Print final loss\n",
    "    print('Loss: {:.5f} \\t 100%'.format(mf_loss(M, Z, W, H)))\n",
    "    return W, H"
   ]
  },
  {
   "cell_type": "code",
   "execution_count": 7,
   "id": "c74f893f",
   "metadata": {},
   "outputs": [],
   "source": [
    "# Content-Based: Pairwise item similarity sim\n",
    "def cos_sim(v1, v2):\n",
    "    #v1 = v1 - np.mean(v1)\n",
    "    #v2 = v2 - np.mean(v2)\n",
    "    return np.dot(v1, v2) / (np.linalg.norm(v1) * np.linalg.norm(v2))"
   ]
  },
  {
   "cell_type": "markdown",
   "id": "3ec513a2",
   "metadata": {},
   "source": [
    "## Computing the Top Recommendations\n",
    "\n",
    "The method `get_top_recommendations()` shows an example of how to get the top recommendations for a given data sample (data sample = row in the dataframe of the dataset). The input is a row from the dataset and a list of optional input parameters which will depend on your approach; `k` is the number of returned recommendations seems useful, though.\n",
    "\n",
    "The output should be a `pd.DataFrame` containing the recommendations. The output dataframe should have the same columns as the row + any additional columns you deem important (e.g., any score or tags that you might want to add to your recommendations).\n",
    "\n",
    "In principle, the method `get_top_recommendations()` may be imported from a external Python (.py) script as well."
   ]
  },
  {
   "cell_type": "code",
   "execution_count": 8,
   "id": "3d5da490",
   "metadata": {},
   "outputs": [],
   "source": [
    "def get_top_recommendations(row, **kwargs) -> pd.DataFrame:\n",
    "    \n",
    "    #####################################################\n",
    "    ## Initialize the required parameters\n",
    "    \n",
    "    # The number of recommendations seem recommended\n",
    "    # Additional input parameters are up to you\n",
    "    k = None\n",
    "    df_init = df_sample.copy()\n",
    "    similarity = list()\n",
    "    row_id_sorted = list()\n",
    "    #print(\"Original data:\\n\",df_init.head(),\"\\n\")\n",
    "    \n",
    "    # Extract all **kwargs input parameters\n",
    "    # and set the used paramaters (here: k)\n",
    "    for key, value in kwargs.items():\n",
    "        if key == 'k':\n",
    "            k = value\n",
    "\n",
    "    # Droped 'listing_id', 'make'\n",
    "    df_sample_drp = df_init.drop(columns=['listing_id', 'make'])\n",
    "    \n",
    "    # Normalization\n",
    "    df_sample_drp=normalization(df_sample_drp)\n",
    "    \n",
    "    # mf_gradientdescent\n",
    "    np.random.seed(0) #debug\n",
    "    Z, W, H = mf_init(df_sample_drp)\n",
    "    W_new, H_new =mf_gradientdescent(df_sample_drp, Z, W, H, k=100, learning_rate=0.01, lambda_reg=0.1, num_iter=100)\n",
    "    ratings_R = np.dot(W_new, H_new)\n",
    "    df_P = pd.DataFrame(np.dot(W_new, H_new))    \n",
    "    #print(\"mf_gradientdescent:\\n\",df_P.head(),\"\\n\")\n",
    "\n",
    "    #####################################################\n",
    "    ## Compute your recommendations\n",
    "    #\n",
    "    # This is where your magic happens. Of course, you can call methods\n",
    "    # defined in this notebook or in external Python (.py) scripts\n",
    "    #\n",
    "\n",
    "    # Pairwise item similarity sim\n",
    "    row_mf = df_P.iloc[int(row.name)]\n",
    "    for i in range(len(ratings_R)):\n",
    "        similarity.append(cos_sim(row_mf, ratings_R[i]))\n",
    "\n",
    "    # insert & sort by similarity \n",
    "    df_result_tmp=df_init\n",
    "    df_result_tmp.insert(len(df_result_tmp.columns), 'similarity', similarity)\n",
    "    df_result_tmp = df_result_tmp.sort_values('similarity', ascending=False)\n",
    "    #print(\"Similarity Sorted with original data:\\n\",df_result_tmp.head(),\"\\n\")\n",
    "    \n",
    "    # get recommend row_id\n",
    "    for i in range(1,k+1):\n",
    "        row_id_sorted.append(df_result_tmp.index[i])\n",
    "    \n",
    "    # Here, we just return the input row k times\n",
    "    # Ideally, you recommendations will be much better\n",
    "    df_result = pd.DataFrame(df_init.iloc[row_id_sorted], index=None)\n",
    "        \n",
    "    # Return the dataset with the k recommendations\n",
    "    return df_result\n"
   ]
  },
  {
   "cell_type": "markdown",
   "id": "347d7765",
   "metadata": {},
   "source": [
    "## Testing the Recommendation Engine\n",
    "\n",
    "This will be the main part of your notebook to allow for testing your solutions. Most basically, for a given listing (defined by the row id in your input dataframe), we would like to see the recommendations you make. So however you set up your notebook, it should have at least a comparable section that will allow us to run your solution for different inputs.\n",
    "\n",
    "### Pick a Sample Listing as Input"
   ]
  },
  {
   "cell_type": "code",
   "execution_count": 9,
   "id": "8d6390d0",
   "metadata": {},
   "outputs": [
    {
     "data": {
      "text/html": [
       "<div>\n",
       "<style scoped>\n",
       "    .dataframe tbody tr th:only-of-type {\n",
       "        vertical-align: middle;\n",
       "    }\n",
       "\n",
       "    .dataframe tbody tr th {\n",
       "        vertical-align: top;\n",
       "    }\n",
       "\n",
       "    .dataframe thead th {\n",
       "        text-align: right;\n",
       "    }\n",
       "</style>\n",
       "<table border=\"1\" class=\"dataframe\">\n",
       "  <thead>\n",
       "    <tr style=\"text-align: right;\">\n",
       "      <th></th>\n",
       "      <th>listing_id</th>\n",
       "      <th>make</th>\n",
       "      <th>power</th>\n",
       "      <th>engine_cap</th>\n",
       "      <th>mileage</th>\n",
       "      <th>price</th>\n",
       "    </tr>\n",
       "  </thead>\n",
       "  <tbody>\n",
       "    <tr>\n",
       "      <th>10</th>\n",
       "      <td>1020216</td>\n",
       "      <td>honda</td>\n",
       "      <td>73.0</td>\n",
       "      <td>1317.0</td>\n",
       "      <td>22703.0</td>\n",
       "      <td>78000</td>\n",
       "    </tr>\n",
       "  </tbody>\n",
       "</table>\n",
       "</div>"
      ],
      "text/plain": [
       "    listing_id   make  power  engine_cap  mileage  price\n",
       "10     1020216  honda   73.0      1317.0  22703.0  78000"
      ]
     },
     "execution_count": 9,
     "metadata": {},
     "output_type": "execute_result"
    }
   ],
   "source": [
    "# Pick a row id of choice\n",
    "row_id = 10\n",
    "#row_id = 20\n",
    "#row_id = 30\n",
    "#row_id = 40\n",
    "#row_id = 50\n",
    "\n",
    "# Get the row from the dataframe (an valid row ids will throw an error)\n",
    "row = df_sample.iloc[row_id]\n",
    "\n",
    "# Just for printing it nicely, we create a new dataframe from this single row\n",
    "pd.DataFrame([row])"
   ]
  },
  {
   "cell_type": "markdown",
   "id": "f75dd2a4",
   "metadata": {},
   "source": [
    "## Compute and Display the recommendations\n",
    "\n",
    "Since the method `get_top_recommendations()` returns a `pd.DataFrame`, it's easy to display the result."
   ]
  },
  {
   "cell_type": "code",
   "execution_count": 10,
   "id": "7b1cd34c",
   "metadata": {
    "scrolled": false
   },
   "outputs": [
    {
     "name": "stdout",
     "output_type": "stream",
     "text": [
      "Loss: 1585.32569 \t 0%\n",
      "Loss: 11.45951 \t 10%\n",
      "Loss: 9.33004 \t 20%\n",
      "Loss: 9.06115 \t 30%\n",
      "Loss: 8.85863 \t 40%\n",
      "Loss: 8.68558 \t 50%\n",
      "Loss: 8.53675 \t 60%\n",
      "Loss: 8.40977 \t 70%\n",
      "Loss: 8.30075 \t 80%\n",
      "Loss: 8.20463 \t 90%\n",
      "Loss: 8.12490 \t 100%\n"
     ]
    },
    {
     "data": {
      "text/html": [
       "<div>\n",
       "<style scoped>\n",
       "    .dataframe tbody tr th:only-of-type {\n",
       "        vertical-align: middle;\n",
       "    }\n",
       "\n",
       "    .dataframe tbody tr th {\n",
       "        vertical-align: top;\n",
       "    }\n",
       "\n",
       "    .dataframe thead th {\n",
       "        text-align: right;\n",
       "    }\n",
       "</style>\n",
       "<table border=\"1\" class=\"dataframe\">\n",
       "  <thead>\n",
       "    <tr style=\"text-align: right;\">\n",
       "      <th></th>\n",
       "      <th>listing_id</th>\n",
       "      <th>make</th>\n",
       "      <th>power</th>\n",
       "      <th>engine_cap</th>\n",
       "      <th>mileage</th>\n",
       "      <th>price</th>\n",
       "      <th>similarity</th>\n",
       "    </tr>\n",
       "  </thead>\n",
       "  <tbody>\n",
       "    <tr>\n",
       "      <th>70</th>\n",
       "      <td>988825</td>\n",
       "      <td>nissan</td>\n",
       "      <td>85.0</td>\n",
       "      <td>1598.0</td>\n",
       "      <td>36868.0</td>\n",
       "      <td>78000</td>\n",
       "      <td>0.999296</td>\n",
       "    </tr>\n",
       "    <tr>\n",
       "      <th>85</th>\n",
       "      <td>1022601</td>\n",
       "      <td>honda</td>\n",
       "      <td>73.0</td>\n",
       "      <td>1339.0</td>\n",
       "      <td>NaN</td>\n",
       "      <td>51500</td>\n",
       "      <td>0.998969</td>\n",
       "    </tr>\n",
       "    <tr>\n",
       "      <th>59</th>\n",
       "      <td>1010728</td>\n",
       "      <td>honda</td>\n",
       "      <td>73.0</td>\n",
       "      <td>1318.0</td>\n",
       "      <td>29000.0</td>\n",
       "      <td>76400</td>\n",
       "      <td>0.998887</td>\n",
       "    </tr>\n",
       "  </tbody>\n",
       "</table>\n",
       "</div>"
      ],
      "text/plain": [
       "    listing_id    make  power  engine_cap  mileage  price  similarity\n",
       "70      988825  nissan   85.0      1598.0  36868.0  78000    0.999296\n",
       "85     1022601   honda   73.0      1339.0      NaN  51500    0.998969\n",
       "59     1010728   honda   73.0      1318.0  29000.0  76400    0.998887"
      ]
     },
     "execution_count": 10,
     "metadata": {},
     "output_type": "execute_result"
    }
   ],
   "source": [
    "k = 3\n",
    "\n",
    "df_recommendations = get_top_recommendations(row, k=k)\n",
    "\n",
    "df_recommendations.head(k)"
   ]
  },
  {
   "cell_type": "code",
   "execution_count": null,
   "id": "7b1a290b",
   "metadata": {},
   "outputs": [],
   "source": []
  }
 ],
 "metadata": {
  "kernelspec": {
   "display_name": "Python 3",
   "language": "python",
   "name": "python3"
  },
  "language_info": {
   "codemirror_mode": {
    "name": "ipython",
    "version": 3
   },
   "file_extension": ".py",
   "mimetype": "text/x-python",
   "name": "python",
   "nbconvert_exporter": "python",
   "pygments_lexer": "ipython3",
   "version": "3.8.8"
  }
 },
 "nbformat": 4,
 "nbformat_minor": 5
}
