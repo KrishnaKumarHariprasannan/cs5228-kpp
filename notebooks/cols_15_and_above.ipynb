{
 "cells": [
  {
   "cell_type": "markdown",
   "id": "d4472d8d-a9c3-488b-aeb2-a96694490478",
   "metadata": {},
   "source": [
    "## Imports"
   ]
  },
  {
   "cell_type": "code",
   "execution_count": null,
   "id": "6d89a6fc-755c-48dd-815c-7bbe5294b8d9",
   "metadata": {
    "tags": []
   },
   "outputs": [],
   "source": [
    "import sys\n",
    "\n",
    "sys.path.append(\"..\")"
   ]
  },
  {
   "cell_type": "code",
   "execution_count": null,
   "id": "026c0a3a-db0d-46c4-a405-0e872bade446",
   "metadata": {
    "tags": []
   },
   "outputs": [],
   "source": [
    "from datetime import datetime\n",
    "import logging\n",
    "import numpy as np\n",
    "import pandas as pd\n",
    "from sklearn import compose\n",
    "from sklearn.pipeline import Pipeline\n",
    "from sklearn.base import BaseEstimator, TransformerMixin\n",
    "from sklearn.impute import SimpleImputer\n",
    "from src.transformers import *"
   ]
  },
  {
   "cell_type": "markdown",
   "id": "67512efd-c8e3-4a63-9c90-d2ca8cb2cb82",
   "metadata": {},
   "source": [
    "## Load and segregate data "
   ]
  },
  {
   "cell_type": "code",
   "execution_count": null,
   "id": "9601e3bc-5892-4e5a-b24a-bc64557b36fc",
   "metadata": {
    "tags": []
   },
   "outputs": [],
   "source": [
    "# Read train data and set index\n",
    "train = pd.read_csv(\"../data/raw/train.csv\")\n",
    "train.set_index(\"listing_id\", inplace=True)\n",
    "train = train[~train.index.duplicated(keep=\"first\")]\n",
    "train.reset_index(inplace=True)\n",
    "\n",
    "# Read test data and set index\n",
    "test = pd.read_csv(\"../data/raw/test.csv\")\n",
    "# test.set_index(\"listing_id\", inplace=True)\n",
    "# NOTE: Do not remove duplicates in test as kaggle expects 5000 entries in the submission file\n",
    "# test = test[~test.index.duplicated(keep=\"first\")]\n",
    "\n",
    "# Set default logging level\n",
    "# Change to logging.INFO to see related output\n",
    "logging.basicConfig(level=logging.INFO, force=True)"
   ]
  },
  {
   "cell_type": "code",
   "execution_count": null,
   "id": "b6e4968c-b46a-4e4a-85d5-3bc2d53e700f",
   "metadata": {
    "tags": []
   },
   "outputs": [],
   "source": [
    "train[train.depreciation.isnull()]"
   ]
  },
  {
   "cell_type": "markdown",
   "id": "5619c4d1-0b17-44b8-bf5b-7ca5f58f3679",
   "metadata": {
    "tags": []
   },
   "source": [
    "## Columns Assigned\n",
    "\n",
    "- [x] coe\n",
    "- [x] dereg_value\n",
    "- [x] omv\n",
    "- [x] arf\n",
    "- [x] opc_scheme\n",
    "- [x] indicative_price\n",
    "- [x] price\n",
    "- [x] depreciation\n",
    "- [x] eco_category\n",
    "- [x] mileage\n",
    "- [x] road_tax\n",
    "- [x] lifespan\n",
    "- [x] features\n",
    "- [x] accessories"
   ]
  },
  {
   "cell_type": "markdown",
   "id": "d5d1afda-7220-4731-9306-a32b606a5c22",
   "metadata": {},
   "source": [
    "## Pre-defined Transformers"
   ]
  },
  {
   "cell_type": "code",
   "execution_count": null,
   "id": "de08ead5-2c97-4b24-a353-a1b1e4b7f180",
   "metadata": {
    "tags": []
   },
   "outputs": [],
   "source": [
    "def get_make_from_title(make_list, title):\n",
    "    title = title.split(\" \")\n",
    "    for i in range(len(title)):\n",
    "        if \" \".join(title[0 : i + 1]) in make_list:\n",
    "            return \" \".join(title[0 : i + 1])\n",
    "    return \"unknwon\"\n",
    "\n",
    "\n",
    "class CommonPreProcessing(BaseEstimator, TransformerMixin):\n",
    "    def __init__(self):\n",
    "        self.make_list = []\n",
    "        pass\n",
    "\n",
    "    def fit(self, df):\n",
    "        self.make_list = df.make.unique()\n",
    "        return self\n",
    "\n",
    "    def transform(self, df):\n",
    "        df.loc[:, \"reg_date\"] = np.where(\n",
    "            df[\"reg_date\"].isnull(), df[\"original_reg_date\"], df[\"reg_date\"]\n",
    "        )\n",
    "        df.loc[:, \"reg_date\"] = pd.to_datetime(df.reg_date)\n",
    "        df.loc[:, \"reg_date_year\"] = df.loc[:, \"reg_date\"].dt.year\n",
    "        df.loc[:, \"reg_date_month\"] = (\n",
    "            datetime.now() - df.loc[:, \"reg_date\"]\n",
    "        ) / np.timedelta64(1, \"M\")\n",
    "        df.loc[:, \"no_of_owners\"] = df[\"no_of_owners\"].fillna(1)\n",
    "        df.loc[:, \"title\"] = df[\"title\"].str.lower()\n",
    "        df.loc[:, \"make\"] = df.apply(\n",
    "            lambda row: get_make_from_title(self.make_list, row[\"title\"])\n",
    "            if pd.isnull(row[\"make\"])\n",
    "            else row[\"make\"],\n",
    "            axis=1,\n",
    "        )\n",
    "        df.loc[:, \"make_model\"] = df.make + \"-\" + \"df.model\"\n",
    "        return df"
   ]
  },
  {
   "cell_type": "markdown",
   "id": "0f8ac718-251e-4be4-a07e-bcb35af60c43",
   "metadata": {},
   "source": [
    "## Custom Transformer Definitions"
   ]
  },
  {
   "cell_type": "code",
   "execution_count": null,
   "id": "d3fa54e4-bed6-47f6-9048-ad3d739714fb",
   "metadata": {
    "tags": []
   },
   "outputs": [],
   "source": [
    "pipeline_for_columns_15_and_above = Pipeline(\n",
    "    steps=[\n",
    "        (\"common_ops\", CommonPreProcessing()),\n",
    "        (\"coe_start_date\", CoeStartDateFeatureCreator()),\n",
    "    ])\n"
   ]
  },
  {
   "cell_type": "code",
   "execution_count": null,
   "id": "6407184b-6cc5-410c-9da6-bd87b688a287",
   "metadata": {
    "tags": []
   },
   "outputs": [],
   "source": [
    "pipeline_for_columns_15_and_above = Pipeline(\n",
    "    steps=[\n",
    "        (\"common_ops\", CommonPreProcessing()),\n",
    "        (\"coe_start_date\", CoeStartDateFeatureCreator()),\n",
    "        (\"vehicle_age\", AgeFeatureCreator()),\n",
    "        (\n",
    "            \"omv\",\n",
    "            HierarchicalGroupImputer(\n",
    "                \"omv\",\n",
    "                [[\"make\", \"model\", \"vehicle_age\"], [\"make\", \"model\"]],\n",
    "                \"mean\",\n",
    "                True,\n",
    "            ),\n",
    "        ),\n",
    "        (\"coe\", CoeTransformer()),\n",
    "        (\"arf\", ArfTransformer()),\n",
    "        (\"parf\", ParfFeatureCreator()),\n",
    "        (\"coe_rebate\", CoeRebateFeatureCreator()),\n",
    "        (\"dereg_value_computed\", DeregValueComputedFeatureCreator()),\n",
    "        (\"dereg_value\", DeregValueTransformer()),\n",
    "        (\n",
    "            \"mileage\",\n",
    "            HierarchicalGroupImputer(\n",
    "                \"mileage\",\n",
    "                [[\"make\", \"model\", \"vehicle_age\"], [\"vehicle_age\"]],\n",
    "                \"mean\",\n",
    "                True,\n",
    "            ),\n",
    "        ),\n",
    "        (\n",
    "            \"vehicle_age_bins\",\n",
    "            ColumnValuesToCategory(\n",
    "                \"vehicle_age\",\n",
    "                \"vehicle_age_bins\",\n",
    "                [0, 10, 20, 35, 50, np.inf],\n",
    "                [\"0-10\", \"10-20\", \"20-35\", \"35-50\", \">50\"],\n",
    "            ),\n",
    "        ),\n",
    "        # Ideally, depreciation should be (price - parf) / no_of_coe_years_left\n",
    "        #         modified_x.loc[depreciation_mask, \"depreciation\"] = (\n",
    "        #             X.loc[depreciation_mask, \"price\"] - X.loc[depreciation_mask, \"parf\"]\n",
    "        #         ) / 10\n",
    "        # But this depends on price which is unavailable for test dataset so we resort to\n",
    "        # using the mean of the below hierarchies\n",
    "        (\n",
    "            \"depreciation\",\n",
    "            HierarchicalGroupImputer(\n",
    "                \"depreciation\",\n",
    "                [\n",
    "                    [\"make\", \"model\", \"vehicle_age_bins\"],\n",
    "                    [\"make\", \"vehicle_age_bins\"],\n",
    "                    [\"vehicle_age_bins\"],\n",
    "                    [\"make\"],\n",
    "                ],\n",
    "                \"mean\",\n",
    "                True,\n",
    "            ),\n",
    "        ),\n",
    "        (\"opc_scheme\", OpcSchemeTransformer()),\n",
    "        (\n",
    "            \"convert_value_to_category\",\n",
    "            ColumnValuesToCategory(\n",
    "                \"engine_cap\",\n",
    "                \"engine_cap_range\",\n",
    "                [0, 600, 1000, 1600, 3000, np.inf],\n",
    "                [\n",
    "                    \"EC<=600 cc\",\n",
    "                    \"600 cc < EC <= 1000 cc \",\n",
    "                    \"1000 cc < EC <= 1600 cc\",\n",
    "                    \"1600 cc < EC <= 3000 cc\",\n",
    "                    \"EC > 3000 cc\",\n",
    "                ],\n",
    "            ),\n",
    "        ),\n",
    "        (\n",
    "            \"road_tax\",\n",
    "            HierarchicalGroupImputer(\n",
    "                \"road_tax\",\n",
    "                [\n",
    "                    [\"engine_cap_range\", \"opc_scheme\", \"vehicle_age\", \"fuel_type\"],\n",
    "                    [\"engine_cap_range\", \"opc_scheme\"],\n",
    "                    [\"opc_scheme\"],\n",
    "                ],\n",
    "                \"mean\",\n",
    "                True,\n",
    "            ),\n",
    "        ),\n",
    "        (\"lifespan_restriction\", LifespanRestrictionFeatureCreator()),\n",
    "        (\n",
    "            \"features_count\",\n",
    "            CountUniqueItemsFeatureCreator(\"features\", \"features_count\"),\n",
    "        ),\n",
    "        (\n",
    "            \"accessories_count\",\n",
    "            CountUniqueItemsFeatureCreator(\"accessories\", \"accessories_count\"),\n",
    "        ),\n",
    "    ]\n",
    ")"
   ]
  },
  {
   "cell_type": "code",
   "execution_count": null,
   "id": "85daeda7-56b8-4357-b31f-9bfffe6e0825",
   "metadata": {
    "tags": []
   },
   "outputs": [],
   "source": [
    "cleaned_train = pipeline_for_columns_15_and_above.fit_transform(train)\n",
    "print(train.shape, cleaned_train.shape)\n",
    "cleaned_train.head()"
   ]
  },
  {
   "cell_type": "code",
   "execution_count": null,
   "id": "3bbeb3ad-1fa7-4692-8c8d-be324a6b9233",
   "metadata": {
    "tags": []
   },
   "outputs": [],
   "source": [
    "cleaned_test = pipeline_for_columns_15_and_above.transform(test)\n",
    "print(test.shape, cleaned_test.shape)\n",
    "cleaned_test.head()"
   ]
  }
 ],
 "metadata": {
  "kernelspec": {
   "display_name": "Python 3 (ipykernel)",
   "language": "python",
   "name": "python3"
  },
  "language_info": {
   "codemirror_mode": {
    "name": "ipython",
    "version": 3
   },
   "file_extension": ".py",
   "mimetype": "text/x-python",
   "name": "python",
   "nbconvert_exporter": "python",
   "pygments_lexer": "ipython3",
   "version": "3.9.5"
  }
 },
 "nbformat": 4,
 "nbformat_minor": 5
}
