{
 "cells": [
  {
   "cell_type": "markdown",
   "id": "97ead614-6bd4-4098-8bb4-65cf9cbbcb91",
   "metadata": {
    "execution": {
     "iopub.execute_input": "2021-11-08T16:31:42.326451Z",
     "iopub.status.busy": "2021-11-08T16:31:42.326082Z",
     "iopub.status.idle": "2021-11-08T16:31:42.430629Z",
     "shell.execute_reply": "2021-11-08T16:31:42.429829Z",
     "shell.execute_reply.started": "2021-11-08T16:31:42.326374Z"
    },
    "tags": []
   },
   "source": [
    "## The below scrapes the coe expiry information and persists the same in `../data/raw/` folder\n",
    "\n",
    "Practice caution before you run this as it contains computation-heavy operations and could slow down your system"
   ]
  },
  {
   "cell_type": "markdown",
   "id": "1408c5b7-7830-4c5e-849b-27e3aae6eb28",
   "metadata": {},
   "source": [
    "**Note:** The below requires the **dask** which you can get from conda/pip"
   ]
  },
  {
   "cell_type": "code",
   "execution_count": null,
   "id": "4f6199ee-9028-470c-946b-09d782a104ea",
   "metadata": {
    "tags": []
   },
   "outputs": [],
   "source": [
    "%load_ext jupyterlab_notify"
   ]
  },
  {
   "cell_type": "code",
   "execution_count": null,
   "id": "a2db6378-d5b9-4fb7-8cab-66d313fea862",
   "metadata": {},
   "outputs": [],
   "source": [
    "%%notify\n",
    "\n",
    "import requests\n",
    "import dask\n",
    "\n",
    "from tqdm import tqdm\n",
    "from bs4 import BeautifulSoup\n",
    "from dask.distributed import Client\n",
    "\n",
    "\n",
    "client = Client(serializers=[\"dask\", \"pickle\"], deserializers=[\"dask\", \"msgpack\"])\n",
    "client.cluster.scale(10)\n",
    "\n",
    "\n",
    "def scrape_coe_left(listing_id):\n",
    "\n",
    "    logging.info(\n",
    "        f\"CoeStartDateFeatureCreator - scraping sgcarmart for listing_id - {listing_id}\"\n",
    "    )\n",
    "\n",
    "    response = requests.get(\n",
    "        f\"https://www.sgcarmart.com/used_cars/info.php?ID={listing_id}\"\n",
    "    )\n",
    "    try:\n",
    "        soup = BeautifulSoup(response.text, features=\"html.parser\")\n",
    "        result = soup.find(id=\"carInfo\").contents[3].contents[-2].contents[-1]\n",
    "    except AttributeError as e:\n",
    "        result = \"\"\n",
    "\n",
    "    return (listing_id, result)\n"
   ]
  },
  {
   "cell_type": "code",
   "execution_count": null,
   "id": "aeb25285-7b97-47ad-99a8-48c74f9e39a9",
   "metadata": {},
   "outputs": [],
   "source": [
    "futures = []\n",
    "for listing_id in tqdm(test.index):\n",
    "    future = client.submit(scrape_coe_left, listing_id)\n",
    "    futures.append(future)\n",
    "\n",
    "test_results = client.gather(futures, errors=\"skip\")\n",
    "coe_text_info = pd.DataFrame(test_results, columns=[\"listing_id\", \"coe_text\"])\n",
    "coe_text_info.set_index(\"listing_id\", inplace=True)\n",
    "coe_text_info.to_csv(\"../data/raw/test_coe_text.csv\")\n",
    "\n",
    "futures = []\n",
    "for listing_id in tqdm(train.index):\n",
    "    future = client.submit(scrape_coe_left, listing_id)\n",
    "    futures.append(future)\n",
    "\n",
    "train_results = client.gather(futures, errors=\"skip\")\n",
    "coe_text_info = pd.DataFrame(train_results, columns=[\"listing_id\", \"coe_text\"])\n",
    "coe_text_info.set_index(\"listing_id\", inplace=True)\n",
    "coe_text_info.to_csv(\"../data/raw/train_coe_text.csv\")"
   ]
  },
  {
   "cell_type": "code",
   "execution_count": null,
   "id": "72662433-762b-4ff0-9e50-63c02b71842e",
   "metadata": {},
   "outputs": [],
   "source": [
    "client.shutdown()"
   ]
  }
 ],
 "metadata": {
  "kernelspec": {
   "display_name": "Python 3 (ipykernel)",
   "language": "python",
   "name": "python3"
  },
  "language_info": {
   "codemirror_mode": {
    "name": "ipython",
    "version": 3
   },
   "file_extension": ".py",
   "mimetype": "text/x-python",
   "name": "python",
   "nbconvert_exporter": "python",
   "pygments_lexer": "ipython3",
   "version": "3.9.5"
  }
 },
 "nbformat": 4,
 "nbformat_minor": 5
}
