{
 "cells": [
  {
   "cell_type": "code",
   "execution_count": 1,
   "id": "af6c0916-6789-4029-825a-88d12550b424",
   "metadata": {
    "execution": {
     "iopub.execute_input": "2021-11-13T18:03:44.525703Z",
     "iopub.status.busy": "2021-11-13T18:03:44.525140Z",
     "iopub.status.idle": "2021-11-13T18:03:45.164402Z",
     "shell.execute_reply": "2021-11-13T18:03:45.163503Z",
     "shell.execute_reply.started": "2021-11-13T18:03:44.525633Z"
    },
    "tags": []
   },
   "outputs": [],
   "source": [
    "import pandas as pd\n",
    "import ipywidgets as widgets"
   ]
  },
  {
   "cell_type": "code",
   "execution_count": 2,
   "id": "fca69951-2346-4e07-98de-e64db21a16aa",
   "metadata": {
    "execution": {
     "iopub.execute_input": "2021-11-13T18:03:45.165891Z",
     "iopub.status.busy": "2021-11-13T18:03:45.165531Z",
     "iopub.status.idle": "2021-11-13T18:03:45.229700Z",
     "shell.execute_reply": "2021-11-13T18:03:45.228632Z",
     "shell.execute_reply.started": "2021-11-13T18:03:45.165864Z"
    }
   },
   "outputs": [
    {
     "data": {
      "text/html": [
       "<script>\n",
       "code_show=true; \n",
       "function code_toggle() {\n",
       " if (code_show){\n",
       " $('div.input').hide();\n",
       " } else {\n",
       " $('div.input').show();\n",
       " }\n",
       " code_show = !code_show\n",
       "} \n",
       "$( document ).ready(code_toggle);\n",
       "</script>\n",
       "<form action=\"javascript:code_toggle()\"><input type=\"submit\" value=\"Toggle Code\"></form>"
      ],
      "text/plain": [
       "<IPython.core.display.HTML object>"
      ]
     },
     "execution_count": 2,
     "metadata": {},
     "output_type": "execute_result"
    }
   ],
   "source": [
    "from IPython.display import HTML\n",
    "\n",
    "HTML(\n",
    "    \"\"\"<script>\n",
    "code_show=true; \n",
    "function code_toggle() {\n",
    " if (code_show){\n",
    " $('div.input').hide();\n",
    " } else {\n",
    " $('div.input').show();\n",
    " }\n",
    " code_show = !code_show\n",
    "} \n",
    "$( document ).ready(code_toggle);\n",
    "</script>\n",
    "<form action=\"javascript:code_toggle()\"><input type=\"submit\" value=\"Toggle Code\"></form>\"\"\"\n",
    ")"
   ]
  },
  {
   "cell_type": "code",
   "execution_count": 3,
   "id": "fb3194c0",
   "metadata": {
    "execution": {
     "iopub.execute_input": "2021-11-13T18:03:45.233140Z",
     "iopub.status.busy": "2021-11-13T18:03:45.232697Z",
     "iopub.status.idle": "2021-11-13T18:03:45.243463Z",
     "shell.execute_reply": "2021-11-13T18:03:45.242720Z",
     "shell.execute_reply.started": "2021-11-13T18:03:45.233116Z"
    }
   },
   "outputs": [
    {
     "data": {
      "text/html": [
       "<style>.container { width:100% !important; }</style>"
      ],
      "text/plain": [
       "<IPython.core.display.HTML object>"
      ]
     },
     "metadata": {},
     "output_type": "display_data"
    }
   ],
   "source": [
    "from IPython.core.display import display, HTML\n",
    "display(HTML(\"<style>.container { width:100% !important; }</style>\"))"
   ]
  },
  {
   "cell_type": "code",
   "execution_count": 4,
   "id": "05382251-ef15-42dd-889f-2abbb2847477",
   "metadata": {
    "execution": {
     "iopub.execute_input": "2021-11-13T18:03:45.245270Z",
     "iopub.status.busy": "2021-11-13T18:03:45.245005Z",
     "iopub.status.idle": "2021-11-13T18:03:45.497337Z",
     "shell.execute_reply": "2021-11-13T18:03:45.496491Z",
     "shell.execute_reply.started": "2021-11-13T18:03:45.245249Z"
    }
   },
   "outputs": [],
   "source": [
    "data = pd.read_csv(\"../data/processed/train.csv\", sep=\",\")\n",
    "\n",
    "def get_user_recoms(price, depreciation, vehicle_type, top_n):\n",
    "    return data[:top_n]\n",
    "\n",
    "def get_similar_items(listing_id, top_n=10):\n",
    "    return data[:top_n]"
   ]
  },
  {
   "cell_type": "code",
   "execution_count": 5,
   "id": "e114a46e-fb7b-4e25-b870-35f6e1aa54d6",
   "metadata": {
    "execution": {
     "iopub.execute_input": "2021-11-13T18:03:45.498771Z",
     "iopub.status.busy": "2021-11-13T18:03:45.498444Z",
     "iopub.status.idle": "2021-11-13T18:03:45.511459Z",
     "shell.execute_reply": "2021-11-13T18:03:45.510661Z",
     "shell.execute_reply.started": "2021-11-13T18:03:45.498745Z"
    },
    "tags": []
   },
   "outputs": [],
   "source": [
    "SELECT = \"Select\"\n",
    "price_ranges = [\n",
    "    SELECT,\n",
    "    \"Below $10,000\",\n",
    "    \"$10,001 to $20,000\",\n",
    "    \"$20,001 to $30,000\",\n",
    "    \"$30,001 to $40,000\",\n",
    "    \"$40,001 to $50,000\",\n",
    "    \"$50,001 to $60,000\",\n",
    "    \"$60,001 to $70,000\",\n",
    "    \"$70,001 to $80,000\",\n",
    "    \"$80,001 to $100,000\",\n",
    "    \"$100,001 to $120,000\",\n",
    "    \"$120,001 to $140,000\",\n",
    "    \"$140,001 to $160,000\",\n",
    "    \"$160,001 to $180,000\",\n",
    "    \"$180,001 to $200,000\",\n",
    "    \"Above $200,000\",\n",
    "]\n",
    "depreciation_ranges = [\n",
    "    SELECT,\n",
    "    \"Below $10k /yr\",\n",
    "    \"$10k to $11k /yr\",\n",
    "    \"$11k to $12k /yr\",\n",
    "    \"$12k to $13k /yr\",\n",
    "    \"$13k to $14k /yr\",\n",
    "    \"$14k to $16k /yr\",\n",
    "    \"$16k to $18k /yr\",\n",
    "    \"$18k to $20k /yr\",\n",
    "    \"$20k to $25k /yr\",\n",
    "    \"Above $25k /yr\",\n",
    "]\n",
    "type_of_vehicle_ranges = [\n",
    "    SELECT,\n",
    "    \"sports car\",\n",
    "    \"luxury sedan\",\n",
    "    \"suv\",\n",
    "    \"hatchback\",\n",
    "    \"mid-sized sedan\",\n",
    "    \"stationwagon\",\n",
    "    \"mpv\",\n",
    "    \"bus/mini bus\",\n",
    "    \"truck\",\n",
    "    \"others\",\n",
    "    \"van\",\n",
    "]\n",
    "top_n_values = [5, 10, 20, 50]"
   ]
  },
  {
   "cell_type": "code",
   "execution_count": 6,
   "id": "65bc00e7-855b-4ab5-9c30-fb115833c6b2",
   "metadata": {
    "execution": {
     "iopub.execute_input": "2021-11-13T18:03:45.513031Z",
     "iopub.status.busy": "2021-11-13T18:03:45.512755Z",
     "iopub.status.idle": "2021-11-13T18:03:45.633874Z",
     "shell.execute_reply": "2021-11-13T18:03:45.633093Z",
     "shell.execute_reply.started": "2021-11-13T18:03:45.513010Z"
    },
    "tags": []
   },
   "outputs": [],
   "source": [
    "from bs4 import BeautifulSoup\n",
    "import requests\n",
    "\n",
    "\n",
    "def get_car_thumbnail_url(listing_id):\n",
    "\n",
    "    response = requests.get(\n",
    "        f\"https://www.sgcarmart.com/used_cars/info.php?ID={listing_id}\"\n",
    "    )\n",
    "    try:\n",
    "        soup = BeautifulSoup(response.text, features=\"html.parser\")\n",
    "        image_thumbnail = soup.find(id=\"gallery\").contents[0].find(\"img\").attrs[\"src\"]\n",
    "    except Exception as e:\n",
    "        image_thumbnail = None\n",
    "\n",
    "    return image_thumbnail\n",
    "\n",
    "\n",
    "def construct_user_result_table(df_row):\n",
    "    img_url = get_car_thumbnail_url(df_row.listing_id)\n",
    "    return widgets.HTML(\n",
    "        f\"\"\"\n",
    "    <table>\n",
    "        <tbody>\n",
    "            <tr>\n",
    "                <td></td>\n",
    "                <td><b>{df_row.title.title()} </b></td>\n",
    "                <td></td>\n",
    "                <td></td>\n",
    "            </tr>\n",
    "            <tr>\n",
    "                <td> <img src=\"{img_url}\" style=\"height: 150px; width:200px\"/> </td>\n",
    "                <td></td>\n",
    "                <td><b>Listing ID</b></td>\n",
    "                <td>{df_row.listing_id}</td>\n",
    "            </tr>\n",
    "            <tr>\n",
    "                <td><b>Price</b></td>\n",
    "                <td style=\"color: red\">{df_row.price}</td>\n",
    "                <td><b>Depreciation</b></td>\n",
    "                <td>{df_row.depreciation}</td>\n",
    "            </tr>\n",
    "            <tr>\n",
    "                <td><b>Vehicle Type</b></td>\n",
    "                <td>{df_row.type_of_vehicle.title()}</td>\n",
    "                <td><b>Dereg Value</b></td>\n",
    "                <td>{df_row.dereg_value}</td>\n",
    "            </tr>\n",
    "        </tbody>\n",
    "    </table>\n",
    "    \"\"\"\n",
    "    )\n"
   ]
  },
  {
   "cell_type": "code",
   "execution_count": 7,
   "id": "aa3ec8e2-5f13-4dc3-945c-87f27aa52030",
   "metadata": {
    "execution": {
     "iopub.execute_input": "2021-11-13T18:03:45.635027Z",
     "iopub.status.busy": "2021-11-13T18:03:45.634768Z",
     "iopub.status.idle": "2021-11-13T18:03:45.710037Z",
     "shell.execute_reply": "2021-11-13T18:03:45.709312Z",
     "shell.execute_reply.started": "2021-11-13T18:03:45.635005Z"
    },
    "tags": []
   },
   "outputs": [],
   "source": [
    "price_widget = widgets.Dropdown(\n",
    "    options=price_ranges, description=\"Price Range\", disabled=False,\n",
    ")\n",
    "depreciation_widget = widgets.Dropdown(\n",
    "    options=depreciation_ranges, description=\"Depreciation Range\", disabled=False,\n",
    ")\n",
    "depreciation_widget.style.description_width = \"120px\"\n",
    "vehicle_type_widget = widgets.Dropdown(\n",
    "    options=type_of_vehicle_ranges, description=\"Vehicle Type\", disabled=False,\n",
    ")\n",
    "top_n_widget = widgets.Dropdown(\n",
    "    options=top_n_values, description=\"Show Top n Results\", disabled=False,\n",
    ")\n",
    "top_n_widget.style.description_width = \"120px\"\n",
    "filter_widgets = widgets.HBox([price_widget, depreciation_widget, vehicle_type_widget, top_n_widget])\n",
    "\n",
    "show_results_btn = widgets.Button(description=\"Find Cars\", button_style=\"info\",)\n",
    "\n",
    "center_contents = widgets.VBox([filter_widgets, widgets.HTML(\"<br>\"), show_results_btn, widgets.HTML(\"<hr>\")])\n",
    "results_area = widgets.Output()"
   ]
  },
  {
   "cell_type": "code",
   "execution_count": 8,
   "id": "87870315-46fc-4a27-bd56-3bf76f68113b",
   "metadata": {
    "execution": {
     "iopub.execute_input": "2021-11-13T18:03:45.712095Z",
     "iopub.status.busy": "2021-11-13T18:03:45.711729Z",
     "iopub.status.idle": "2021-11-13T18:03:45.733161Z",
     "shell.execute_reply": "2021-11-13T18:03:45.732553Z",
     "shell.execute_reply.started": "2021-11-13T18:03:45.712068Z"
    },
    "tags": []
   },
   "outputs": [],
   "source": [
    "def process_on_click(btn):\n",
    "    price = price_widget.value\n",
    "    depreciation = depreciation_widget.value\n",
    "    vehicle_type = vehicle_type_widget.value\n",
    "    top_n = top_n_widget.value\n",
    "\n",
    "    results_area.clear_output()\n",
    "    \n",
    "    if (price == SELECT) and (depreciation == SELECT) and (vehicle_type == SELECT):\n",
    "        with results_area:\n",
    "            display(widgets.Label(\"Please select at least one of Price, Depreciation or Vehicle Type\"))\n",
    "        return\n",
    "    \n",
    "    user_result_area = widgets.Output()\n",
    "    similar_items_area = widgets.Output()\n",
    "    user_df = get_user_recoms(price, depreciation, vehicle_type, top_n)\n",
    "    \n",
    "    def populate_similar_result_area(btn):\n",
    "        similar_items_area.clear_output()\n",
    "        listing_id = int(btn.tooltip)\n",
    "        similar_items_df =  get_similar_items(listing_id)\n",
    "        similar_items = []\n",
    "        for _,row in similar_items_df.iterrows():\n",
    "            tbl = construct_user_result_table(row)\n",
    "            similar_items.append(tbl)\n",
    "\n",
    "        with similar_items_area:\n",
    "            display(widgets.VBox(similar_items))\n",
    "\n",
    "    user_results = []\n",
    "    for _,row in user_df.iterrows():\n",
    "        tbl = construct_user_result_table(row)\n",
    "        show_similar_btn = widgets.Button(description=\"Show Similar\", button_style=\"info\", tooltip=str(row.listing_id))\n",
    "        show_similar_btn.on_click(populate_similar_result_area)\n",
    "        user_results.append(widgets.VBox([tbl, show_similar_btn]))\n",
    "    \n",
    "    \n",
    "    with results_area:\n",
    "        display(widgets.HBox([user_result_area, similar_items_area]))\n",
    "        \n",
    "    with user_result_area:\n",
    "        display(widgets.VBox(user_results))\n",
    "    \n",
    "\n",
    "show_results_btn.on_click(process_on_click)"
   ]
  },
  {
   "cell_type": "code",
   "execution_count": 9,
   "id": "6b3d7671-d034-451c-9b8e-3a3ade4bf43f",
   "metadata": {
    "execution": {
     "iopub.execute_input": "2021-11-13T18:03:45.734574Z",
     "iopub.status.busy": "2021-11-13T18:03:45.734241Z",
     "iopub.status.idle": "2021-11-13T18:03:45.761728Z",
     "shell.execute_reply": "2021-11-13T18:03:45.760964Z",
     "shell.execute_reply.started": "2021-11-13T18:03:45.734552Z"
    },
    "tags": []
   },
   "outputs": [
    {
     "data": {
      "application/vnd.jupyter.widget-view+json": {
       "model_id": "2916e48e91a242c6a4dab49cb0a236a9",
       "version_major": 2,
       "version_minor": 0
      },
      "text/plain": [
       "VBox(children=(HTML(value='<h1> Find your next car</h1><h4>Powered by Team Knowledge++</h4>'), VBox(children=(…"
      ]
     },
     "metadata": {},
     "output_type": "display_data"
    }
   ],
   "source": [
    "widgets.VBox([widgets.HTML(\"<h1> Find your next car</h1><h4>Powered by Team Knowledge++</h4>\"), center_contents, results_area])"
   ]
  }
 ],
 "metadata": {
  "kernelspec": {
   "display_name": "Python 3 (ipykernel)",
   "language": "python",
   "name": "python3"
  },
  "language_info": {
   "codemirror_mode": {
    "name": "ipython",
    "version": 3
   },
   "file_extension": ".py",
   "mimetype": "text/x-python",
   "name": "python",
   "nbconvert_exporter": "python",
   "pygments_lexer": "ipython3",
   "version": "3.9.5"
  }
 },
 "nbformat": 4,
 "nbformat_minor": 5
}
